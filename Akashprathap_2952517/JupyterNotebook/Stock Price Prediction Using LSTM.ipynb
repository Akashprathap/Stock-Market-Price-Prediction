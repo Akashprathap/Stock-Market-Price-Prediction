{
 "cells": [
  {
   "cell_type": "markdown",
   "metadata": {},
   "source": [
    "# STOCK MARKET PRICE PREDICTION USING LSTM"
   ]
  },
  {
   "cell_type": "code",
   "execution_count": 1,
   "metadata": {},
   "outputs": [
    {
     "name": "stdout",
     "output_type": "stream",
     "text": [
      "3.7.6 (default, Jan  8 2020, 20:23:39) [MSC v.1916 64 bit (AMD64)]\n",
      "C:\\Users\\akash\\anaconda3\\python.exe\n"
     ]
    }
   ],
   "source": [
    "#import System Parameters and function\n",
    "import sys\n",
    "print (sys.version)\n",
    "print(sys.executable)"
   ]
  },
  {
   "cell_type": "markdown",
   "metadata": {},
   "source": [
    "## 1.Federal Bank"
   ]
  },
  {
   "cell_type": "markdown",
   "metadata": {},
   "source": [
    "### Importing Libraries"
   ]
  },
  {
   "cell_type": "code",
   "execution_count": 2,
   "metadata": {},
   "outputs": [
    {
     "name": "stderr",
     "output_type": "stream",
     "text": [
      "Using TensorFlow backend.\n"
     ]
    }
   ],
   "source": [
    "#importing libraries\n",
    "\n",
    "import pandas as pd\n",
    "import numpy as np\n",
    "\n",
    "import matplotlib\n",
    "import matplotlib.pyplot as plt\n",
    "import matplotlib.dates as mdates\n",
    "\n",
    "%matplotlib inline\n",
    "\n",
    "from sklearn import linear_model\n",
    "from keras.layers import LSTM,Dense,Dropout\n",
    "from sklearn.preprocessing import MinMaxScaler\n",
    "from sklearn.metrics import mean_squared_error, r2_score\n",
    "from sklearn.model_selection import TimeSeriesSplit\n"
   ]
  },
  {
   "cell_type": "markdown",
   "metadata": {},
   "source": [
    "### Reading Data using Parse Date\n",
    "#### As it is timeseries data so we have to read the data by parsing date means making data column as index."
   ]
  },
  {
   "cell_type": "code",
   "execution_count": 3,
   "metadata": {},
   "outputs": [
    {
     "data": {
      "text/html": [
       "<div>\n",
       "<style scoped>\n",
       "    .dataframe tbody tr th:only-of-type {\n",
       "        vertical-align: middle;\n",
       "    }\n",
       "\n",
       "    .dataframe tbody tr th {\n",
       "        vertical-align: top;\n",
       "    }\n",
       "\n",
       "    .dataframe thead th {\n",
       "        text-align: right;\n",
       "    }\n",
       "</style>\n",
       "<table border=\"1\" class=\"dataframe\">\n",
       "  <thead>\n",
       "    <tr style=\"text-align: right;\">\n",
       "      <th></th>\n",
       "      <th>Open</th>\n",
       "      <th>High</th>\n",
       "      <th>Low</th>\n",
       "      <th>Close</th>\n",
       "      <th>Adj Close</th>\n",
       "      <th>Volume</th>\n",
       "    </tr>\n",
       "    <tr>\n",
       "      <th>Date</th>\n",
       "      <th></th>\n",
       "      <th></th>\n",
       "      <th></th>\n",
       "      <th></th>\n",
       "      <th></th>\n",
       "      <th></th>\n",
       "    </tr>\n",
       "  </thead>\n",
       "  <tbody>\n",
       "    <tr>\n",
       "      <th>2010-01-04</th>\n",
       "      <td>23.770000</td>\n",
       "      <td>23.795</td>\n",
       "      <td>23.379999</td>\n",
       "      <td>23.580000</td>\n",
       "      <td>8.429377</td>\n",
       "      <td>724800</td>\n",
       "    </tr>\n",
       "    <tr>\n",
       "      <th>2010-01-05</th>\n",
       "      <td>23.900000</td>\n",
       "      <td>24.170</td>\n",
       "      <td>23.650000</td>\n",
       "      <td>23.920000</td>\n",
       "      <td>8.550918</td>\n",
       "      <td>1556550</td>\n",
       "    </tr>\n",
       "    <tr>\n",
       "      <th>2010-01-06</th>\n",
       "      <td>24.190001</td>\n",
       "      <td>24.650</td>\n",
       "      <td>24.100000</td>\n",
       "      <td>24.379999</td>\n",
       "      <td>8.715360</td>\n",
       "      <td>1034000</td>\n",
       "    </tr>\n",
       "    <tr>\n",
       "      <th>2010-01-07</th>\n",
       "      <td>24.610001</td>\n",
       "      <td>24.990</td>\n",
       "      <td>24.405001</td>\n",
       "      <td>24.565001</td>\n",
       "      <td>8.781491</td>\n",
       "      <td>1360420</td>\n",
       "    </tr>\n",
       "    <tr>\n",
       "      <th>2010-01-08</th>\n",
       "      <td>24.790001</td>\n",
       "      <td>25.100</td>\n",
       "      <td>24.605000</td>\n",
       "      <td>24.760000</td>\n",
       "      <td>8.851200</td>\n",
       "      <td>1886220</td>\n",
       "    </tr>\n",
       "  </tbody>\n",
       "</table>\n",
       "</div>"
      ],
      "text/plain": [
       "                 Open    High        Low      Close  Adj Close   Volume\n",
       "Date                                                                   \n",
       "2010-01-04  23.770000  23.795  23.379999  23.580000   8.429377   724800\n",
       "2010-01-05  23.900000  24.170  23.650000  23.920000   8.550918  1556550\n",
       "2010-01-06  24.190001  24.650  24.100000  24.379999   8.715360  1034000\n",
       "2010-01-07  24.610001  24.990  24.405001  24.565001   8.781491  1360420\n",
       "2010-01-08  24.790001  25.100  24.605000  24.760000   8.851200  1886220"
      ]
     },
     "execution_count": 3,
     "metadata": {},
     "output_type": "execute_result"
    }
   ],
   "source": [
    "df_final = pd.read_csv(\"D://Dataset//FEDERALBNK.BO.csv\",na_values=['null'],index_col='Date',parse_dates=True,infer_datetime_format=True)\n",
    "df_final.head()"
   ]
  },
  {
   "cell_type": "code",
   "execution_count": 4,
   "metadata": {},
   "outputs": [
    {
     "data": {
      "text/plain": [
       "(2461, 6)"
      ]
     },
     "execution_count": 4,
     "metadata": {},
     "output_type": "execute_result"
    }
   ],
   "source": [
    "df_final.shape"
   ]
  },
  {
   "cell_type": "code",
   "execution_count": 5,
   "metadata": {},
   "outputs": [
    {
     "data": {
      "text/html": [
       "<div>\n",
       "<style scoped>\n",
       "    .dataframe tbody tr th:only-of-type {\n",
       "        vertical-align: middle;\n",
       "    }\n",
       "\n",
       "    .dataframe tbody tr th {\n",
       "        vertical-align: top;\n",
       "    }\n",
       "\n",
       "    .dataframe thead th {\n",
       "        text-align: right;\n",
       "    }\n",
       "</style>\n",
       "<table border=\"1\" class=\"dataframe\">\n",
       "  <thead>\n",
       "    <tr style=\"text-align: right;\">\n",
       "      <th></th>\n",
       "      <th>Open</th>\n",
       "      <th>High</th>\n",
       "      <th>Low</th>\n",
       "      <th>Close</th>\n",
       "      <th>Adj Close</th>\n",
       "      <th>Volume</th>\n",
       "    </tr>\n",
       "  </thead>\n",
       "  <tbody>\n",
       "    <tr>\n",
       "      <th>count</th>\n",
       "      <td>2461.000000</td>\n",
       "      <td>2461.000000</td>\n",
       "      <td>2461.000000</td>\n",
       "      <td>2461.000000</td>\n",
       "      <td>2461.000000</td>\n",
       "      <td>2.461000e+03</td>\n",
       "    </tr>\n",
       "    <tr>\n",
       "      <th>mean</th>\n",
       "      <td>62.520234</td>\n",
       "      <td>63.378297</td>\n",
       "      <td>61.410343</td>\n",
       "      <td>62.334283</td>\n",
       "      <td>53.904860</td>\n",
       "      <td>8.685913e+05</td>\n",
       "    </tr>\n",
       "    <tr>\n",
       "      <th>std</th>\n",
       "      <td>25.137545</td>\n",
       "      <td>25.379739</td>\n",
       "      <td>24.740983</td>\n",
       "      <td>25.024562</td>\n",
       "      <td>31.001343</td>\n",
       "      <td>3.296248e+06</td>\n",
       "    </tr>\n",
       "    <tr>\n",
       "      <th>min</th>\n",
       "      <td>22.980000</td>\n",
       "      <td>23.795000</td>\n",
       "      <td>22.125000</td>\n",
       "      <td>22.985001</td>\n",
       "      <td>8.429377</td>\n",
       "      <td>0.000000e+00</td>\n",
       "    </tr>\n",
       "    <tr>\n",
       "      <th>25%</th>\n",
       "      <td>41.599998</td>\n",
       "      <td>42.189999</td>\n",
       "      <td>40.810001</td>\n",
       "      <td>41.540001</td>\n",
       "      <td>23.829430</td>\n",
       "      <td>2.492700e+05</td>\n",
       "    </tr>\n",
       "    <tr>\n",
       "      <th>50%</th>\n",
       "      <td>57.049999</td>\n",
       "      <td>57.700001</td>\n",
       "      <td>56.125000</td>\n",
       "      <td>56.900002</td>\n",
       "      <td>53.904865</td>\n",
       "      <td>4.372800e+05</td>\n",
       "    </tr>\n",
       "    <tr>\n",
       "      <th>75%</th>\n",
       "      <td>82.500000</td>\n",
       "      <td>83.650002</td>\n",
       "      <td>80.949997</td>\n",
       "      <td>82.349998</td>\n",
       "      <td>80.690247</td>\n",
       "      <td>8.076870e+05</td>\n",
       "    </tr>\n",
       "    <tr>\n",
       "      <th>max</th>\n",
       "      <td>126.699997</td>\n",
       "      <td>127.750000</td>\n",
       "      <td>125.650002</td>\n",
       "      <td>126.300003</td>\n",
       "      <td>123.230705</td>\n",
       "      <td>1.122362e+08</td>\n",
       "    </tr>\n",
       "  </tbody>\n",
       "</table>\n",
       "</div>"
      ],
      "text/plain": [
       "              Open         High          Low        Close    Adj Close  \\\n",
       "count  2461.000000  2461.000000  2461.000000  2461.000000  2461.000000   \n",
       "mean     62.520234    63.378297    61.410343    62.334283    53.904860   \n",
       "std      25.137545    25.379739    24.740983    25.024562    31.001343   \n",
       "min      22.980000    23.795000    22.125000    22.985001     8.429377   \n",
       "25%      41.599998    42.189999    40.810001    41.540001    23.829430   \n",
       "50%      57.049999    57.700001    56.125000    56.900002    53.904865   \n",
       "75%      82.500000    83.650002    80.949997    82.349998    80.690247   \n",
       "max     126.699997   127.750000   125.650002   126.300003   123.230705   \n",
       "\n",
       "             Volume  \n",
       "count  2.461000e+03  \n",
       "mean   8.685913e+05  \n",
       "std    3.296248e+06  \n",
       "min    0.000000e+00  \n",
       "25%    2.492700e+05  \n",
       "50%    4.372800e+05  \n",
       "75%    8.076870e+05  \n",
       "max    1.122362e+08  "
      ]
     },
     "execution_count": 5,
     "metadata": {},
     "output_type": "execute_result"
    }
   ],
   "source": [
    "df_final.describe()"
   ]
  },
  {
   "cell_type": "code",
   "execution_count": 6,
   "metadata": {},
   "outputs": [
    {
     "data": {
      "text/plain": [
       "False"
      ]
     },
     "execution_count": 6,
     "metadata": {},
     "output_type": "execute_result"
    }
   ],
   "source": [
    "df_final.isnull().values.any()"
   ]
  },
  {
   "cell_type": "code",
   "execution_count": 7,
   "metadata": {},
   "outputs": [
    {
     "data": {
      "text/plain": [
       "<matplotlib.axes._subplots.AxesSubplot at 0x19b8e53b888>"
      ]
     },
     "execution_count": 7,
     "metadata": {},
     "output_type": "execute_result"
    },
    {
     "data": {
      "image/png": "[encoded data removed]",
      "text/plain": [
       "<Figure size 1008x432 with 1 Axes>"
      ]
     },
     "metadata": {
      "needs_background": "light"
     },
     "output_type": "display_data"
    }
   ],
   "source": [
    "df_final['Close'].plot(figsize=(14,6), title = 'Federal Bank')"
   ]
  },
  {
   "cell_type": "markdown",
   "metadata": {},
   "source": [
    "### Correlation Analysis"
   ]
  },
  {
   "cell_type": "code",
   "execution_count": 8,
   "metadata": {},
   "outputs": [
    {
     "data": {
      "text/plain": [
       "<matplotlib.axes._subplots.AxesSubplot at 0x19b90824a08>"
      ]
     },
     "execution_count": 8,
     "metadata": {},
     "output_type": "execute_result"
    },
    {
     "data": {
      "image/png": "[encoded data removed]",
      "text/plain": [
       "<Figure size 1152x432 with 1 Axes>"
      ]
     },
     "metadata": {
      "needs_background": "light"
     },
     "output_type": "display_data"
    }
   ],
   "source": [
    "#Correlation Analysis\n",
    "X=df_final.drop(['Close'],axis=1)\n",
    "X=X.drop(['Adj Close'],axis=1)\n",
    "\n",
    "X.corrwith(df_final['Close']).plot.bar(\n",
    "        figsize = (16, 6), title = \"Correlation with Close\", fontsize = 20,\n",
    "        rot = 90, grid = True)"
   ]
  },
  {
   "cell_type": "code",
   "execution_count": 9,
   "metadata": {},
   "outputs": [
    {
     "data": {
      "text/html": [
       "<div>\n",
       "<style scoped>\n",
       "    .dataframe tbody tr th:only-of-type {\n",
       "        vertical-align: middle;\n",
       "    }\n",
       "\n",
       "    .dataframe tbody tr th {\n",
       "        vertical-align: top;\n",
       "    }\n",
       "\n",
       "    .dataframe thead th {\n",
       "        text-align: right;\n",
       "    }\n",
       "</style>\n",
       "<table border=\"1\" class=\"dataframe\">\n",
       "  <thead>\n",
       "    <tr style=\"text-align: right;\">\n",
       "      <th></th>\n",
       "      <th>Open</th>\n",
       "      <th>High</th>\n",
       "      <th>Low</th>\n",
       "      <th>Close</th>\n",
       "      <th>Adj Close</th>\n",
       "      <th>Volume</th>\n",
       "    </tr>\n",
       "    <tr>\n",
       "      <th>Date</th>\n",
       "      <th></th>\n",
       "      <th></th>\n",
       "      <th></th>\n",
       "      <th></th>\n",
       "      <th></th>\n",
       "      <th></th>\n",
       "    </tr>\n",
       "  </thead>\n",
       "  <tbody>\n",
       "    <tr>\n",
       "      <th>2010-01-04</th>\n",
       "      <td>23.770000</td>\n",
       "      <td>23.795</td>\n",
       "      <td>23.379999</td>\n",
       "      <td>23.580000</td>\n",
       "      <td>8.429377</td>\n",
       "      <td>724800</td>\n",
       "    </tr>\n",
       "    <tr>\n",
       "      <th>2010-01-05</th>\n",
       "      <td>23.900000</td>\n",
       "      <td>24.170</td>\n",
       "      <td>23.650000</td>\n",
       "      <td>23.920000</td>\n",
       "      <td>8.550918</td>\n",
       "      <td>1556550</td>\n",
       "    </tr>\n",
       "    <tr>\n",
       "      <th>2010-01-06</th>\n",
       "      <td>24.190001</td>\n",
       "      <td>24.650</td>\n",
       "      <td>24.100000</td>\n",
       "      <td>24.379999</td>\n",
       "      <td>8.715360</td>\n",
       "      <td>1034000</td>\n",
       "    </tr>\n",
       "    <tr>\n",
       "      <th>2010-01-07</th>\n",
       "      <td>24.610001</td>\n",
       "      <td>24.990</td>\n",
       "      <td>24.405001</td>\n",
       "      <td>24.565001</td>\n",
       "      <td>8.781491</td>\n",
       "      <td>1360420</td>\n",
       "    </tr>\n",
       "    <tr>\n",
       "      <th>2010-01-08</th>\n",
       "      <td>24.790001</td>\n",
       "      <td>25.100</td>\n",
       "      <td>24.605000</td>\n",
       "      <td>24.760000</td>\n",
       "      <td>8.851200</td>\n",
       "      <td>1886220</td>\n",
       "    </tr>\n",
       "  </tbody>\n",
       "</table>\n",
       "</div>"
      ],
      "text/plain": [
       "                 Open    High        Low      Close  Adj Close   Volume\n",
       "Date                                                                   \n",
       "2010-01-04  23.770000  23.795  23.379999  23.580000   8.429377   724800\n",
       "2010-01-05  23.900000  24.170  23.650000  23.920000   8.550918  1556550\n",
       "2010-01-06  24.190001  24.650  24.100000  24.379999   8.715360  1034000\n",
       "2010-01-07  24.610001  24.990  24.405001  24.565001   8.781491  1360420\n",
       "2010-01-08  24.790001  25.100  24.605000  24.760000   8.851200  1886220"
      ]
     },
     "metadata": {},
     "output_type": "display_data"
    }
   ],
   "source": [
    "test = df_final\n",
    "# Target column\n",
    "target_adj_close = pd.DataFrame(test['Close'])\n",
    "display(test.head())"
   ]
  },
  {
   "cell_type": "code",
   "execution_count": 10,
   "metadata": {},
   "outputs": [],
   "source": [
    "# selecting Feature Columns\n",
    "feature_columns = ['Open', 'High', 'Low', 'Volume']"
   ]
  },
  {
   "cell_type": "markdown",
   "metadata": {},
   "source": [
    "### Normalizing of Data"
   ]
  },
  {
   "cell_type": "code",
   "execution_count": 11,
   "metadata": {},
   "outputs": [
    {
     "data": {
      "text/html": [
       "<div>\n",
       "<style scoped>\n",
       "    .dataframe tbody tr th:only-of-type {\n",
       "        vertical-align: middle;\n",
       "    }\n",
       "\n",
       "    .dataframe tbody tr th {\n",
       "        vertical-align: top;\n",
       "    }\n",
       "\n",
       "    .dataframe thead th {\n",
       "        text-align: right;\n",
       "    }\n",
       "</style>\n",
       "<table border=\"1\" class=\"dataframe\">\n",
       "  <thead>\n",
       "    <tr style=\"text-align: right;\">\n",
       "      <th></th>\n",
       "      <th>Open</th>\n",
       "      <th>High</th>\n",
       "      <th>Low</th>\n",
       "      <th>Volume</th>\n",
       "    </tr>\n",
       "    <tr>\n",
       "      <th>Date</th>\n",
       "      <th></th>\n",
       "      <th></th>\n",
       "      <th></th>\n",
       "      <th></th>\n",
       "    </tr>\n",
       "  </thead>\n",
       "  <tbody>\n",
       "    <tr>\n",
       "      <th>2010-01-04</th>\n",
       "      <td>0.007617</td>\n",
       "      <td>0.000000</td>\n",
       "      <td>0.012123</td>\n",
       "      <td>0.006458</td>\n",
       "    </tr>\n",
       "    <tr>\n",
       "      <th>2010-01-05</th>\n",
       "      <td>0.008870</td>\n",
       "      <td>0.003607</td>\n",
       "      <td>0.014731</td>\n",
       "      <td>0.013869</td>\n",
       "    </tr>\n",
       "    <tr>\n",
       "      <th>2010-01-06</th>\n",
       "      <td>0.011666</td>\n",
       "      <td>0.008225</td>\n",
       "      <td>0.019078</td>\n",
       "      <td>0.009213</td>\n",
       "    </tr>\n",
       "    <tr>\n",
       "      <th>2010-01-07</th>\n",
       "      <td>0.015715</td>\n",
       "      <td>0.011495</td>\n",
       "      <td>0.022024</td>\n",
       "      <td>0.012121</td>\n",
       "    </tr>\n",
       "    <tr>\n",
       "      <th>2010-01-08</th>\n",
       "      <td>0.017451</td>\n",
       "      <td>0.012554</td>\n",
       "      <td>0.023956</td>\n",
       "      <td>0.016806</td>\n",
       "    </tr>\n",
       "  </tbody>\n",
       "</table>\n",
       "</div>"
      ],
      "text/plain": [
       "                Open      High       Low    Volume\n",
       "Date                                              \n",
       "2010-01-04  0.007617  0.000000  0.012123  0.006458\n",
       "2010-01-05  0.008870  0.003607  0.014731  0.013869\n",
       "2010-01-06  0.011666  0.008225  0.019078  0.009213\n",
       "2010-01-07  0.015715  0.011495  0.022024  0.012121\n",
       "2010-01-08  0.017451  0.012554  0.023956  0.016806"
      ]
     },
     "execution_count": 11,
     "metadata": {},
     "output_type": "execute_result"
    }
   ],
   "source": [
    "from sklearn.preprocessing import MinMaxScaler\n",
    "scaler = MinMaxScaler()\n",
    "feature_minmax_transform_data = scaler.fit_transform(test[feature_columns])\n",
    "feature_minmax_transform = pd.DataFrame(columns=feature_columns, data=feature_minmax_transform_data, index=test.index)\n",
    "feature_minmax_transform.head()"
   ]
  },
  {
   "cell_type": "code",
   "execution_count": 12,
   "metadata": {},
   "outputs": [
    {
     "data": {
      "text/html": [
       "<div>\n",
       "<style scoped>\n",
       "    .dataframe tbody tr th:only-of-type {\n",
       "        vertical-align: middle;\n",
       "    }\n",
       "\n",
       "    .dataframe tbody tr th {\n",
       "        vertical-align: top;\n",
       "    }\n",
       "\n",
       "    .dataframe thead th {\n",
       "        text-align: right;\n",
       "    }\n",
       "</style>\n",
       "<table border=\"1\" class=\"dataframe\">\n",
       "  <thead>\n",
       "    <tr style=\"text-align: right;\">\n",
       "      <th></th>\n",
       "      <th>Open</th>\n",
       "      <th>High</th>\n",
       "      <th>Low</th>\n",
       "      <th>Volume</th>\n",
       "    </tr>\n",
       "    <tr>\n",
       "      <th>Date</th>\n",
       "      <th></th>\n",
       "      <th></th>\n",
       "      <th></th>\n",
       "      <th></th>\n",
       "    </tr>\n",
       "  </thead>\n",
       "  <tbody>\n",
       "    <tr>\n",
       "      <th>2010-01-04</th>\n",
       "      <td>0.007617</td>\n",
       "      <td>0.000000</td>\n",
       "      <td>0.012123</td>\n",
       "      <td>0.006458</td>\n",
       "    </tr>\n",
       "    <tr>\n",
       "      <th>2010-01-05</th>\n",
       "      <td>0.008870</td>\n",
       "      <td>0.003607</td>\n",
       "      <td>0.014731</td>\n",
       "      <td>0.013869</td>\n",
       "    </tr>\n",
       "    <tr>\n",
       "      <th>2010-01-06</th>\n",
       "      <td>0.011666</td>\n",
       "      <td>0.008225</td>\n",
       "      <td>0.019078</td>\n",
       "      <td>0.009213</td>\n",
       "    </tr>\n",
       "    <tr>\n",
       "      <th>2010-01-07</th>\n",
       "      <td>0.015715</td>\n",
       "      <td>0.011495</td>\n",
       "      <td>0.022024</td>\n",
       "      <td>0.012121</td>\n",
       "    </tr>\n",
       "    <tr>\n",
       "      <th>2010-01-08</th>\n",
       "      <td>0.017451</td>\n",
       "      <td>0.012554</td>\n",
       "      <td>0.023956</td>\n",
       "      <td>0.016806</td>\n",
       "    </tr>\n",
       "  </tbody>\n",
       "</table>\n",
       "</div>"
      ],
      "text/plain": [
       "                Open      High       Low    Volume\n",
       "Date                                              \n",
       "2010-01-04  0.007617  0.000000  0.012123  0.006458\n",
       "2010-01-05  0.008870  0.003607  0.014731  0.013869\n",
       "2010-01-06  0.011666  0.008225  0.019078  0.009213\n",
       "2010-01-07  0.015715  0.011495  0.022024  0.012121\n",
       "2010-01-08  0.017451  0.012554  0.023956  0.016806"
      ]
     },
     "metadata": {},
     "output_type": "display_data"
    },
    {
     "name": "stdout",
     "output_type": "stream",
     "text": [
      "Shape of features :  (2461, 4)\n",
      "Shape of target :  (2461, 1)\n"
     ]
    },
    {
     "data": {
      "text/html": [
       "<div>\n",
       "<style scoped>\n",
       "    .dataframe tbody tr th:only-of-type {\n",
       "        vertical-align: middle;\n",
       "    }\n",
       "\n",
       "    .dataframe tbody tr th {\n",
       "        vertical-align: top;\n",
       "    }\n",
       "\n",
       "    .dataframe thead th {\n",
       "        text-align: right;\n",
       "    }\n",
       "</style>\n",
       "<table border=\"1\" class=\"dataframe\">\n",
       "  <thead>\n",
       "    <tr style=\"text-align: right;\">\n",
       "      <th></th>\n",
       "      <th>Open</th>\n",
       "      <th>High</th>\n",
       "      <th>Low</th>\n",
       "      <th>Volume</th>\n",
       "    </tr>\n",
       "    <tr>\n",
       "      <th>Date</th>\n",
       "      <th></th>\n",
       "      <th></th>\n",
       "      <th></th>\n",
       "      <th></th>\n",
       "    </tr>\n",
       "  </thead>\n",
       "  <tbody>\n",
       "    <tr>\n",
       "      <th>2019-12-23</th>\n",
       "      <td>0.622059</td>\n",
       "      <td>0.612813</td>\n",
       "      <td>0.612171</td>\n",
       "      <td>0.002309</td>\n",
       "    </tr>\n",
       "    <tr>\n",
       "      <th>2019-12-24</th>\n",
       "      <td>0.611454</td>\n",
       "      <td>0.603194</td>\n",
       "      <td>0.612171</td>\n",
       "      <td>0.001149</td>\n",
       "    </tr>\n",
       "    <tr>\n",
       "      <th>2019-12-26</th>\n",
       "      <td>0.604223</td>\n",
       "      <td>0.598384</td>\n",
       "      <td>0.609273</td>\n",
       "      <td>0.001242</td>\n",
       "    </tr>\n",
       "    <tr>\n",
       "      <th>2019-12-27</th>\n",
       "      <td>0.609044</td>\n",
       "      <td>0.623876</td>\n",
       "      <td>0.613620</td>\n",
       "      <td>0.003350</td>\n",
       "    </tr>\n",
       "    <tr>\n",
       "      <th>2019-12-30</th>\n",
       "      <td>0.625916</td>\n",
       "      <td>0.626281</td>\n",
       "      <td>0.628109</td>\n",
       "      <td>0.002712</td>\n",
       "    </tr>\n",
       "  </tbody>\n",
       "</table>\n",
       "</div>"
      ],
      "text/plain": [
       "                Open      High       Low    Volume\n",
       "Date                                              \n",
       "2019-12-23  0.622059  0.612813  0.612171  0.002309\n",
       "2019-12-24  0.611454  0.603194  0.612171  0.001149\n",
       "2019-12-26  0.604223  0.598384  0.609273  0.001242\n",
       "2019-12-27  0.609044  0.623876  0.613620  0.003350\n",
       "2019-12-30  0.625916  0.626281  0.628109  0.002712"
      ]
     },
     "metadata": {},
     "output_type": "display_data"
    },
    {
     "data": {
      "text/html": [
       "<div>\n",
       "<style scoped>\n",
       "    .dataframe tbody tr th:only-of-type {\n",
       "        vertical-align: middle;\n",
       "    }\n",
       "\n",
       "    .dataframe tbody tr th {\n",
       "        vertical-align: top;\n",
       "    }\n",
       "\n",
       "    .dataframe thead th {\n",
       "        text-align: right;\n",
       "    }\n",
       "</style>\n",
       "<table border=\"1\" class=\"dataframe\">\n",
       "  <thead>\n",
       "    <tr style=\"text-align: right;\">\n",
       "      <th></th>\n",
       "      <th>Close</th>\n",
       "    </tr>\n",
       "    <tr>\n",
       "      <th>Date</th>\n",
       "      <th></th>\n",
       "    </tr>\n",
       "  </thead>\n",
       "  <tbody>\n",
       "    <tr>\n",
       "      <th>2019-12-23</th>\n",
       "      <td>85.650002</td>\n",
       "    </tr>\n",
       "    <tr>\n",
       "      <th>2019-12-24</th>\n",
       "      <td>85.550003</td>\n",
       "    </tr>\n",
       "    <tr>\n",
       "      <th>2019-12-26</th>\n",
       "      <td>88.199997</td>\n",
       "    </tr>\n",
       "    <tr>\n",
       "      <th>2019-12-27</th>\n",
       "      <td>87.599998</td>\n",
       "    </tr>\n",
       "    <tr>\n",
       "      <th>2019-12-30</th>\n",
       "      <td>88.050003</td>\n",
       "    </tr>\n",
       "  </tbody>\n",
       "</table>\n",
       "</div>"
      ],
      "text/plain": [
       "                Close\n",
       "Date                 \n",
       "2019-12-23  85.650002\n",
       "2019-12-24  85.550003\n",
       "2019-12-26  88.199997\n",
       "2019-12-27  87.599998\n",
       "2019-12-30  88.050003"
      ]
     },
     "metadata": {},
     "output_type": "display_data"
    },
    {
     "name": "stdout",
     "output_type": "stream",
     "text": [
      "\n",
      " -----After process------ \n",
      "\n",
      "Shape of features :  (2371, 4)\n",
      "Shape of target :  (2371, 1)\n"
     ]
    },
    {
     "data": {
      "text/html": [
       "<div>\n",
       "<style scoped>\n",
       "    .dataframe tbody tr th:only-of-type {\n",
       "        vertical-align: middle;\n",
       "    }\n",
       "\n",
       "    .dataframe tbody tr th {\n",
       "        vertical-align: top;\n",
       "    }\n",
       "\n",
       "    .dataframe thead th {\n",
       "        text-align: right;\n",
       "    }\n",
       "</style>\n",
       "<table border=\"1\" class=\"dataframe\">\n",
       "  <thead>\n",
       "    <tr style=\"text-align: right;\">\n",
       "      <th></th>\n",
       "      <th>Close</th>\n",
       "    </tr>\n",
       "    <tr>\n",
       "      <th>Date</th>\n",
       "      <th></th>\n",
       "    </tr>\n",
       "  </thead>\n",
       "  <tbody>\n",
       "    <tr>\n",
       "      <th>2019-08-07</th>\n",
       "      <td>87.349998</td>\n",
       "    </tr>\n",
       "    <tr>\n",
       "      <th>2019-08-08</th>\n",
       "      <td>87.900002</td>\n",
       "    </tr>\n",
       "    <tr>\n",
       "      <th>2019-08-09</th>\n",
       "      <td>83.250000</td>\n",
       "    </tr>\n",
       "    <tr>\n",
       "      <th>2019-08-13</th>\n",
       "      <td>84.449997</td>\n",
       "    </tr>\n",
       "    <tr>\n",
       "      <th>2019-08-14</th>\n",
       "      <td>85.250000</td>\n",
       "    </tr>\n",
       "  </tbody>\n",
       "</table>\n",
       "</div>"
      ],
      "text/plain": [
       "                Close\n",
       "Date                 \n",
       "2019-08-07  87.349998\n",
       "2019-08-08  87.900002\n",
       "2019-08-09  83.250000\n",
       "2019-08-13  84.449997\n",
       "2019-08-14  85.250000"
      ]
     },
     "metadata": {},
     "output_type": "display_data"
    }
   ],
   "source": [
    "display(feature_minmax_transform.head())\n",
    "print('Shape of features : ', feature_minmax_transform.shape)\n",
    "print('Shape of target : ', target_adj_close.shape)\n",
    "\n",
    "# Shift target array because we want to predict the n + 1 day value\n",
    "\n",
    "\n",
    "target_adj_close = target_adj_close.shift(-1)\n",
    "validation_y = target_adj_close[-90:-1]\n",
    "target_adj_close = target_adj_close[:-90]\n",
    "\n",
    "# Taking last 90 rows of data to be validation set\n",
    "validation_X = feature_minmax_transform[-90:-1]\n",
    "feature_minmax_transform = feature_minmax_transform[:-90]\n",
    "display(validation_X.tail())\n",
    "display(validation_y.tail())\n",
    "\n",
    "print(\"\\n -----After process------ \\n\")\n",
    "print('Shape of features : ', feature_minmax_transform.shape)\n",
    "print('Shape of target : ', target_adj_close.shape)\n",
    "display(target_adj_close.tail())\n"
   ]
  },
  {
   "cell_type": "markdown",
   "metadata": {},
   "source": [
    "### Train Test Split Using Time Series"
   ]
  },
  {
   "cell_type": "code",
   "execution_count": 13,
   "metadata": {},
   "outputs": [],
   "source": [
    "ts_split= TimeSeriesSplit(n_splits=10)\n",
    "for train_index, test_index in ts_split.split(feature_minmax_transform):\n",
    "        X_train, X_test = feature_minmax_transform[:len(train_index)], feature_minmax_transform[len(train_index): (len(train_index)+len(test_index))]\n",
    "        y_train, y_test = target_adj_close[:len(train_index)].values.ravel(), target_adj_close[len(train_index): (len(train_index)+len(test_index))].values.ravel()"
   ]
  },
  {
   "cell_type": "code",
   "execution_count": 14,
   "metadata": {},
   "outputs": [
    {
     "data": {
      "text/plain": [
       "(2156, 4)"
      ]
     },
     "execution_count": 14,
     "metadata": {},
     "output_type": "execute_result"
    }
   ],
   "source": [
    "X_train.shape"
   ]
  },
  {
   "cell_type": "code",
   "execution_count": 15,
   "metadata": {},
   "outputs": [
    {
     "data": {
      "text/plain": [
       "(215, 4)"
      ]
     },
     "execution_count": 15,
     "metadata": {},
     "output_type": "execute_result"
    }
   ],
   "source": [
    "X_test.shape"
   ]
  },
  {
   "cell_type": "code",
   "execution_count": 16,
   "metadata": {},
   "outputs": [
    {
     "data": {
      "text/plain": [
       "(2156,)"
      ]
     },
     "execution_count": 16,
     "metadata": {},
     "output_type": "execute_result"
    }
   ],
   "source": [
    "y_train.shape"
   ]
  },
  {
   "cell_type": "code",
   "execution_count": 17,
   "metadata": {},
   "outputs": [
    {
     "data": {
      "text/plain": [
       "(215,)"
      ]
     },
     "execution_count": 17,
     "metadata": {},
     "output_type": "execute_result"
    }
   ],
   "source": [
    "y_test.shape"
   ]
  },
  {
   "cell_type": "code",
   "execution_count": 18,
   "metadata": {},
   "outputs": [],
   "source": [
    "def validate_result(model, model_name):\n",
    "    predicted = model.predict(validation_X)\n",
    "    RSME_score = np.sqrt(mean_squared_error(validation_y, predicted))\n",
    "    print('RMSE: ', RSME_score)\n",
    "    \n",
    "    R2_score = r2_score(validation_y, predicted)\n",
    "    print('R2 score: ', R2_score)\n",
    "\n",
    "    plt.plot(validation_y.index, predicted,'r', label='Predict')\n",
    "    plt.plot(validation_y.index, validation_y,'b', label='Actual')\n",
    "    plt.ylabel('Price')\n",
    "    plt.gca().xaxis.set_major_formatter(mdates.DateFormatter('%Y-%m-%d'))\n",
    "    plt.gca().xaxis.set_major_locator(mdates.MonthLocator())\n",
    "    plt.title(model_name + ' Predict vs Actual')\n",
    "    plt.legend(loc='upper right')\n",
    "    plt.show()"
   ]
  },
  {
   "cell_type": "markdown",
   "metadata": {},
   "source": [
    "### BenchMark Model"
   ]
  },
  {
   "cell_type": "code",
   "execution_count": 19,
   "metadata": {
    "scrolled": true
   },
   "outputs": [
    {
     "name": "stdout",
     "output_type": "stream",
     "text": [
      "RMSE:  3.1866692133420957\n",
      "R2 score:  0.05098331945275958\n"
     ]
    },
    {
     "data": {
      "image/png": "[encoded data removed]",
      "text/plain": [
       "<Figure size 432x288 with 1 Axes>"
      ]
     },
     "metadata": {
      "needs_background": "light"
     },
     "output_type": "display_data"
    }
   ],
   "source": [
    "\n",
    "from sklearn.tree import DecisionTreeRegressor\n",
    "\n",
    "dt = DecisionTreeRegressor(random_state=0)\n",
    "\n",
    "benchmark_dt=dt.fit(X_train, y_train)\n",
    "\n",
    "validate_result(benchmark_dt, 'Decision Tree Regression')"
   ]
  },
  {
   "cell_type": "markdown",
   "metadata": {},
   "source": [
    "### LSTM Model"
   ]
  },
  {
   "cell_type": "code",
   "execution_count": 20,
   "metadata": {},
   "outputs": [],
   "source": [
    "#Processing the data for LSTM\n",
    "X_train =np.array(X_train)\n",
    "X_test =np.array(X_test)\n",
    "\n",
    "X_tr_t = X_train.reshape(X_train.shape[0], 1, X_train.shape[1])\n",
    "X_tst_t = X_test.reshape(X_test.shape[0], 1, X_test.shape[1])"
   ]
  },
  {
   "cell_type": "code",
   "execution_count": 21,
   "metadata": {
    "scrolled": true
   },
   "outputs": [
    {
     "name": "stdout",
     "output_type": "stream",
     "text": [
      "Epoch 1/200\n",
      "2156/2156 [==============================] - 1s 521us/step - loss: 3746.6759\n",
      "Epoch 2/200\n",
      "2156/2156 [==============================] - 1s 252us/step - loss: 3052.2099\n",
      "Epoch 3/200\n",
      "2156/2156 [==============================] - 1s 250us/step - loss: 2072.7809\n",
      "Epoch 4/200\n",
      "2156/2156 [==============================] - 1s 252us/step - loss: 1134.8119\n",
      "Epoch 5/200\n",
      "2156/2156 [==============================] - 1s 253us/step - loss: 477.4357\n",
      "Epoch 6/200\n",
      "2156/2156 [==============================] - 1s 258us/step - loss: 147.2306\n",
      "Epoch 7/200\n",
      "2156/2156 [==============================] - 1s 256us/step - loss: 34.6430\n",
      "Epoch 8/200\n",
      "2156/2156 [==============================] - 1s 251us/step - loss: 10.3671\n",
      "Epoch 9/200\n",
      "2156/2156 [==============================] - 1s 256us/step - loss: 7.1870\n",
      "Epoch 10/200\n",
      "2156/2156 [==============================] - 1s 257us/step - loss: 6.5557\n",
      "Epoch 11/200\n",
      "2156/2156 [==============================] - 1s 259us/step - loss: 5.8945\n",
      "Epoch 12/200\n",
      "2156/2156 [==============================] - 1s 260us/step - loss: 5.2072\n",
      "Epoch 13/200\n",
      "2156/2156 [==============================] - 1s 280us/step - loss: 4.5965\n",
      "Epoch 14/200\n",
      "2156/2156 [==============================] - 1s 286us/step - loss: 4.0977\n",
      "Epoch 15/200\n",
      "2156/2156 [==============================] - 1s 255us/step - loss: 3.7157\n",
      "Epoch 16/200\n",
      "2156/2156 [==============================] - 1s 258us/step - loss: 3.4412\n",
      "Epoch 17/200\n",
      "2156/2156 [==============================] - 1s 257us/step - loss: 3.2594\n",
      "Epoch 18/200\n",
      "2156/2156 [==============================] - 1s 256us/step - loss: 3.1420\n",
      "Epoch 19/200\n",
      "2156/2156 [==============================] - 1s 256us/step - loss: 3.0706\n",
      "Epoch 20/200\n",
      "2156/2156 [==============================] - 1s 282us/step - loss: 3.0263\n",
      "Epoch 21/200\n",
      "2156/2156 [==============================] - 1s 257us/step - loss: 2.9947\n",
      "Epoch 22/200\n",
      "2156/2156 [==============================] - 1s 262us/step - loss: 2.9751\n",
      "Epoch 23/200\n",
      "2156/2156 [==============================] - 1s 258us/step - loss: 2.9545\n",
      "Epoch 24/200\n",
      "2156/2156 [==============================] - 1s 255us/step - loss: 2.9333\n",
      "Epoch 25/200\n",
      "2156/2156 [==============================] - 1s 265us/step - loss: 2.9196\n",
      "Epoch 26/200\n",
      "2156/2156 [==============================] - 1s 253us/step - loss: 2.9033\n",
      "Epoch 27/200\n",
      "2156/2156 [==============================] - 1s 258us/step - loss: 2.8874\n",
      "Epoch 28/200\n",
      "2156/2156 [==============================] - 1s 251us/step - loss: 2.8754\n",
      "Epoch 29/200\n",
      "2156/2156 [==============================] - 1s 262us/step - loss: 2.8630\n",
      "Epoch 30/200\n",
      "2156/2156 [==============================] - 1s 260us/step - loss: 2.8628\n",
      "Epoch 31/200\n",
      "2156/2156 [==============================] - 1s 255us/step - loss: 2.8547\n",
      "Epoch 32/200\n",
      "2156/2156 [==============================] - 1s 277us/step - loss: 2.8484\n",
      "Epoch 33/200\n",
      "2156/2156 [==============================] - 1s 254us/step - loss: 2.8454\n",
      "Epoch 34/200\n",
      "2156/2156 [==============================] - 1s 267us/step - loss: 2.8371\n",
      "Epoch 35/200\n",
      "2156/2156 [==============================] - 1s 275us/step - loss: 2.8439\n",
      "Epoch 36/200\n",
      "2156/2156 [==============================] - 1s 276us/step - loss: 2.8395\n",
      "Epoch 37/200\n",
      "2156/2156 [==============================] - 1s 272us/step - loss: 2.8366\n",
      "Epoch 38/200\n",
      "2156/2156 [==============================] - 1s 294us/step - loss: 2.8301\n",
      "Epoch 39/200\n",
      "2156/2156 [==============================] - 1s 278us/step - loss: 2.8357\n",
      "Epoch 40/200\n",
      "2156/2156 [==============================] - 1s 276us/step - loss: 2.8321\n",
      "Epoch 41/200\n",
      "2156/2156 [==============================] - 1s 306us/step - loss: 2.8258\n",
      "Epoch 42/200\n",
      "2156/2156 [==============================] - 1s 298us/step - loss: 2.8314\n",
      "Epoch 43/200\n",
      "2156/2156 [==============================] - 1s 280us/step - loss: 2.8279\n",
      "Epoch 44/200\n",
      "2156/2156 [==============================] - 1s 273us/step - loss: 2.8219\n",
      "Epoch 45/200\n",
      "2156/2156 [==============================] - 1s 269us/step - loss: 2.8275\n",
      "Epoch 46/200\n",
      "2156/2156 [==============================] - 1s 259us/step - loss: 2.8242\n",
      "Epoch 47/200\n",
      "2156/2156 [==============================] - 1s 278us/step - loss: 2.8160\n",
      "Epoch 48/200\n",
      "2156/2156 [==============================] - 1s 267us/step - loss: 2.8255\n",
      "Epoch 49/200\n",
      "2156/2156 [==============================] - 1s 265us/step - loss: 2.8226\n",
      "Epoch 50/200\n",
      "2156/2156 [==============================] - 1s 269us/step - loss: 2.8201\n",
      "Epoch 51/200\n",
      "2156/2156 [==============================] - 1s 276us/step - loss: 2.8104\n",
      "Epoch 52/200\n",
      "2156/2156 [==============================] - 1s 278us/step - loss: 2.8244\n",
      "Epoch 53/200\n",
      "2156/2156 [==============================] - 1s 273us/step - loss: 2.8222\n",
      "Epoch 54/200\n",
      "2156/2156 [==============================] - 1s 288us/step - loss: 2.8213 0s - l\n",
      "Epoch 55/200\n",
      "2156/2156 [==============================] - 1s 276us/step - loss: 2.8209\n",
      "Epoch 56/200\n",
      "2156/2156 [==============================] - 1s 278us/step - loss: 2.8208\n",
      "Epoch 00056: early stopping\n"
     ]
    }
   ],
   "source": [
    "from keras.models import Sequential\n",
    "from keras.layers import Dense\n",
    "import keras.backend as K\n",
    "from keras.callbacks import EarlyStopping\n",
    "from keras.optimizers import Adam\n",
    "from keras.models import load_model\n",
    "from keras.layers import LSTM\n",
    "K.clear_session()\n",
    "model_lstm = Sequential()\n",
    "model_lstm.add(LSTM(16, input_shape=(1, X_train.shape[1]), activation='relu', return_sequences=False))\n",
    "model_lstm.add(Dense(1))\n",
    "model_lstm.compile(loss='mean_squared_error', optimizer='adam')\n",
    "early_stop = EarlyStopping(monitor='loss', patience=5, verbose=1)\n",
    "history_model_lstm = model_lstm.fit(X_tr_t, y_train, epochs=200, batch_size=8, verbose=1, shuffle=False, callbacks=[early_stop])"
   ]
  },
  {
   "cell_type": "markdown",
   "metadata": {},
   "source": [
    "### Prediction by LSTM"
   ]
  },
  {
   "cell_type": "code",
   "execution_count": 22,
   "metadata": {},
   "outputs": [
    {
     "name": "stdout",
     "output_type": "stream",
     "text": [
      "The R2 score on the Train set is:\t0.995\n",
      "The R2 score on the Test set is:\t0.952\n"
     ]
    }
   ],
   "source": [
    "#Evaluation of model\n",
    "y_pred_test_lstm = model_lstm.predict(X_tst_t)\n",
    "y_train_pred_lstm = model_lstm.predict(X_tr_t)\n",
    "print(\"The R2 score on the Train set is:\\t{:0.3f}\".format(r2_score(y_train, y_train_pred_lstm)))\n",
    "r2_train = r2_score(y_train, y_train_pred_lstm)\n",
    "\n",
    "print(\"The R2 score on the Test set is:\\t{:0.3f}\".format(r2_score(y_test, y_pred_test_lstm)))\n",
    "r2_test = r2_score(y_test, y_pred_test_lstm)"
   ]
  },
  {
   "cell_type": "code",
   "execution_count": 23,
   "metadata": {},
   "outputs": [
    {
     "name": "stdout",
     "output_type": "stream",
     "text": [
      "215/215 [==============================] - 0s 1ms/step\n"
     ]
    }
   ],
   "source": [
    "score_lstm= model_lstm.evaluate(X_tst_t, y_test, batch_size=1)"
   ]
  },
  {
   "cell_type": "code",
   "execution_count": 24,
   "metadata": {},
   "outputs": [
    {
     "name": "stdout",
     "output_type": "stream",
     "text": [
      "LSTM: 4.617421\n"
     ]
    }
   ],
   "source": [
    "print('LSTM: %f'%score_lstm)"
   ]
  },
  {
   "cell_type": "code",
   "execution_count": 25,
   "metadata": {},
   "outputs": [],
   "source": [
    "y_pred_test_LSTM = model_lstm.predict(X_tst_t)"
   ]
  },
  {
   "cell_type": "markdown",
   "metadata": {},
   "source": [
    "### Prediction Visualization"
   ]
  },
  {
   "cell_type": "code",
   "execution_count": 26,
   "metadata": {},
   "outputs": [
    {
     "data": {
      "image/png": "[encoded data removed]",
      "text/plain": [
       "<Figure size 864x432 with 1 Axes>"
      ]
     },
     "metadata": {
      "needs_background": "light"
     },
     "output_type": "display_data"
    }
   ],
   "source": [
    "plt.figure(figsize=(12,6))\n",
    "plt.plot(y_test, label='True')\n",
    "plt.plot(y_pred_test_LSTM, label='LSTM')\n",
    "plt.title(\"LSTM's_Prediction - FEDERAL BANK\")\n",
    "plt.xlabel('Observation')\n",
    "plt.ylabel('INR_Scaled')\n",
    "plt.legend()\n",
    "plt.show()"
   ]
  },
  {
   "cell_type": "code",
   "execution_count": 27,
   "metadata": {},
   "outputs": [
    {
     "data": {
      "text/html": [
       "<div>\n",
       "<style scoped>\n",
       "    .dataframe tbody tr th:only-of-type {\n",
       "        vertical-align: middle;\n",
       "    }\n",
       "\n",
       "    .dataframe tbody tr th {\n",
       "        vertical-align: top;\n",
       "    }\n",
       "\n",
       "    .dataframe thead th {\n",
       "        text-align: right;\n",
       "    }\n",
       "</style>\n",
       "<table border=\"1\" class=\"dataframe\">\n",
       "  <thead>\n",
       "    <tr style=\"text-align: right;\">\n",
       "      <th></th>\n",
       "      <th>Actual Value</th>\n",
       "      <th>LSTM Prediction</th>\n",
       "      <th>Loss_LSTM</th>\n",
       "    </tr>\n",
       "  </thead>\n",
       "  <tbody>\n",
       "    <tr>\n",
       "      <th>0</th>\n",
       "      <td>70.699997</td>\n",
       "      <td>71.504051</td>\n",
       "      <td>3746.675948</td>\n",
       "    </tr>\n",
       "    <tr>\n",
       "      <th>1</th>\n",
       "      <td>73.150002</td>\n",
       "      <td>70.826881</td>\n",
       "      <td>3052.209921</td>\n",
       "    </tr>\n",
       "    <tr>\n",
       "      <th>2</th>\n",
       "      <td>70.349998</td>\n",
       "      <td>71.731216</td>\n",
       "      <td>2072.780861</td>\n",
       "    </tr>\n",
       "    <tr>\n",
       "      <th>3</th>\n",
       "      <td>68.099998</td>\n",
       "      <td>72.506989</td>\n",
       "      <td>1134.811859</td>\n",
       "    </tr>\n",
       "    <tr>\n",
       "      <th>4</th>\n",
       "      <td>68.300003</td>\n",
       "      <td>68.851364</td>\n",
       "      <td>477.435685</td>\n",
       "    </tr>\n",
       "  </tbody>\n",
       "</table>\n",
       "</div>"
      ],
      "text/plain": [
       "   Actual Value  LSTM Prediction    Loss_LSTM\n",
       "0     70.699997        71.504051  3746.675948\n",
       "1     73.150002        70.826881  3052.209921\n",
       "2     70.349998        71.731216  2072.780861\n",
       "3     68.099998        72.506989  1134.811859\n",
       "4     68.300003        68.851364   477.435685"
      ]
     },
     "execution_count": 27,
     "metadata": {},
     "output_type": "execute_result"
    }
   ],
   "source": [
    "col1 = pd.DataFrame(y_test, columns=['Actual Value'])\n",
    "\n",
    "col2 = pd.DataFrame(y_pred_test_LSTM, columns=['LSTM Prediction'])\n",
    "\n",
    "col3 = pd.DataFrame(history_model_lstm.history['loss'], columns=['Loss_LSTM'])\n",
    "results = pd.concat([col1, col2, col3], axis=1)\n",
    "results.head(5)"
   ]
  },
  {
   "cell_type": "code",
   "execution_count": 28,
   "metadata": {
    "scrolled": true
   },
   "outputs": [
    {
     "name": "stdout",
     "output_type": "stream",
     "text": [
      "Mean Absolute Error: 1.6601219709529436\n",
      "Mean Squared Error: 4.617420931641814\n",
      "Root Mean Squared Error: 2.148818496672489\n"
     ]
    }
   ],
   "source": [
    "from sklearn import metrics\n",
    "print('Mean Absolute Error:', metrics.mean_absolute_error(y_test, y_pred_test_LSTM))\n",
    "print('Mean Squared Error:', metrics.mean_squared_error(y_test,y_pred_test_LSTM ))\n",
    "print('Root Mean Squared Error:', np.sqrt(metrics.mean_squared_error(y_test,y_pred_test_LSTM )))"
   ]
  },
  {
   "cell_type": "markdown",
   "metadata": {},
   "source": [
    "## 2. ICICI Bank"
   ]
  },
  {
   "cell_type": "code",
   "execution_count": 29,
   "metadata": {},
   "outputs": [],
   "source": [
    "#importing libraries\n",
    "\n",
    "import pandas as pd\n",
    "import numpy as np\n",
    "\n",
    "import matplotlib\n",
    "import matplotlib.pyplot as plt\n",
    "import matplotlib.dates as mdates\n",
    "\n",
    "%matplotlib inline\n",
    "\n",
    "from sklearn import linear_model\n",
    "from keras.layers import LSTM,Dense,Dropout\n",
    "from sklearn.preprocessing import MinMaxScaler\n",
    "from sklearn.metrics import mean_squared_error, r2_score\n",
    "from sklearn.model_selection import TimeSeriesSplit"
   ]
  },
  {
   "cell_type": "code",
   "execution_count": 30,
   "metadata": {},
   "outputs": [
    {
     "data": {
      "text/html": [
       "<div>\n",
       "<style scoped>\n",
       "    .dataframe tbody tr th:only-of-type {\n",
       "        vertical-align: middle;\n",
       "    }\n",
       "\n",
       "    .dataframe tbody tr th {\n",
       "        vertical-align: top;\n",
       "    }\n",
       "\n",
       "    .dataframe thead th {\n",
       "        text-align: right;\n",
       "    }\n",
       "</style>\n",
       "<table border=\"1\" class=\"dataframe\">\n",
       "  <thead>\n",
       "    <tr style=\"text-align: right;\">\n",
       "      <th></th>\n",
       "      <th>Open</th>\n",
       "      <th>High</th>\n",
       "      <th>Low</th>\n",
       "      <th>Close</th>\n",
       "      <th>Adj Close</th>\n",
       "      <th>Volume</th>\n",
       "    </tr>\n",
       "    <tr>\n",
       "      <th>Date</th>\n",
       "      <th></th>\n",
       "      <th></th>\n",
       "      <th></th>\n",
       "      <th></th>\n",
       "      <th></th>\n",
       "      <th></th>\n",
       "    </tr>\n",
       "  </thead>\n",
       "  <tbody>\n",
       "    <tr>\n",
       "      <th>2010-01-04</th>\n",
       "      <td>161.455002</td>\n",
       "      <td>163.608994</td>\n",
       "      <td>159.218002</td>\n",
       "      <td>159.800003</td>\n",
       "      <td>85.270287</td>\n",
       "      <td>1924434</td>\n",
       "    </tr>\n",
       "    <tr>\n",
       "      <th>2010-01-05</th>\n",
       "      <td>162.000000</td>\n",
       "      <td>162.526993</td>\n",
       "      <td>160.455002</td>\n",
       "      <td>161.373001</td>\n",
       "      <td>86.109665</td>\n",
       "      <td>2999596</td>\n",
       "    </tr>\n",
       "    <tr>\n",
       "      <th>2010-01-06</th>\n",
       "      <td>162.509003</td>\n",
       "      <td>164.964005</td>\n",
       "      <td>161.817993</td>\n",
       "      <td>162.755005</td>\n",
       "      <td>86.847115</td>\n",
       "      <td>4112664</td>\n",
       "    </tr>\n",
       "    <tr>\n",
       "      <th>2010-01-07</th>\n",
       "      <td>162.718002</td>\n",
       "      <td>162.727005</td>\n",
       "      <td>159.455002</td>\n",
       "      <td>160.955002</td>\n",
       "      <td>85.886604</td>\n",
       "      <td>1834883</td>\n",
       "    </tr>\n",
       "    <tr>\n",
       "      <th>2010-01-08</th>\n",
       "      <td>161.455002</td>\n",
       "      <td>161.817993</td>\n",
       "      <td>158.190994</td>\n",
       "      <td>158.873001</td>\n",
       "      <td>84.775642</td>\n",
       "      <td>2535022</td>\n",
       "    </tr>\n",
       "  </tbody>\n",
       "</table>\n",
       "</div>"
      ],
      "text/plain": [
       "                  Open        High         Low       Close  Adj Close   Volume\n",
       "Date                                                                          \n",
       "2010-01-04  161.455002  163.608994  159.218002  159.800003  85.270287  1924434\n",
       "2010-01-05  162.000000  162.526993  160.455002  161.373001  86.109665  2999596\n",
       "2010-01-06  162.509003  164.964005  161.817993  162.755005  86.847115  4112664\n",
       "2010-01-07  162.718002  162.727005  159.455002  160.955002  85.886604  1834883\n",
       "2010-01-08  161.455002  161.817993  158.190994  158.873001  84.775642  2535022"
      ]
     },
     "execution_count": 30,
     "metadata": {},
     "output_type": "execute_result"
    }
   ],
   "source": [
    "df_final = pd.read_csv(\"D://Dataset//ICICIBANK.BO.csv\",na_values=['null'],index_col='Date',parse_dates=True,infer_datetime_format=True)\n",
    "df_final.head()"
   ]
  },
  {
   "cell_type": "code",
   "execution_count": 31,
   "metadata": {},
   "outputs": [
    {
     "data": {
      "text/plain": [
       "(2461, 6)"
      ]
     },
     "execution_count": 31,
     "metadata": {},
     "output_type": "execute_result"
    }
   ],
   "source": [
    "df_final.shape"
   ]
  },
  {
   "cell_type": "code",
   "execution_count": 32,
   "metadata": {},
   "outputs": [
    {
     "data": {
      "text/html": [
       "<div>\n",
       "<style scoped>\n",
       "    .dataframe tbody tr th:only-of-type {\n",
       "        vertical-align: middle;\n",
       "    }\n",
       "\n",
       "    .dataframe tbody tr th {\n",
       "        vertical-align: top;\n",
       "    }\n",
       "\n",
       "    .dataframe thead th {\n",
       "        text-align: right;\n",
       "    }\n",
       "</style>\n",
       "<table border=\"1\" class=\"dataframe\">\n",
       "  <thead>\n",
       "    <tr style=\"text-align: right;\">\n",
       "      <th></th>\n",
       "      <th>Open</th>\n",
       "      <th>High</th>\n",
       "      <th>Low</th>\n",
       "      <th>Close</th>\n",
       "      <th>Adj Close</th>\n",
       "      <th>Volume</th>\n",
       "    </tr>\n",
       "  </thead>\n",
       "  <tbody>\n",
       "    <tr>\n",
       "      <th>count</th>\n",
       "      <td>2461.000000</td>\n",
       "      <td>2461.000000</td>\n",
       "      <td>2461.000000</td>\n",
       "      <td>2461.000000</td>\n",
       "      <td>2461.000000</td>\n",
       "      <td>2.461000e+03</td>\n",
       "    </tr>\n",
       "    <tr>\n",
       "      <th>mean</th>\n",
       "      <td>247.934715</td>\n",
       "      <td>251.012571</td>\n",
       "      <td>244.560710</td>\n",
       "      <td>247.705634</td>\n",
       "      <td>214.942507</td>\n",
       "      <td>1.877133e+06</td>\n",
       "    </tr>\n",
       "    <tr>\n",
       "      <th>std</th>\n",
       "      <td>80.193780</td>\n",
       "      <td>80.972920</td>\n",
       "      <td>79.412605</td>\n",
       "      <td>80.226366</td>\n",
       "      <td>102.383504</td>\n",
       "      <td>1.647837e+06</td>\n",
       "    </tr>\n",
       "    <tr>\n",
       "      <th>min</th>\n",
       "      <td>120.199997</td>\n",
       "      <td>121.754997</td>\n",
       "      <td>116.544998</td>\n",
       "      <td>118.617996</td>\n",
       "      <td>74.039291</td>\n",
       "      <td>0.000000e+00</td>\n",
       "    </tr>\n",
       "    <tr>\n",
       "      <th>25%</th>\n",
       "      <td>187.272995</td>\n",
       "      <td>189.636002</td>\n",
       "      <td>184.544998</td>\n",
       "      <td>186.873001</td>\n",
       "      <td>120.042007</td>\n",
       "      <td>8.134760e+05</td>\n",
       "    </tr>\n",
       "    <tr>\n",
       "      <th>50%</th>\n",
       "      <td>230.908997</td>\n",
       "      <td>233.636002</td>\n",
       "      <td>227.509003</td>\n",
       "      <td>230.772995</td>\n",
       "      <td>216.696014</td>\n",
       "      <td>1.418901e+06</td>\n",
       "    </tr>\n",
       "    <tr>\n",
       "      <th>75%</th>\n",
       "      <td>292.549988</td>\n",
       "      <td>294.899994</td>\n",
       "      <td>288.799988</td>\n",
       "      <td>291.700012</td>\n",
       "      <td>282.166534</td>\n",
       "      <td>2.453744e+06</td>\n",
       "    </tr>\n",
       "    <tr>\n",
       "      <th>max</th>\n",
       "      <td>549.400024</td>\n",
       "      <td>552.400024</td>\n",
       "      <td>542.799988</td>\n",
       "      <td>549.400024</td>\n",
       "      <td>549.400024</td>\n",
       "      <td>3.099254e+07</td>\n",
       "    </tr>\n",
       "  </tbody>\n",
       "</table>\n",
       "</div>"
      ],
      "text/plain": [
       "              Open         High          Low        Close    Adj Close  \\\n",
       "count  2461.000000  2461.000000  2461.000000  2461.000000  2461.000000   \n",
       "mean    247.934715   251.012571   244.560710   247.705634   214.942507   \n",
       "std      80.193780    80.972920    79.412605    80.226366   102.383504   \n",
       "min     120.199997   121.754997   116.544998   118.617996    74.039291   \n",
       "25%     187.272995   189.636002   184.544998   186.873001   120.042007   \n",
       "50%     230.908997   233.636002   227.509003   230.772995   216.696014   \n",
       "75%     292.549988   294.899994   288.799988   291.700012   282.166534   \n",
       "max     549.400024   552.400024   542.799988   549.400024   549.400024   \n",
       "\n",
       "             Volume  \n",
       "count  2.461000e+03  \n",
       "mean   1.877133e+06  \n",
       "std    1.647837e+06  \n",
       "min    0.000000e+00  \n",
       "25%    8.134760e+05  \n",
       "50%    1.418901e+06  \n",
       "75%    2.453744e+06  \n",
       "max    3.099254e+07  "
      ]
     },
     "execution_count": 32,
     "metadata": {},
     "output_type": "execute_result"
    }
   ],
   "source": [
    "df_final.describe()"
   ]
  },
  {
   "cell_type": "code",
   "execution_count": 33,
   "metadata": {},
   "outputs": [
    {
     "data": {
      "text/plain": [
       "False"
      ]
     },
     "execution_count": 33,
     "metadata": {},
     "output_type": "execute_result"
    }
   ],
   "source": [
    "df_final.isnull().values.any()"
   ]
  },
  {
   "cell_type": "code",
   "execution_count": 34,
   "metadata": {},
   "outputs": [
    {
     "data": {
      "text/plain": [
       "<matplotlib.axes._subplots.AxesSubplot at 0x19b9391b2c8>"
      ]
     },
     "execution_count": 34,
     "metadata": {},
     "output_type": "execute_result"
    },
    {
     "data": {
      "image/png": "[encoded data removed]",
      "text/plain": [
       "<Figure size 864x432 with 1 Axes>"
      ]
     },
     "metadata": {
      "needs_background": "light"
     },
     "output_type": "display_data"
    }
   ],
   "source": [
    "df_final['Close'].plot(figsize=(12,6), title = 'ICICI Bank')"
   ]
  },
  {
   "cell_type": "code",
   "execution_count": 35,
   "metadata": {},
   "outputs": [
    {
     "data": {
      "text/plain": [
       "<matplotlib.axes._subplots.AxesSubplot at 0x19b90a29f88>"
      ]
     },
     "execution_count": 35,
     "metadata": {},
     "output_type": "execute_result"
    },
    {
     "data": {
      "image/png": "[encoded data removed]",
      "text/plain": [
       "<Figure size 1152x432 with 1 Axes>"
      ]
     },
     "metadata": {
      "needs_background": "light"
     },
     "output_type": "display_data"
    }
   ],
   "source": [
    "X=df_final.drop(['Close'],axis=1)\n",
    "X=X.drop(['Adj Close'],axis=1)\n",
    "\n",
    "X.corrwith(df_final['Close']).plot.bar(\n",
    "        figsize = (16, 6), title = \"Correlation with Close\", fontsize = 20,\n",
    "        rot = 90, grid = True)"
   ]
  },
  {
   "cell_type": "code",
   "execution_count": 36,
   "metadata": {},
   "outputs": [
    {
     "data": {
      "text/html": [
       "<div>\n",
       "<style scoped>\n",
       "    .dataframe tbody tr th:only-of-type {\n",
       "        vertical-align: middle;\n",
       "    }\n",
       "\n",
       "    .dataframe tbody tr th {\n",
       "        vertical-align: top;\n",
       "    }\n",
       "\n",
       "    .dataframe thead th {\n",
       "        text-align: right;\n",
       "    }\n",
       "</style>\n",
       "<table border=\"1\" class=\"dataframe\">\n",
       "  <thead>\n",
       "    <tr style=\"text-align: right;\">\n",
       "      <th></th>\n",
       "      <th>Open</th>\n",
       "      <th>High</th>\n",
       "      <th>Low</th>\n",
       "      <th>Close</th>\n",
       "      <th>Adj Close</th>\n",
       "      <th>Volume</th>\n",
       "    </tr>\n",
       "    <tr>\n",
       "      <th>Date</th>\n",
       "      <th></th>\n",
       "      <th></th>\n",
       "      <th></th>\n",
       "      <th></th>\n",
       "      <th></th>\n",
       "      <th></th>\n",
       "    </tr>\n",
       "  </thead>\n",
       "  <tbody>\n",
       "    <tr>\n",
       "      <th>2010-01-04</th>\n",
       "      <td>161.455002</td>\n",
       "      <td>163.608994</td>\n",
       "      <td>159.218002</td>\n",
       "      <td>159.800003</td>\n",
       "      <td>85.270287</td>\n",
       "      <td>1924434</td>\n",
       "    </tr>\n",
       "    <tr>\n",
       "      <th>2010-01-05</th>\n",
       "      <td>162.000000</td>\n",
       "      <td>162.526993</td>\n",
       "      <td>160.455002</td>\n",
       "      <td>161.373001</td>\n",
       "      <td>86.109665</td>\n",
       "      <td>2999596</td>\n",
       "    </tr>\n",
       "    <tr>\n",
       "      <th>2010-01-06</th>\n",
       "      <td>162.509003</td>\n",
       "      <td>164.964005</td>\n",
       "      <td>161.817993</td>\n",
       "      <td>162.755005</td>\n",
       "      <td>86.847115</td>\n",
       "      <td>4112664</td>\n",
       "    </tr>\n",
       "    <tr>\n",
       "      <th>2010-01-07</th>\n",
       "      <td>162.718002</td>\n",
       "      <td>162.727005</td>\n",
       "      <td>159.455002</td>\n",
       "      <td>160.955002</td>\n",
       "      <td>85.886604</td>\n",
       "      <td>1834883</td>\n",
       "    </tr>\n",
       "    <tr>\n",
       "      <th>2010-01-08</th>\n",
       "      <td>161.455002</td>\n",
       "      <td>161.817993</td>\n",
       "      <td>158.190994</td>\n",
       "      <td>158.873001</td>\n",
       "      <td>84.775642</td>\n",
       "      <td>2535022</td>\n",
       "    </tr>\n",
       "  </tbody>\n",
       "</table>\n",
       "</div>"
      ],
      "text/plain": [
       "                  Open        High         Low       Close  Adj Close   Volume\n",
       "Date                                                                          \n",
       "2010-01-04  161.455002  163.608994  159.218002  159.800003  85.270287  1924434\n",
       "2010-01-05  162.000000  162.526993  160.455002  161.373001  86.109665  2999596\n",
       "2010-01-06  162.509003  164.964005  161.817993  162.755005  86.847115  4112664\n",
       "2010-01-07  162.718002  162.727005  159.455002  160.955002  85.886604  1834883\n",
       "2010-01-08  161.455002  161.817993  158.190994  158.873001  84.775642  2535022"
      ]
     },
     "metadata": {},
     "output_type": "display_data"
    }
   ],
   "source": [
    "test = df_final\n",
    "# Target column\n",
    "target_adj_close = pd.DataFrame(test['Close'])\n",
    "display(test.head())"
   ]
  },
  {
   "cell_type": "code",
   "execution_count": 37,
   "metadata": {},
   "outputs": [],
   "source": [
    "# selecting Feature Columns\n",
    "feature_columns = ['Open', 'High', 'Low', 'Volume']"
   ]
  },
  {
   "cell_type": "code",
   "execution_count": 38,
   "metadata": {},
   "outputs": [
    {
     "data": {
      "text/html": [
       "<div>\n",
       "<style scoped>\n",
       "    .dataframe tbody tr th:only-of-type {\n",
       "        vertical-align: middle;\n",
       "    }\n",
       "\n",
       "    .dataframe tbody tr th {\n",
       "        vertical-align: top;\n",
       "    }\n",
       "\n",
       "    .dataframe thead th {\n",
       "        text-align: right;\n",
       "    }\n",
       "</style>\n",
       "<table border=\"1\" class=\"dataframe\">\n",
       "  <thead>\n",
       "    <tr style=\"text-align: right;\">\n",
       "      <th></th>\n",
       "      <th>Open</th>\n",
       "      <th>High</th>\n",
       "      <th>Low</th>\n",
       "      <th>Volume</th>\n",
       "    </tr>\n",
       "    <tr>\n",
       "      <th>Date</th>\n",
       "      <th></th>\n",
       "      <th></th>\n",
       "      <th></th>\n",
       "      <th></th>\n",
       "    </tr>\n",
       "  </thead>\n",
       "  <tbody>\n",
       "    <tr>\n",
       "      <th>2010-01-04</th>\n",
       "      <td>0.096121</td>\n",
       "      <td>0.097189</td>\n",
       "      <td>0.100111</td>\n",
       "      <td>0.062093</td>\n",
       "    </tr>\n",
       "    <tr>\n",
       "      <th>2010-01-05</th>\n",
       "      <td>0.097390</td>\n",
       "      <td>0.094677</td>\n",
       "      <td>0.103013</td>\n",
       "      <td>0.096784</td>\n",
       "    </tr>\n",
       "    <tr>\n",
       "      <th>2010-01-06</th>\n",
       "      <td>0.098576</td>\n",
       "      <td>0.100336</td>\n",
       "      <td>0.106211</td>\n",
       "      <td>0.132699</td>\n",
       "    </tr>\n",
       "    <tr>\n",
       "      <th>2010-01-07</th>\n",
       "      <td>0.099063</td>\n",
       "      <td>0.095141</td>\n",
       "      <td>0.100667</td>\n",
       "      <td>0.059204</td>\n",
       "    </tr>\n",
       "    <tr>\n",
       "      <th>2010-01-08</th>\n",
       "      <td>0.096121</td>\n",
       "      <td>0.093030</td>\n",
       "      <td>0.097702</td>\n",
       "      <td>0.081795</td>\n",
       "    </tr>\n",
       "  </tbody>\n",
       "</table>\n",
       "</div>"
      ],
      "text/plain": [
       "                Open      High       Low    Volume\n",
       "Date                                              \n",
       "2010-01-04  0.096121  0.097189  0.100111  0.062093\n",
       "2010-01-05  0.097390  0.094677  0.103013  0.096784\n",
       "2010-01-06  0.098576  0.100336  0.106211  0.132699\n",
       "2010-01-07  0.099063  0.095141  0.100667  0.059204\n",
       "2010-01-08  0.096121  0.093030  0.097702  0.081795"
      ]
     },
     "execution_count": 38,
     "metadata": {},
     "output_type": "execute_result"
    }
   ],
   "source": [
    "from sklearn.preprocessing import MinMaxScaler\n",
    "scaler = MinMaxScaler()\n",
    "feature_minmax_transform_data = scaler.fit_transform(test[feature_columns])\n",
    "feature_minmax_transform = pd.DataFrame(columns=feature_columns, data=feature_minmax_transform_data, index=test.index)\n",
    "feature_minmax_transform.head()"
   ]
  },
  {
   "cell_type": "code",
   "execution_count": 39,
   "metadata": {},
   "outputs": [
    {
     "data": {
      "text/html": [
       "<div>\n",
       "<style scoped>\n",
       "    .dataframe tbody tr th:only-of-type {\n",
       "        vertical-align: middle;\n",
       "    }\n",
       "\n",
       "    .dataframe tbody tr th {\n",
       "        vertical-align: top;\n",
       "    }\n",
       "\n",
       "    .dataframe thead th {\n",
       "        text-align: right;\n",
       "    }\n",
       "</style>\n",
       "<table border=\"1\" class=\"dataframe\">\n",
       "  <thead>\n",
       "    <tr style=\"text-align: right;\">\n",
       "      <th></th>\n",
       "      <th>Open</th>\n",
       "      <th>High</th>\n",
       "      <th>Low</th>\n",
       "      <th>Volume</th>\n",
       "    </tr>\n",
       "    <tr>\n",
       "      <th>Date</th>\n",
       "      <th></th>\n",
       "      <th></th>\n",
       "      <th></th>\n",
       "      <th></th>\n",
       "    </tr>\n",
       "  </thead>\n",
       "  <tbody>\n",
       "    <tr>\n",
       "      <th>2010-01-04</th>\n",
       "      <td>0.096121</td>\n",
       "      <td>0.097189</td>\n",
       "      <td>0.100111</td>\n",
       "      <td>0.062093</td>\n",
       "    </tr>\n",
       "    <tr>\n",
       "      <th>2010-01-05</th>\n",
       "      <td>0.097390</td>\n",
       "      <td>0.094677</td>\n",
       "      <td>0.103013</td>\n",
       "      <td>0.096784</td>\n",
       "    </tr>\n",
       "    <tr>\n",
       "      <th>2010-01-06</th>\n",
       "      <td>0.098576</td>\n",
       "      <td>0.100336</td>\n",
       "      <td>0.106211</td>\n",
       "      <td>0.132699</td>\n",
       "    </tr>\n",
       "    <tr>\n",
       "      <th>2010-01-07</th>\n",
       "      <td>0.099063</td>\n",
       "      <td>0.095141</td>\n",
       "      <td>0.100667</td>\n",
       "      <td>0.059204</td>\n",
       "    </tr>\n",
       "    <tr>\n",
       "      <th>2010-01-08</th>\n",
       "      <td>0.096121</td>\n",
       "      <td>0.093030</td>\n",
       "      <td>0.097702</td>\n",
       "      <td>0.081795</td>\n",
       "    </tr>\n",
       "  </tbody>\n",
       "</table>\n",
       "</div>"
      ],
      "text/plain": [
       "                Open      High       Low    Volume\n",
       "Date                                              \n",
       "2010-01-04  0.096121  0.097189  0.100111  0.062093\n",
       "2010-01-05  0.097390  0.094677  0.103013  0.096784\n",
       "2010-01-06  0.098576  0.100336  0.106211  0.132699\n",
       "2010-01-07  0.099063  0.095141  0.100667  0.059204\n",
       "2010-01-08  0.096121  0.093030  0.097702  0.081795"
      ]
     },
     "metadata": {},
     "output_type": "display_data"
    },
    {
     "name": "stdout",
     "output_type": "stream",
     "text": [
      "Shape of features :  (2461, 4)\n",
      "Shape of target :  (2461, 1)\n"
     ]
    },
    {
     "data": {
      "text/html": [
       "<div>\n",
       "<style scoped>\n",
       "    .dataframe tbody tr th:only-of-type {\n",
       "        vertical-align: middle;\n",
       "    }\n",
       "\n",
       "    .dataframe tbody tr th {\n",
       "        vertical-align: top;\n",
       "    }\n",
       "\n",
       "    .dataframe thead th {\n",
       "        text-align: right;\n",
       "    }\n",
       "</style>\n",
       "<table border=\"1\" class=\"dataframe\">\n",
       "  <thead>\n",
       "    <tr style=\"text-align: right;\">\n",
       "      <th></th>\n",
       "      <th>Open</th>\n",
       "      <th>High</th>\n",
       "      <th>Low</th>\n",
       "      <th>Volume</th>\n",
       "    </tr>\n",
       "    <tr>\n",
       "      <th>Date</th>\n",
       "      <th></th>\n",
       "      <th></th>\n",
       "      <th></th>\n",
       "      <th></th>\n",
       "    </tr>\n",
       "  </thead>\n",
       "  <tbody>\n",
       "    <tr>\n",
       "      <th>2019-12-23</th>\n",
       "      <td>0.992078</td>\n",
       "      <td>0.992105</td>\n",
       "      <td>0.988153</td>\n",
       "      <td>0.010291</td>\n",
       "    </tr>\n",
       "    <tr>\n",
       "      <th>2019-12-24</th>\n",
       "      <td>0.982060</td>\n",
       "      <td>0.979798</td>\n",
       "      <td>0.992258</td>\n",
       "      <td>0.006090</td>\n",
       "    </tr>\n",
       "    <tr>\n",
       "      <th>2019-12-26</th>\n",
       "      <td>0.981594</td>\n",
       "      <td>0.976547</td>\n",
       "      <td>0.988035</td>\n",
       "      <td>0.009785</td>\n",
       "    </tr>\n",
       "    <tr>\n",
       "      <th>2019-12-27</th>\n",
       "      <td>0.978099</td>\n",
       "      <td>0.995588</td>\n",
       "      <td>0.989443</td>\n",
       "      <td>0.031299</td>\n",
       "    </tr>\n",
       "    <tr>\n",
       "      <th>2019-12-30</th>\n",
       "      <td>1.000000</td>\n",
       "      <td>1.000000</td>\n",
       "      <td>1.000000</td>\n",
       "      <td>0.012090</td>\n",
       "    </tr>\n",
       "  </tbody>\n",
       "</table>\n",
       "</div>"
      ],
      "text/plain": [
       "                Open      High       Low    Volume\n",
       "Date                                              \n",
       "2019-12-23  0.992078  0.992105  0.988153  0.010291\n",
       "2019-12-24  0.982060  0.979798  0.992258  0.006090\n",
       "2019-12-26  0.981594  0.976547  0.988035  0.009785\n",
       "2019-12-27  0.978099  0.995588  0.989443  0.031299\n",
       "2019-12-30  1.000000  1.000000  1.000000  0.012090"
      ]
     },
     "metadata": {},
     "output_type": "display_data"
    },
    {
     "data": {
      "text/html": [
       "<div>\n",
       "<style scoped>\n",
       "    .dataframe tbody tr th:only-of-type {\n",
       "        vertical-align: middle;\n",
       "    }\n",
       "\n",
       "    .dataframe tbody tr th {\n",
       "        vertical-align: top;\n",
       "    }\n",
       "\n",
       "    .dataframe thead th {\n",
       "        text-align: right;\n",
       "    }\n",
       "</style>\n",
       "<table border=\"1\" class=\"dataframe\">\n",
       "  <thead>\n",
       "    <tr style=\"text-align: right;\">\n",
       "      <th></th>\n",
       "      <th>Close</th>\n",
       "    </tr>\n",
       "    <tr>\n",
       "      <th>Date</th>\n",
       "      <th></th>\n",
       "    </tr>\n",
       "  </thead>\n",
       "  <tbody>\n",
       "    <tr>\n",
       "      <th>2019-12-23</th>\n",
       "      <td>541.049988</td>\n",
       "    </tr>\n",
       "    <tr>\n",
       "      <th>2019-12-24</th>\n",
       "      <td>539.000000</td>\n",
       "    </tr>\n",
       "    <tr>\n",
       "      <th>2019-12-26</th>\n",
       "      <td>549.400024</td>\n",
       "    </tr>\n",
       "    <tr>\n",
       "      <th>2019-12-27</th>\n",
       "      <td>543.950012</td>\n",
       "    </tr>\n",
       "    <tr>\n",
       "      <th>2019-12-30</th>\n",
       "      <td>538.750000</td>\n",
       "    </tr>\n",
       "  </tbody>\n",
       "</table>\n",
       "</div>"
      ],
      "text/plain": [
       "                 Close\n",
       "Date                  \n",
       "2019-12-23  541.049988\n",
       "2019-12-24  539.000000\n",
       "2019-12-26  549.400024\n",
       "2019-12-27  543.950012\n",
       "2019-12-30  538.750000"
      ]
     },
     "metadata": {},
     "output_type": "display_data"
    },
    {
     "name": "stdout",
     "output_type": "stream",
     "text": [
      "\n",
      " -----After process------ \n",
      "\n",
      "Shape of features :  (2371, 4)\n",
      "Shape of target :  (2371, 1)\n"
     ]
    },
    {
     "data": {
      "text/html": [
       "<div>\n",
       "<style scoped>\n",
       "    .dataframe tbody tr th:only-of-type {\n",
       "        vertical-align: middle;\n",
       "    }\n",
       "\n",
       "    .dataframe tbody tr th {\n",
       "        vertical-align: top;\n",
       "    }\n",
       "\n",
       "    .dataframe thead th {\n",
       "        text-align: right;\n",
       "    }\n",
       "</style>\n",
       "<table border=\"1\" class=\"dataframe\">\n",
       "  <thead>\n",
       "    <tr style=\"text-align: right;\">\n",
       "      <th></th>\n",
       "      <th>Close</th>\n",
       "    </tr>\n",
       "    <tr>\n",
       "      <th>Date</th>\n",
       "      <th></th>\n",
       "    </tr>\n",
       "  </thead>\n",
       "  <tbody>\n",
       "    <tr>\n",
       "      <th>2019-08-07</th>\n",
       "      <td>414.600006</td>\n",
       "    </tr>\n",
       "    <tr>\n",
       "      <th>2019-08-08</th>\n",
       "      <td>420.399994</td>\n",
       "    </tr>\n",
       "    <tr>\n",
       "      <th>2019-08-09</th>\n",
       "      <td>410.500000</td>\n",
       "    </tr>\n",
       "    <tr>\n",
       "      <th>2019-08-13</th>\n",
       "      <td>417.350006</td>\n",
       "    </tr>\n",
       "    <tr>\n",
       "      <th>2019-08-14</th>\n",
       "      <td>419.149994</td>\n",
       "    </tr>\n",
       "  </tbody>\n",
       "</table>\n",
       "</div>"
      ],
      "text/plain": [
       "                 Close\n",
       "Date                  \n",
       "2019-08-07  414.600006\n",
       "2019-08-08  420.399994\n",
       "2019-08-09  410.500000\n",
       "2019-08-13  417.350006\n",
       "2019-08-14  419.149994"
      ]
     },
     "metadata": {},
     "output_type": "display_data"
    }
   ],
   "source": [
    "display(feature_minmax_transform.head())\n",
    "print('Shape of features : ', feature_minmax_transform.shape)\n",
    "print('Shape of target : ', target_adj_close.shape)\n",
    "\n",
    "# Shift target array because we want to predict the n + 1 day value\n",
    "\n",
    "\n",
    "target_adj_close = target_adj_close.shift(-1)\n",
    "validation_y = target_adj_close[-90:-1]\n",
    "target_adj_close = target_adj_close[:-90]\n",
    "\n",
    "# Taking last 90 rows of data to be validation set\n",
    "validation_X = feature_minmax_transform[-90:-1]\n",
    "feature_minmax_transform = feature_minmax_transform[:-90]\n",
    "display(validation_X.tail())\n",
    "display(validation_y.tail())\n",
    "\n",
    "print(\"\\n -----After process------ \\n\")\n",
    "print('Shape of features : ', feature_minmax_transform.shape)\n",
    "print('Shape of target : ', target_adj_close.shape)\n",
    "display(target_adj_close.tail())\n"
   ]
  },
  {
   "cell_type": "code",
   "execution_count": 40,
   "metadata": {},
   "outputs": [],
   "source": [
    "ts_split= TimeSeriesSplit(n_splits=10)\n",
    "for train_index, test_index in ts_split.split(feature_minmax_transform):\n",
    "        X_train, X_test = feature_minmax_transform[:len(train_index)], feature_minmax_transform[len(train_index): (len(train_index)+len(test_index))]\n",
    "        y_train, y_test = target_adj_close[:len(train_index)].values.ravel(), target_adj_close[len(train_index): (len(train_index)+len(test_index))].values.ravel()"
   ]
  },
  {
   "cell_type": "code",
   "execution_count": 41,
   "metadata": {},
   "outputs": [
    {
     "data": {
      "text/plain": [
       "(2156, 4)"
      ]
     },
     "execution_count": 41,
     "metadata": {},
     "output_type": "execute_result"
    }
   ],
   "source": [
    "X_train.shape"
   ]
  },
  {
   "cell_type": "code",
   "execution_count": 42,
   "metadata": {},
   "outputs": [
    {
     "data": {
      "text/plain": [
       "(215, 4)"
      ]
     },
     "execution_count": 42,
     "metadata": {},
     "output_type": "execute_result"
    }
   ],
   "source": [
    "X_test.shape"
   ]
  },
  {
   "cell_type": "code",
   "execution_count": 43,
   "metadata": {},
   "outputs": [
    {
     "data": {
      "text/plain": [
       "(2156,)"
      ]
     },
     "execution_count": 43,
     "metadata": {},
     "output_type": "execute_result"
    }
   ],
   "source": [
    "y_train.shape"
   ]
  },
  {
   "cell_type": "code",
   "execution_count": 44,
   "metadata": {},
   "outputs": [
    {
     "data": {
      "text/plain": [
       "(215,)"
      ]
     },
     "execution_count": 44,
     "metadata": {},
     "output_type": "execute_result"
    }
   ],
   "source": [
    "y_test.shape"
   ]
  },
  {
   "cell_type": "code",
   "execution_count": 45,
   "metadata": {},
   "outputs": [],
   "source": [
    "def validate_result(model, model_name):\n",
    "    predicted = model.predict(validation_X)\n",
    "    RSME_score = np.sqrt(mean_squared_error(validation_y, predicted))\n",
    "    print('RMSE: ', RSME_score)\n",
    "    \n",
    "    R2_score = r2_score(validation_y, predicted)\n",
    "    print('R2 score: ', R2_score)\n",
    "\n",
    "    plt.plot(validation_y.index, predicted,'r', label='Predict')\n",
    "    plt.plot(validation_y.index, validation_y,'b', label='Actual')\n",
    "    plt.ylabel('Price')\n",
    "    plt.gca().xaxis.set_major_formatter(mdates.DateFormatter('%Y-%m-%d'))\n",
    "    plt.gca().xaxis.set_major_locator(mdates.MonthLocator())\n",
    "    plt.title(model_name + ' Predict vs Actual')\n",
    "    plt.legend(loc='upper right')\n",
    "    plt.show()"
   ]
  },
  {
   "cell_type": "code",
   "execution_count": 46,
   "metadata": {},
   "outputs": [
    {
     "name": "stdout",
     "output_type": "stream",
     "text": [
      "RMSE:  120.06321393287223\n",
      "R2 score:  -4.543940914485525\n"
     ]
    },
    {
     "data": {
      "image/png": "[encoded data removed]",
      "text/plain": [
       "<Figure size 432x288 with 1 Axes>"
      ]
     },
     "metadata": {
      "needs_background": "light"
     },
     "output_type": "display_data"
    }
   ],
   "source": [
    "from sklearn.tree import DecisionTreeRegressor\n",
    "\n",
    "dt = DecisionTreeRegressor(random_state=0)\n",
    "\n",
    "benchmark_dt=dt.fit(X_train, y_train)\n",
    "\n",
    "validate_result(benchmark_dt, 'Decision Tree Regression')"
   ]
  },
  {
   "cell_type": "code",
   "execution_count": 47,
   "metadata": {},
   "outputs": [],
   "source": [
    "X_train =np.array(X_train)\n",
    "X_test =np.array(X_test)\n",
    "\n",
    "X_tr_t = X_train.reshape(X_train.shape[0], 1, X_train.shape[1])\n",
    "X_tst_t = X_test.reshape(X_test.shape[0], 1, X_test.shape[1])"
   ]
  },
  {
   "cell_type": "code",
   "execution_count": 48,
   "metadata": {},
   "outputs": [
    {
     "name": "stdout",
     "output_type": "stream",
     "text": [
      "Epoch 1/200\n",
      "2156/2156 [==============================] - 1s 470us/step - loss: 53305.6743\n",
      "Epoch 2/200\n",
      "2156/2156 [==============================] - 1s 260us/step - loss: 50825.7300\n",
      "Epoch 3/200\n",
      "2156/2156 [==============================] - 1s 274us/step - loss: 45621.2651\n",
      "Epoch 4/200\n",
      "2156/2156 [==============================] - 1s 269us/step - loss: 38544.5466\n",
      "Epoch 5/200\n",
      "2156/2156 [==============================] - 1s 255us/step - loss: 30825.5082\n",
      "Epoch 6/200\n",
      "2156/2156 [==============================] - 1s 274us/step - loss: 23349.9276\n",
      "Epoch 7/200\n",
      "2156/2156 [==============================] - 1s 285us/step - loss: 16684.0449\n",
      "Epoch 8/200\n",
      "2156/2156 [==============================] - 1s 298us/step - loss: 11160.2752\n",
      "Epoch 9/200\n",
      "2156/2156 [==============================] - 1s 264us/step - loss: 6919.2737\n",
      "Epoch 10/200\n",
      "2156/2156 [==============================] - 1s 257us/step - loss: 3933.7728\n",
      "Epoch 11/200\n",
      "2156/2156 [==============================] - 1s 254us/step - loss: 2037.8451\n",
      "Epoch 12/200\n",
      "2156/2156 [==============================] - 1s 257us/step - loss: 974.4748\n",
      "Epoch 13/200\n",
      "2156/2156 [==============================] - 1s 259us/step - loss: 460.6309\n",
      "Epoch 14/200\n",
      "2156/2156 [==============================] - 1s 257us/step - loss: 252.0869\n",
      "Epoch 15/200\n",
      "2156/2156 [==============================] - 1s 255us/step - loss: 181.9304\n",
      "Epoch 16/200\n",
      "2156/2156 [==============================] - 1s 253us/step - loss: 160.7143\n",
      "Epoch 17/200\n",
      "2156/2156 [==============================] - 1s 269us/step - loss: 151.8676\n",
      "Epoch 18/200\n",
      "2156/2156 [==============================] - 1s 261us/step - loss: 143.1562\n",
      "Epoch 19/200\n",
      "2156/2156 [==============================] - 1s 255us/step - loss: 133.7711\n",
      "Epoch 20/200\n",
      "2156/2156 [==============================] - 1s 255us/step - loss: 123.5238\n",
      "Epoch 21/200\n",
      "2156/2156 [==============================] - 1s 268us/step - loss: 112.8644\n",
      "Epoch 22/200\n",
      "2156/2156 [==============================] - 1s 252us/step - loss: 102.1355\n",
      "Epoch 23/200\n",
      "2156/2156 [==============================] - 1s 256us/step - loss: 91.7008\n",
      "Epoch 24/200\n",
      "2156/2156 [==============================] - 1s 329us/step - loss: 81.8781\n",
      "Epoch 25/200\n",
      "2156/2156 [==============================] - 1s 295us/step - loss: 72.9695\n",
      "Epoch 26/200\n",
      "2156/2156 [==============================] - 1s 268us/step - loss: 65.2082\n",
      "Epoch 27/200\n",
      "2156/2156 [==============================] - 1s 271us/step - loss: 58.7210\n",
      "Epoch 28/200\n",
      "2156/2156 [==============================] - 1s 278us/step - loss: 53.5195\n",
      "Epoch 29/200\n",
      "2156/2156 [==============================] - 1s 274us/step - loss: 49.4885\n",
      "Epoch 30/200\n",
      "2156/2156 [==============================] - 1s 270us/step - loss: 46.4487\n",
      "Epoch 31/200\n",
      "2156/2156 [==============================] - 1s 271us/step - loss: 44.1588\n",
      "Epoch 32/200\n",
      "2156/2156 [==============================] - 1s 275us/step - loss: 42.3994\n",
      "Epoch 33/200\n",
      "2156/2156 [==============================] - 1s 274us/step - loss: 41.0019\n",
      "Epoch 34/200\n",
      "2156/2156 [==============================] - 1s 298us/step - loss: 39.8414\n",
      "Epoch 35/200\n",
      "2156/2156 [==============================] - 1s 290us/step - loss: 38.8289\n",
      "Epoch 36/200\n",
      "2156/2156 [==============================] - 1s 265us/step - loss: 37.9197\n",
      "Epoch 37/200\n",
      "2156/2156 [==============================] - 1s 272us/step - loss: 37.0855\n",
      "Epoch 38/200\n",
      "2156/2156 [==============================] - 1s 266us/step - loss: 36.3121\n",
      "Epoch 39/200\n",
      "2156/2156 [==============================] - 1s 266us/step - loss: 35.5888\n",
      "Epoch 40/200\n",
      "2156/2156 [==============================] - 1s 268us/step - loss: 34.9122\n",
      "Epoch 41/200\n",
      "2156/2156 [==============================] - 1s 280us/step - loss: 34.2773\n",
      "Epoch 42/200\n",
      "2156/2156 [==============================] - 1s 269us/step - loss: 33.6829\n",
      "Epoch 43/200\n",
      "2156/2156 [==============================] - 1s 269us/step - loss: 33.1289\n",
      "Epoch 44/200\n",
      "2156/2156 [==============================] - 1s 274us/step - loss: 32.6130\n",
      "Epoch 45/200\n",
      "2156/2156 [==============================] - 1s 261us/step - loss: 32.1351\n",
      "Epoch 46/200\n",
      "2156/2156 [==============================] - 1s 264us/step - loss: 31.6929\n",
      "Epoch 47/200\n",
      "2156/2156 [==============================] - 1s 271us/step - loss: 31.2865\n",
      "Epoch 48/200\n",
      "2156/2156 [==============================] - 1s 269us/step - loss: 30.9137\n",
      "Epoch 49/200\n",
      "2156/2156 [==============================] - 1s 270us/step - loss: 30.5731\n",
      "Epoch 50/200\n",
      "2156/2156 [==============================] - 1s 264us/step - loss: 30.2645\n",
      "Epoch 51/200\n",
      "2156/2156 [==============================] - 1s 266us/step - loss: 29.9848\n",
      "Epoch 52/200\n",
      "2156/2156 [==============================] - 1s 272us/step - loss: 29.7343\n",
      "Epoch 53/200\n",
      "2156/2156 [==============================] - 1s 276us/step - loss: 29.5107\n",
      "Epoch 54/200\n",
      "2156/2156 [==============================] - 1s 274us/step - loss: 29.3123\n",
      "Epoch 55/200\n",
      "2156/2156 [==============================] - 1s 268us/step - loss: 29.1373\n",
      "Epoch 56/200\n",
      "2156/2156 [==============================] - 1s 274us/step - loss: 28.9835\n",
      "Epoch 57/200\n",
      "2156/2156 [==============================] - 1s 279us/step - loss: 28.8494\n",
      "Epoch 58/200\n",
      "2156/2156 [==============================] - 1s 273us/step - loss: 28.7331\n",
      "Epoch 59/200\n",
      "2156/2156 [==============================] - 1s 273us/step - loss: 28.6326\n",
      "Epoch 60/200\n",
      "2156/2156 [==============================] - 1s 279us/step - loss: 28.5462\n",
      "Epoch 61/200\n",
      "2156/2156 [==============================] - 1s 284us/step - loss: 28.4721\n",
      "Epoch 62/200\n",
      "2156/2156 [==============================] - 1s 293us/step - loss: 28.4086\n",
      "Epoch 63/200\n",
      "2156/2156 [==============================] - 1s 280us/step - loss: 28.3542\n",
      "Epoch 64/200\n",
      "2156/2156 [==============================] - 1s 269us/step - loss: 28.3074\n",
      "Epoch 65/200\n",
      "2156/2156 [==============================] - 1s 278us/step - loss: 28.2671\n",
      "Epoch 66/200\n",
      "2156/2156 [==============================] - 1s 272us/step - loss: 28.2321\n",
      "Epoch 67/200\n",
      "2156/2156 [==============================] - 1s 271us/step - loss: 28.2015\n",
      "Epoch 68/200\n",
      "2156/2156 [==============================] - 1s 264us/step - loss: 28.1744\n",
      "Epoch 69/200\n",
      "2156/2156 [==============================] - 1s 270us/step - loss: 28.1503\n",
      "Epoch 70/200\n",
      "2156/2156 [==============================] - 1s 274us/step - loss: 28.1285\n",
      "Epoch 71/200\n",
      "2156/2156 [==============================] - 1s 274us/step - loss: 28.1086\n",
      "Epoch 72/200\n",
      "2156/2156 [==============================] - 1s 273us/step - loss: 28.0902\n",
      "Epoch 73/200\n",
      "2156/2156 [==============================] - 1s 279us/step - loss: 28.0731\n",
      "Epoch 74/200\n",
      "2156/2156 [==============================] - 1s 268us/step - loss: 28.0571\n",
      "Epoch 75/200\n",
      "2156/2156 [==============================] - 1s 267us/step - loss: 28.0419\n",
      "Epoch 76/200\n",
      "2156/2156 [==============================] - 1s 276us/step - loss: 28.0274\n",
      "Epoch 77/200\n",
      "2156/2156 [==============================] - 1s 276us/step - loss: 28.0135\n",
      "Epoch 78/200\n",
      "2156/2156 [==============================] - 1s 271us/step - loss: 28.0001\n",
      "Epoch 79/200\n",
      "2156/2156 [==============================] - 1s 265us/step - loss: 27.9872\n",
      "Epoch 80/200\n",
      "2156/2156 [==============================] - 1s 276us/step - loss: 27.9748\n",
      "Epoch 81/200\n",
      "2156/2156 [==============================] - 1s 272us/step - loss: 27.9626\n",
      "Epoch 82/200\n",
      "2156/2156 [==============================] - 1s 274us/step - loss: 27.9508\n",
      "Epoch 83/200\n",
      "2156/2156 [==============================] - 1s 269us/step - loss: 27.9393\n",
      "Epoch 84/200\n",
      "2156/2156 [==============================] - 1s 270us/step - loss: 27.9281\n",
      "Epoch 85/200\n",
      "2156/2156 [==============================] - 1s 273us/step - loss: 27.9172\n",
      "Epoch 86/200\n",
      "2156/2156 [==============================] - 1s 275us/step - loss: 27.9065\n",
      "Epoch 87/200\n",
      "2156/2156 [==============================] - 1s 276us/step - loss: 27.8960\n",
      "Epoch 88/200\n",
      "2156/2156 [==============================] - 1s 288us/step - loss: 27.8858\n",
      "Epoch 89/200\n",
      "2156/2156 [==============================] - 1s 308us/step - loss: 27.8757\n",
      "Epoch 90/200\n",
      "2156/2156 [==============================] - 1s 280us/step - loss: 27.8659\n",
      "Epoch 91/200\n",
      "2156/2156 [==============================] - 1s 276us/step - loss: 27.8563\n",
      "Epoch 92/200\n",
      "2156/2156 [==============================] - 1s 277us/step - loss: 27.8468\n",
      "Epoch 93/200\n"
     ]
    },
    {
     "name": "stdout",
     "output_type": "stream",
     "text": [
      "2156/2156 [==============================] - 1s 266us/step - loss: 27.8376\n",
      "Epoch 94/200\n",
      "2156/2156 [==============================] - 1s 268us/step - loss: 27.8285\n",
      "Epoch 95/200\n",
      "2156/2156 [==============================] - 1s 269us/step - loss: 27.8196\n",
      "Epoch 96/200\n",
      "2156/2156 [==============================] - 1s 278us/step - loss: 27.8108\n",
      "Epoch 97/200\n",
      "2156/2156 [==============================] - 1s 273us/step - loss: 27.8022\n",
      "Epoch 98/200\n",
      "2156/2156 [==============================] - 1s 266us/step - loss: 27.7938\n",
      "Epoch 99/200\n",
      "2156/2156 [==============================] - 1s 276us/step - loss: 27.7855\n",
      "Epoch 100/200\n",
      "2156/2156 [==============================] - 1s 279us/step - loss: 27.7773\n",
      "Epoch 101/200\n",
      "2156/2156 [==============================] - 1s 262us/step - loss: 27.7693\n",
      "Epoch 102/200\n",
      "2156/2156 [==============================] - 1s 278us/step - loss: 27.7614\n",
      "Epoch 103/200\n",
      "2156/2156 [==============================] - 1s 261us/step - loss: 27.7536\n",
      "Epoch 104/200\n",
      "2156/2156 [==============================] - 1s 269us/step - loss: 27.7459\n",
      "Epoch 105/200\n",
      "2156/2156 [==============================] - 1s 276us/step - loss: 27.7384\n",
      "Epoch 106/200\n",
      "2156/2156 [==============================] - 1s 280us/step - loss: 27.7310\n",
      "Epoch 107/200\n",
      "2156/2156 [==============================] - 1s 268us/step - loss: 27.7236\n",
      "Epoch 108/200\n",
      "2156/2156 [==============================] - 1s 262us/step - loss: 27.7164\n",
      "Epoch 109/200\n",
      "2156/2156 [==============================] - 1s 272us/step - loss: 27.7093\n",
      "Epoch 110/200\n",
      "2156/2156 [==============================] - 1s 273us/step - loss: 27.7022\n",
      "Epoch 111/200\n",
      "2156/2156 [==============================] - 1s 307us/step - loss: 27.6953\n",
      "Epoch 112/200\n",
      "2156/2156 [==============================] - 1s 357us/step - loss: 27.6885\n",
      "Epoch 113/200\n",
      "2156/2156 [==============================] - 1s 299us/step - loss: 27.6817\n",
      "Epoch 114/200\n",
      "2156/2156 [==============================] - 1s 291us/step - loss: 27.6750\n",
      "Epoch 115/200\n",
      "2156/2156 [==============================] - 1s 273us/step - loss: 27.6684\n",
      "Epoch 116/200\n",
      "2156/2156 [==============================] - 1s 290us/step - loss: 27.6619\n",
      "Epoch 117/200\n",
      "2156/2156 [==============================] - 1s 269us/step - loss: 27.6554\n",
      "Epoch 118/200\n",
      "2156/2156 [==============================] - 1s 291us/step - loss: 27.6490\n",
      "Epoch 119/200\n",
      "2156/2156 [==============================] - 1s 331us/step - loss: 27.6427\n",
      "Epoch 120/200\n",
      "2156/2156 [==============================] - 1s 300us/step - loss: 27.6365\n",
      "Epoch 121/200\n",
      "2156/2156 [==============================] - 1s 309us/step - loss: 27.6303\n",
      "Epoch 122/200\n",
      "2156/2156 [==============================] - 1s 283us/step - loss: 27.6242\n",
      "Epoch 123/200\n",
      "2156/2156 [==============================] - 1s 271us/step - loss: 27.6181\n",
      "Epoch 124/200\n",
      "2156/2156 [==============================] - 1s 273us/step - loss: 27.6121\n",
      "Epoch 125/200\n",
      "2156/2156 [==============================] - 1s 266us/step - loss: 27.6062\n",
      "Epoch 126/200\n",
      "2156/2156 [==============================] - 1s 269us/step - loss: 27.6003\n",
      "Epoch 127/200\n",
      "2156/2156 [==============================] - 1s 253us/step - loss: 27.5944\n",
      "Epoch 128/200\n",
      "2156/2156 [==============================] - 1s 306us/step - loss: 27.5887\n",
      "Epoch 129/200\n",
      "2156/2156 [==============================] - 1s 249us/step - loss: 27.5829\n",
      "Epoch 130/200\n",
      "2156/2156 [==============================] - 1s 269us/step - loss: 27.5772\n",
      "Epoch 131/200\n",
      "2156/2156 [==============================] - 1s 265us/step - loss: 27.5715\n",
      "Epoch 132/200\n",
      "2156/2156 [==============================] - 1s 256us/step - loss: 27.5659\n",
      "Epoch 133/200\n",
      "2156/2156 [==============================] - 1s 288us/step - loss: 27.5604\n",
      "Epoch 134/200\n",
      "2156/2156 [==============================] - 1s 281us/step - loss: 27.5549\n",
      "Epoch 135/200\n",
      "2156/2156 [==============================] - 1s 265us/step - loss: 27.5494\n",
      "Epoch 136/200\n",
      "2156/2156 [==============================] - 0s 231us/step - loss: 27.5439\n",
      "Epoch 137/200\n",
      "2156/2156 [==============================] - 1s 264us/step - loss: 27.5385\n",
      "Epoch 138/200\n",
      "2156/2156 [==============================] - 1s 285us/step - loss: 27.5331\n",
      "Epoch 139/200\n",
      "2156/2156 [==============================] - 1s 257us/step - loss: 27.5278\n",
      "Epoch 140/200\n",
      "2156/2156 [==============================] - 1s 291us/step - loss: 27.5225\n",
      "Epoch 141/200\n",
      "2156/2156 [==============================] - 1s 308us/step - loss: 27.5172\n",
      "Epoch 142/200\n",
      "2156/2156 [==============================] - 1s 286us/step - loss: 27.5120\n",
      "Epoch 143/200\n",
      "2156/2156 [==============================] - 1s 323us/step - loss: 27.5068\n",
      "Epoch 144/200\n",
      "2156/2156 [==============================] - 1s 292us/step - loss: 27.5016\n",
      "Epoch 145/200\n",
      "2156/2156 [==============================] - 1s 282us/step - loss: 27.4964\n",
      "Epoch 146/200\n",
      "2156/2156 [==============================] - 1s 257us/step - loss: 27.4913\n",
      "Epoch 147/200\n",
      "2156/2156 [==============================] - 1s 262us/step - loss: 27.4862\n",
      "Epoch 148/200\n",
      "2156/2156 [==============================] - 1s 258us/step - loss: 27.4811\n",
      "Epoch 149/200\n",
      "2156/2156 [==============================] - 1s 253us/step - loss: 27.4761\n",
      "Epoch 150/200\n",
      "2156/2156 [==============================] - 1s 300us/step - loss: 27.4711\n",
      "Epoch 151/200\n",
      "2156/2156 [==============================] - 1s 271us/step - loss: 27.4661\n",
      "Epoch 152/200\n",
      "2156/2156 [==============================] - 1s 288us/step - loss: 27.4611\n",
      "Epoch 153/200\n",
      "2156/2156 [==============================] - 1s 246us/step - loss: 27.4562\n",
      "Epoch 154/200\n",
      "2156/2156 [==============================] - 1s 257us/step - loss: 27.4513\n",
      "Epoch 155/200\n",
      "2156/2156 [==============================] - 1s 264us/step - loss: 27.4463\n",
      "Epoch 156/200\n",
      "2156/2156 [==============================] - 1s 264us/step - loss: 27.4415\n",
      "Epoch 157/200\n",
      "2156/2156 [==============================] - 1s 245us/step - loss: 27.4366\n",
      "Epoch 158/200\n",
      "2156/2156 [==============================] - 1s 234us/step - loss: 27.4317\n",
      "Epoch 159/200\n",
      "2156/2156 [==============================] - 1s 243us/step - loss: 27.4269\n",
      "Epoch 160/200\n",
      "2156/2156 [==============================] - 1s 249us/step - loss: 27.4221\n",
      "Epoch 161/200\n",
      "2156/2156 [==============================] - 1s 238us/step - loss: 27.4173\n",
      "Epoch 162/200\n",
      "2156/2156 [==============================] - 1s 239us/step - loss: 27.4126\n",
      "Epoch 163/200\n",
      "2156/2156 [==============================] - 1s 238us/step - loss: 27.4078\n",
      "Epoch 164/200\n",
      "2156/2156 [==============================] - 1s 255us/step - loss: 27.4031\n",
      "Epoch 165/200\n",
      "2156/2156 [==============================] - 1s 249us/step - loss: 27.3984\n",
      "Epoch 166/200\n",
      "2156/2156 [==============================] - 1s 250us/step - loss: 27.3937\n",
      "Epoch 167/200\n",
      "2156/2156 [==============================] - 1s 232us/step - loss: 27.3890\n",
      "Epoch 168/200\n",
      "2156/2156 [==============================] - 1s 266us/step - loss: 27.3843\n",
      "Epoch 169/200\n",
      "2156/2156 [==============================] - 1s 296us/step - loss: 27.3797\n",
      "Epoch 170/200\n",
      "2156/2156 [==============================] - 1s 278us/step - loss: 27.3750\n",
      "Epoch 171/200\n",
      "2156/2156 [==============================] - 1s 276us/step - loss: 27.3704\n",
      "Epoch 172/200\n",
      "2156/2156 [==============================] - 1s 312us/step - loss: 27.3658\n",
      "Epoch 173/200\n",
      "2156/2156 [==============================] - 1s 306us/step - loss: 27.3612\n",
      "Epoch 174/200\n",
      "2156/2156 [==============================] - 1s 303us/step - loss: 27.3566\n",
      "Epoch 175/200\n",
      "2156/2156 [==============================] - 1s 241us/step - loss: 27.3520\n",
      "Epoch 176/200\n",
      "2156/2156 [==============================] - 1s 266us/step - loss: 27.3475\n",
      "Epoch 177/200\n",
      "2156/2156 [==============================] - 1s 324us/step - loss: 27.3429\n",
      "Epoch 178/200\n",
      "2156/2156 [==============================] - 1s 286us/step - loss: 27.3384\n",
      "Epoch 179/200\n",
      "2156/2156 [==============================] - 1s 280us/step - loss: 27.3339\n",
      "Epoch 180/200\n",
      "2156/2156 [==============================] - 1s 281us/step - loss: 27.3293\n",
      "Epoch 181/200\n",
      "2156/2156 [==============================] - 1s 280us/step - loss: 27.3248\n",
      "Epoch 182/200\n",
      "2156/2156 [==============================] - 1s 285us/step - loss: 27.3203\n",
      "Epoch 183/200\n",
      "2156/2156 [==============================] - 1s 304us/step - loss: 27.3159\n",
      "Epoch 184/200\n",
      "2156/2156 [==============================] - 1s 289us/step - loss: 27.3114\n",
      "Epoch 185/200\n"
     ]
    },
    {
     "name": "stdout",
     "output_type": "stream",
     "text": [
      "2156/2156 [==============================] - 1s 270us/step - loss: 27.3069\n",
      "Epoch 186/200\n",
      "2156/2156 [==============================] - 1s 267us/step - loss: 27.3025\n",
      "Epoch 187/200\n",
      "2156/2156 [==============================] - 1s 269us/step - loss: 27.2980\n",
      "Epoch 188/200\n",
      "2156/2156 [==============================] - 1s 271us/step - loss: 27.2936\n",
      "Epoch 189/200\n",
      "2156/2156 [==============================] - 1s 271us/step - loss: 27.2892\n",
      "Epoch 190/200\n",
      "2156/2156 [==============================] - 1s 271us/step - loss: 27.2848\n",
      "Epoch 191/200\n",
      "2156/2156 [==============================] - 1s 290us/step - loss: 27.2804\n",
      "Epoch 192/200\n",
      "2156/2156 [==============================] - 1s 275us/step - loss: 27.2760\n",
      "Epoch 193/200\n",
      "2156/2156 [==============================] - 1s 286us/step - loss: 27.2716\n",
      "Epoch 194/200\n",
      "2156/2156 [==============================] - 1s 280us/step - loss: 27.2672\n",
      "Epoch 195/200\n",
      "2156/2156 [==============================] - 1s 282us/step - loss: 27.2628\n",
      "Epoch 196/200\n",
      "2156/2156 [==============================] - 1s 339us/step - loss: 27.2584\n",
      "Epoch 197/200\n",
      "2156/2156 [==============================] - 1s 319us/step - loss: 27.2541\n",
      "Epoch 198/200\n",
      "2156/2156 [==============================] - 1s 280us/step - loss: 27.2497\n",
      "Epoch 199/200\n",
      "2156/2156 [==============================] - 1s 283us/step - loss: 27.2454\n",
      "Epoch 200/200\n",
      "2156/2156 [==============================] - 1s 280us/step - loss: 27.2411\n"
     ]
    }
   ],
   "source": [
    "from keras.models import Sequential\n",
    "from keras.layers import Dense\n",
    "import keras.backend as K\n",
    "from keras.callbacks import EarlyStopping\n",
    "from keras.optimizers import Adam\n",
    "from keras.models import load_model\n",
    "from keras.layers import LSTM\n",
    "K.clear_session()\n",
    "model_lstm = Sequential()\n",
    "model_lstm.add(LSTM(16, input_shape=(1, X_train.shape[1]), activation='relu', return_sequences=False))\n",
    "model_lstm.add(Dense(1))\n",
    "model_lstm.compile(loss='mean_squared_error', optimizer='adam')\n",
    "early_stop = EarlyStopping(monitor='loss', patience=5, verbose=1)\n",
    "history_model_lstm = model_lstm.fit(X_tr_t, y_train, epochs=200, batch_size=8, verbose=1, shuffle=False, callbacks=[early_stop])"
   ]
  },
  {
   "cell_type": "code",
   "execution_count": 49,
   "metadata": {},
   "outputs": [
    {
     "name": "stdout",
     "output_type": "stream",
     "text": [
      "The R2 score on the Train set is:\t0.990\n",
      "The R2 score on the Test set is:\t0.951\n"
     ]
    }
   ],
   "source": [
    "y_pred_test_lstm = model_lstm.predict(X_tst_t)\n",
    "y_train_pred_lstm = model_lstm.predict(X_tr_t)\n",
    "print(\"The R2 score on the Train set is:\\t{:0.3f}\".format(r2_score(y_train, y_train_pred_lstm)))\n",
    "r2_train = r2_score(y_train, y_train_pred_lstm)\n",
    "\n",
    "print(\"The R2 score on the Test set is:\\t{:0.3f}\".format(r2_score(y_test, y_pred_test_lstm)))\n",
    "r2_test = r2_score(y_test, y_pred_test_lstm)"
   ]
  },
  {
   "cell_type": "code",
   "execution_count": 50,
   "metadata": {},
   "outputs": [
    {
     "name": "stdout",
     "output_type": "stream",
     "text": [
      "215/215 [==============================] - 0s 1ms/step\n"
     ]
    }
   ],
   "source": [
    "score_lstm= model_lstm.evaluate(X_tst_t, y_test, batch_size=1)"
   ]
  },
  {
   "cell_type": "code",
   "execution_count": 51,
   "metadata": {},
   "outputs": [
    {
     "name": "stdout",
     "output_type": "stream",
     "text": [
      "LSTM: 59.121219\n"
     ]
    }
   ],
   "source": [
    "print('LSTM: %f'%score_lstm)"
   ]
  },
  {
   "cell_type": "code",
   "execution_count": 52,
   "metadata": {},
   "outputs": [],
   "source": [
    "y_pred_test_LSTM = model_lstm.predict(X_tst_t)"
   ]
  },
  {
   "cell_type": "code",
   "execution_count": 53,
   "metadata": {},
   "outputs": [
    {
     "data": {
      "image/png": "[encoded data removed]",
      "text/plain": [
       "<Figure size 864x432 with 1 Axes>"
      ]
     },
     "metadata": {
      "needs_background": "light"
     },
     "output_type": "display_data"
    }
   ],
   "source": [
    "plt.figure(figsize=(12,6))\n",
    "plt.plot(y_test, label='True')\n",
    "plt.plot(y_pred_test_LSTM, label='LSTM')\n",
    "plt.title(\"LSTM's_Prediction - ICICI BANK\")\n",
    "plt.xlabel('Observation')\n",
    "plt.ylabel('INR_Scaled')\n",
    "plt.legend()\n",
    "plt.show()"
   ]
  },
  {
   "cell_type": "code",
   "execution_count": 54,
   "metadata": {},
   "outputs": [
    {
     "data": {
      "text/html": [
       "<div>\n",
       "<style scoped>\n",
       "    .dataframe tbody tr th:only-of-type {\n",
       "        vertical-align: middle;\n",
       "    }\n",
       "\n",
       "    .dataframe tbody tr th {\n",
       "        vertical-align: top;\n",
       "    }\n",
       "\n",
       "    .dataframe thead th {\n",
       "        text-align: right;\n",
       "    }\n",
       "</style>\n",
       "<table border=\"1\" class=\"dataframe\">\n",
       "  <thead>\n",
       "    <tr style=\"text-align: right;\">\n",
       "      <th></th>\n",
       "      <th>Actual Value</th>\n",
       "      <th>LSTM Prediction</th>\n",
       "      <th>Loss_LSTM</th>\n",
       "    </tr>\n",
       "  </thead>\n",
       "  <tbody>\n",
       "    <tr>\n",
       "      <th>0</th>\n",
       "      <td>305.000000</td>\n",
       "      <td>311.679779</td>\n",
       "      <td>53305.674281</td>\n",
       "    </tr>\n",
       "    <tr>\n",
       "      <th>1</th>\n",
       "      <td>314.149994</td>\n",
       "      <td>306.399109</td>\n",
       "      <td>50825.729951</td>\n",
       "    </tr>\n",
       "    <tr>\n",
       "      <th>2</th>\n",
       "      <td>303.600006</td>\n",
       "      <td>307.047577</td>\n",
       "      <td>45621.265129</td>\n",
       "    </tr>\n",
       "    <tr>\n",
       "      <th>3</th>\n",
       "      <td>315.950012</td>\n",
       "      <td>309.197998</td>\n",
       "      <td>38544.546574</td>\n",
       "    </tr>\n",
       "    <tr>\n",
       "      <th>4</th>\n",
       "      <td>306.600006</td>\n",
       "      <td>305.922241</td>\n",
       "      <td>30825.508164</td>\n",
       "    </tr>\n",
       "  </tbody>\n",
       "</table>\n",
       "</div>"
      ],
      "text/plain": [
       "   Actual Value  LSTM Prediction     Loss_LSTM\n",
       "0    305.000000       311.679779  53305.674281\n",
       "1    314.149994       306.399109  50825.729951\n",
       "2    303.600006       307.047577  45621.265129\n",
       "3    315.950012       309.197998  38544.546574\n",
       "4    306.600006       305.922241  30825.508164"
      ]
     },
     "execution_count": 54,
     "metadata": {},
     "output_type": "execute_result"
    }
   ],
   "source": [
    "col1 = pd.DataFrame(y_test, columns=['Actual Value'])\n",
    "\n",
    "col2 = pd.DataFrame(y_pred_test_LSTM, columns=['LSTM Prediction'])\n",
    "\n",
    "col3 = pd.DataFrame(history_model_lstm.history['loss'], columns=['Loss_LSTM'])\n",
    "results = pd.concat([col1, col2, col3], axis=1)\n",
    "results.head(5)"
   ]
  },
  {
   "cell_type": "code",
   "execution_count": 55,
   "metadata": {},
   "outputs": [
    {
     "name": "stdout",
     "output_type": "stream",
     "text": [
      "Mean Absolute Error: 5.985877600381545\n",
      "Mean Squared Error: 59.12123383656153\n",
      "Root Mean Squared Error: 7.689033348644128\n"
     ]
    }
   ],
   "source": [
    "from sklearn import metrics\n",
    "print('Mean Absolute Error:', metrics.mean_absolute_error(y_test, y_pred_test_LSTM))\n",
    "print('Mean Squared Error:', metrics.mean_squared_error(y_test,y_pred_test_LSTM ))\n",
    "print('Root Mean Squared Error:', np.sqrt(metrics.mean_squared_error(y_test,y_pred_test_LSTM )))"
   ]
  },
  {
   "cell_type": "markdown",
   "metadata": {},
   "source": [
    "#### In statistics, the mean squared error (MSE) of an estimator measures the average of the squares of the errors. The MSE is a measure of the quality of an estimator. it is always non-negative, and the smaller the MSE, the closer we are to finding the line of best fit.\n",
    "#### Root Mean Square Error (RMSE) tells us that our model was able to forecast the average daily close price in the test set within portion of the real close price."
   ]
  },
  {
   "cell_type": "markdown",
   "metadata": {},
   "source": [
    "## 3.Canara Bank "
   ]
  },
  {
   "cell_type": "code",
   "execution_count": 56,
   "metadata": {},
   "outputs": [],
   "source": [
    "#importing libraries\n",
    "\n",
    "import pandas as pd\n",
    "import numpy as np\n",
    "\n",
    "import matplotlib\n",
    "import matplotlib.pyplot as plt\n",
    "import matplotlib.dates as mdates\n",
    "\n",
    "%matplotlib inline\n",
    "\n",
    "from sklearn import linear_model\n",
    "from keras.layers import LSTM,Dense,Dropout\n",
    "from sklearn.preprocessing import MinMaxScaler\n",
    "from sklearn.metrics import mean_squared_error, r2_score\n",
    "from sklearn.model_selection import TimeSeriesSplit\n"
   ]
  },
  {
   "cell_type": "code",
   "execution_count": 57,
   "metadata": {},
   "outputs": [
    {
     "data": {
      "text/html": [
       "<div>\n",
       "<style scoped>\n",
       "    .dataframe tbody tr th:only-of-type {\n",
       "        vertical-align: middle;\n",
       "    }\n",
       "\n",
       "    .dataframe tbody tr th {\n",
       "        vertical-align: top;\n",
       "    }\n",
       "\n",
       "    .dataframe thead th {\n",
       "        text-align: right;\n",
       "    }\n",
       "</style>\n",
       "<table border=\"1\" class=\"dataframe\">\n",
       "  <thead>\n",
       "    <tr style=\"text-align: right;\">\n",
       "      <th></th>\n",
       "      <th>Open</th>\n",
       "      <th>High</th>\n",
       "      <th>Low</th>\n",
       "      <th>Close</th>\n",
       "      <th>Adj Close</th>\n",
       "      <th>Volume</th>\n",
       "    </tr>\n",
       "    <tr>\n",
       "      <th>Date</th>\n",
       "      <th></th>\n",
       "      <th></th>\n",
       "      <th></th>\n",
       "      <th></th>\n",
       "      <th></th>\n",
       "      <th></th>\n",
       "    </tr>\n",
       "  </thead>\n",
       "  <tbody>\n",
       "    <tr>\n",
       "      <th>2010-01-04</th>\n",
       "      <td>381.289001</td>\n",
       "      <td>388.097992</td>\n",
       "      <td>376.765991</td>\n",
       "      <td>387.076996</td>\n",
       "      <td>321.910095</td>\n",
       "      <td>58279</td>\n",
       "    </tr>\n",
       "    <tr>\n",
       "      <th>2010-01-05</th>\n",
       "      <td>390.286011</td>\n",
       "      <td>395.878998</td>\n",
       "      <td>389.071014</td>\n",
       "      <td>394.712006</td>\n",
       "      <td>328.259674</td>\n",
       "      <td>95281</td>\n",
       "    </tr>\n",
       "    <tr>\n",
       "      <th>2010-01-06</th>\n",
       "      <td>394.907013</td>\n",
       "      <td>400.354004</td>\n",
       "      <td>389.071014</td>\n",
       "      <td>396.268005</td>\n",
       "      <td>329.553772</td>\n",
       "      <td>68622</td>\n",
       "    </tr>\n",
       "    <tr>\n",
       "      <th>2010-01-07</th>\n",
       "      <td>396.851990</td>\n",
       "      <td>401.229004</td>\n",
       "      <td>394.954987</td>\n",
       "      <td>399.964996</td>\n",
       "      <td>332.628326</td>\n",
       "      <td>66019</td>\n",
       "    </tr>\n",
       "    <tr>\n",
       "      <th>2010-01-08</th>\n",
       "      <td>402.687988</td>\n",
       "      <td>402.687988</td>\n",
       "      <td>390.092010</td>\n",
       "      <td>393.106995</td>\n",
       "      <td>326.924927</td>\n",
       "      <td>41554</td>\n",
       "    </tr>\n",
       "  </tbody>\n",
       "</table>\n",
       "</div>"
      ],
      "text/plain": [
       "                  Open        High         Low       Close   Adj Close  Volume\n",
       "Date                                                                          \n",
       "2010-01-04  381.289001  388.097992  376.765991  387.076996  321.910095   58279\n",
       "2010-01-05  390.286011  395.878998  389.071014  394.712006  328.259674   95281\n",
       "2010-01-06  394.907013  400.354004  389.071014  396.268005  329.553772   68622\n",
       "2010-01-07  396.851990  401.229004  394.954987  399.964996  332.628326   66019\n",
       "2010-01-08  402.687988  402.687988  390.092010  393.106995  326.924927   41554"
      ]
     },
     "execution_count": 57,
     "metadata": {},
     "output_type": "execute_result"
    }
   ],
   "source": [
    "df_final = pd.read_csv(\"D://Dataset//CANBK.BO.csv\",na_values=['null'],index_col='Date',parse_dates=True,infer_datetime_format=True)\n",
    "df_final.head()"
   ]
  },
  {
   "cell_type": "code",
   "execution_count": 58,
   "metadata": {},
   "outputs": [
    {
     "data": {
      "text/plain": [
       "(2461, 6)"
      ]
     },
     "execution_count": 58,
     "metadata": {},
     "output_type": "execute_result"
    }
   ],
   "source": [
    "df_final.shape"
   ]
  },
  {
   "cell_type": "code",
   "execution_count": 59,
   "metadata": {},
   "outputs": [
    {
     "data": {
      "text/html": [
       "<div>\n",
       "<style scoped>\n",
       "    .dataframe tbody tr th:only-of-type {\n",
       "        vertical-align: middle;\n",
       "    }\n",
       "\n",
       "    .dataframe tbody tr th {\n",
       "        vertical-align: top;\n",
       "    }\n",
       "\n",
       "    .dataframe thead th {\n",
       "        text-align: right;\n",
       "    }\n",
       "</style>\n",
       "<table border=\"1\" class=\"dataframe\">\n",
       "  <thead>\n",
       "    <tr style=\"text-align: right;\">\n",
       "      <th></th>\n",
       "      <th>Open</th>\n",
       "      <th>High</th>\n",
       "      <th>Low</th>\n",
       "      <th>Close</th>\n",
       "      <th>Adj Close</th>\n",
       "      <th>Volume</th>\n",
       "    </tr>\n",
       "  </thead>\n",
       "  <tbody>\n",
       "    <tr>\n",
       "      <th>count</th>\n",
       "      <td>2461.000000</td>\n",
       "      <td>2461.000000</td>\n",
       "      <td>2461.000000</td>\n",
       "      <td>2461.000000</td>\n",
       "      <td>2461.000000</td>\n",
       "      <td>2.461000e+03</td>\n",
       "    </tr>\n",
       "    <tr>\n",
       "      <th>mean</th>\n",
       "      <td>349.864919</td>\n",
       "      <td>355.878554</td>\n",
       "      <td>343.054301</td>\n",
       "      <td>349.205081</td>\n",
       "      <td>324.027831</td>\n",
       "      <td>2.439746e+05</td>\n",
       "    </tr>\n",
       "    <tr>\n",
       "      <th>std</th>\n",
       "      <td>114.224656</td>\n",
       "      <td>116.062034</td>\n",
       "      <td>112.168360</td>\n",
       "      <td>114.195294</td>\n",
       "      <td>89.505916</td>\n",
       "      <td>2.340062e+05</td>\n",
       "    </tr>\n",
       "    <tr>\n",
       "      <th>min</th>\n",
       "      <td>154.072006</td>\n",
       "      <td>159.518997</td>\n",
       "      <td>151.932007</td>\n",
       "      <td>154.218002</td>\n",
       "      <td>153.784561</td>\n",
       "      <td>0.000000e+00</td>\n",
       "    </tr>\n",
       "    <tr>\n",
       "      <th>25%</th>\n",
       "      <td>261.549988</td>\n",
       "      <td>265.549988</td>\n",
       "      <td>255.500000</td>\n",
       "      <td>260.299988</td>\n",
       "      <td>257.471313</td>\n",
       "      <td>8.156100e+04</td>\n",
       "    </tr>\n",
       "    <tr>\n",
       "      <th>50%</th>\n",
       "      <td>342.187988</td>\n",
       "      <td>347.975006</td>\n",
       "      <td>336.000000</td>\n",
       "      <td>340.500000</td>\n",
       "      <td>319.472137</td>\n",
       "      <td>1.864270e+05</td>\n",
       "    </tr>\n",
       "    <tr>\n",
       "      <th>75%</th>\n",
       "      <td>416.062012</td>\n",
       "      <td>422.481995</td>\n",
       "      <td>407.114014</td>\n",
       "      <td>415.625000</td>\n",
       "      <td>376.086304</td>\n",
       "      <td>3.274320e+05</td>\n",
       "    </tr>\n",
       "    <tr>\n",
       "      <th>max</th>\n",
       "      <td>813.158020</td>\n",
       "      <td>820.939026</td>\n",
       "      <td>790.981018</td>\n",
       "      <td>813.012024</td>\n",
       "      <td>692.660645</td>\n",
       "      <td>2.654966e+06</td>\n",
       "    </tr>\n",
       "  </tbody>\n",
       "</table>\n",
       "</div>"
      ],
      "text/plain": [
       "              Open         High          Low        Close    Adj Close  \\\n",
       "count  2461.000000  2461.000000  2461.000000  2461.000000  2461.000000   \n",
       "mean    349.864919   355.878554   343.054301   349.205081   324.027831   \n",
       "std     114.224656   116.062034   112.168360   114.195294    89.505916   \n",
       "min     154.072006   159.518997   151.932007   154.218002   153.784561   \n",
       "25%     261.549988   265.549988   255.500000   260.299988   257.471313   \n",
       "50%     342.187988   347.975006   336.000000   340.500000   319.472137   \n",
       "75%     416.062012   422.481995   407.114014   415.625000   376.086304   \n",
       "max     813.158020   820.939026   790.981018   813.012024   692.660645   \n",
       "\n",
       "             Volume  \n",
       "count  2.461000e+03  \n",
       "mean   2.439746e+05  \n",
       "std    2.340062e+05  \n",
       "min    0.000000e+00  \n",
       "25%    8.156100e+04  \n",
       "50%    1.864270e+05  \n",
       "75%    3.274320e+05  \n",
       "max    2.654966e+06  "
      ]
     },
     "execution_count": 59,
     "metadata": {},
     "output_type": "execute_result"
    }
   ],
   "source": [
    "df_final.describe()"
   ]
  },
  {
   "cell_type": "code",
   "execution_count": 60,
   "metadata": {},
   "outputs": [
    {
     "data": {
      "text/plain": [
       "False"
      ]
     },
     "execution_count": 60,
     "metadata": {},
     "output_type": "execute_result"
    }
   ],
   "source": [
    "df_final.isnull().values.any()"
   ]
  },
  {
   "cell_type": "code",
   "execution_count": 61,
   "metadata": {},
   "outputs": [
    {
     "data": {
      "text/plain": [
       "<matplotlib.axes._subplots.AxesSubplot at 0x19b952c6688>"
      ]
     },
     "execution_count": 61,
     "metadata": {},
     "output_type": "execute_result"
    },
    {
     "data": {
      "image/png": "[encoded data removed]",
      "text/plain": [
       "<Figure size 864x432 with 1 Axes>"
      ]
     },
     "metadata": {
      "needs_background": "light"
     },
     "output_type": "display_data"
    }
   ],
   "source": [
    "df_final['Close'].plot(figsize=(12,6), title = 'Canara Bank')"
   ]
  },
  {
   "cell_type": "code",
   "execution_count": 62,
   "metadata": {},
   "outputs": [
    {
     "data": {
      "text/plain": [
       "<matplotlib.axes._subplots.AxesSubplot at 0x19b953d7188>"
      ]
     },
     "execution_count": 62,
     "metadata": {},
     "output_type": "execute_result"
    },
    {
     "data": {
      "image/png": "[encoded data removed]",
      "text/plain": [
       "<Figure size 1152x432 with 1 Axes>"
      ]
     },
     "metadata": {
      "needs_background": "light"
     },
     "output_type": "display_data"
    }
   ],
   "source": [
    "X=df_final.drop(['Close'],axis=1)\n",
    "X=X.drop(['Adj Close'],axis=1)\n",
    "\n",
    "X.corrwith(df_final['Close']).plot.bar(\n",
    "        figsize = (16, 6), title = \"Correlation with Close\", fontsize = 20,\n",
    "        rot = 90, grid = True)"
   ]
  },
  {
   "cell_type": "code",
   "execution_count": 63,
   "metadata": {},
   "outputs": [
    {
     "data": {
      "text/html": [
       "<div>\n",
       "<style scoped>\n",
       "    .dataframe tbody tr th:only-of-type {\n",
       "        vertical-align: middle;\n",
       "    }\n",
       "\n",
       "    .dataframe tbody tr th {\n",
       "        vertical-align: top;\n",
       "    }\n",
       "\n",
       "    .dataframe thead th {\n",
       "        text-align: right;\n",
       "    }\n",
       "</style>\n",
       "<table border=\"1\" class=\"dataframe\">\n",
       "  <thead>\n",
       "    <tr style=\"text-align: right;\">\n",
       "      <th></th>\n",
       "      <th>Open</th>\n",
       "      <th>High</th>\n",
       "      <th>Low</th>\n",
       "      <th>Close</th>\n",
       "      <th>Adj Close</th>\n",
       "      <th>Volume</th>\n",
       "    </tr>\n",
       "    <tr>\n",
       "      <th>Date</th>\n",
       "      <th></th>\n",
       "      <th></th>\n",
       "      <th></th>\n",
       "      <th></th>\n",
       "      <th></th>\n",
       "      <th></th>\n",
       "    </tr>\n",
       "  </thead>\n",
       "  <tbody>\n",
       "    <tr>\n",
       "      <th>2010-01-04</th>\n",
       "      <td>381.289001</td>\n",
       "      <td>388.097992</td>\n",
       "      <td>376.765991</td>\n",
       "      <td>387.076996</td>\n",
       "      <td>321.910095</td>\n",
       "      <td>58279</td>\n",
       "    </tr>\n",
       "    <tr>\n",
       "      <th>2010-01-05</th>\n",
       "      <td>390.286011</td>\n",
       "      <td>395.878998</td>\n",
       "      <td>389.071014</td>\n",
       "      <td>394.712006</td>\n",
       "      <td>328.259674</td>\n",
       "      <td>95281</td>\n",
       "    </tr>\n",
       "    <tr>\n",
       "      <th>2010-01-06</th>\n",
       "      <td>394.907013</td>\n",
       "      <td>400.354004</td>\n",
       "      <td>389.071014</td>\n",
       "      <td>396.268005</td>\n",
       "      <td>329.553772</td>\n",
       "      <td>68622</td>\n",
       "    </tr>\n",
       "    <tr>\n",
       "      <th>2010-01-07</th>\n",
       "      <td>396.851990</td>\n",
       "      <td>401.229004</td>\n",
       "      <td>394.954987</td>\n",
       "      <td>399.964996</td>\n",
       "      <td>332.628326</td>\n",
       "      <td>66019</td>\n",
       "    </tr>\n",
       "    <tr>\n",
       "      <th>2010-01-08</th>\n",
       "      <td>402.687988</td>\n",
       "      <td>402.687988</td>\n",
       "      <td>390.092010</td>\n",
       "      <td>393.106995</td>\n",
       "      <td>326.924927</td>\n",
       "      <td>41554</td>\n",
       "    </tr>\n",
       "  </tbody>\n",
       "</table>\n",
       "</div>"
      ],
      "text/plain": [
       "                  Open        High         Low       Close   Adj Close  Volume\n",
       "Date                                                                          \n",
       "2010-01-04  381.289001  388.097992  376.765991  387.076996  321.910095   58279\n",
       "2010-01-05  390.286011  395.878998  389.071014  394.712006  328.259674   95281\n",
       "2010-01-06  394.907013  400.354004  389.071014  396.268005  329.553772   68622\n",
       "2010-01-07  396.851990  401.229004  394.954987  399.964996  332.628326   66019\n",
       "2010-01-08  402.687988  402.687988  390.092010  393.106995  326.924927   41554"
      ]
     },
     "metadata": {},
     "output_type": "display_data"
    }
   ],
   "source": [
    "test = df_final\n",
    "# Target column\n",
    "target_adj_close = pd.DataFrame(test['Close'])\n",
    "display(test.head())"
   ]
  },
  {
   "cell_type": "code",
   "execution_count": 64,
   "metadata": {},
   "outputs": [],
   "source": [
    "# selecting Feature Columns\n",
    "feature_columns = ['Open', 'High', 'Low', 'Volume']"
   ]
  },
  {
   "cell_type": "code",
   "execution_count": 65,
   "metadata": {},
   "outputs": [
    {
     "data": {
      "text/html": [
       "<div>\n",
       "<style scoped>\n",
       "    .dataframe tbody tr th:only-of-type {\n",
       "        vertical-align: middle;\n",
       "    }\n",
       "\n",
       "    .dataframe tbody tr th {\n",
       "        vertical-align: top;\n",
       "    }\n",
       "\n",
       "    .dataframe thead th {\n",
       "        text-align: right;\n",
       "    }\n",
       "</style>\n",
       "<table border=\"1\" class=\"dataframe\">\n",
       "  <thead>\n",
       "    <tr style=\"text-align: right;\">\n",
       "      <th></th>\n",
       "      <th>Open</th>\n",
       "      <th>High</th>\n",
       "      <th>Low</th>\n",
       "      <th>Volume</th>\n",
       "    </tr>\n",
       "    <tr>\n",
       "      <th>Date</th>\n",
       "      <th></th>\n",
       "      <th></th>\n",
       "      <th></th>\n",
       "      <th></th>\n",
       "    </tr>\n",
       "  </thead>\n",
       "  <tbody>\n",
       "    <tr>\n",
       "      <th>2010-01-04</th>\n",
       "      <td>0.344746</td>\n",
       "      <td>0.345588</td>\n",
       "      <td>0.351826</td>\n",
       "      <td>0.021951</td>\n",
       "    </tr>\n",
       "    <tr>\n",
       "      <th>2010-01-05</th>\n",
       "      <td>0.358396</td>\n",
       "      <td>0.357352</td>\n",
       "      <td>0.371081</td>\n",
       "      <td>0.035888</td>\n",
       "    </tr>\n",
       "    <tr>\n",
       "      <th>2010-01-06</th>\n",
       "      <td>0.365408</td>\n",
       "      <td>0.364118</td>\n",
       "      <td>0.371081</td>\n",
       "      <td>0.025847</td>\n",
       "    </tr>\n",
       "    <tr>\n",
       "      <th>2010-01-07</th>\n",
       "      <td>0.368359</td>\n",
       "      <td>0.365441</td>\n",
       "      <td>0.380288</td>\n",
       "      <td>0.024866</td>\n",
       "    </tr>\n",
       "    <tr>\n",
       "      <th>2010-01-08</th>\n",
       "      <td>0.377213</td>\n",
       "      <td>0.367647</td>\n",
       "      <td>0.372679</td>\n",
       "      <td>0.015651</td>\n",
       "    </tr>\n",
       "  </tbody>\n",
       "</table>\n",
       "</div>"
      ],
      "text/plain": [
       "                Open      High       Low    Volume\n",
       "Date                                              \n",
       "2010-01-04  0.344746  0.345588  0.351826  0.021951\n",
       "2010-01-05  0.358396  0.357352  0.371081  0.035888\n",
       "2010-01-06  0.365408  0.364118  0.371081  0.025847\n",
       "2010-01-07  0.368359  0.365441  0.380288  0.024866\n",
       "2010-01-08  0.377213  0.367647  0.372679  0.015651"
      ]
     },
     "execution_count": 65,
     "metadata": {},
     "output_type": "execute_result"
    }
   ],
   "source": [
    "from sklearn.preprocessing import MinMaxScaler\n",
    "scaler = MinMaxScaler()\n",
    "feature_minmax_transform_data = scaler.fit_transform(test[feature_columns])\n",
    "feature_minmax_transform = pd.DataFrame(columns=feature_columns, data=feature_minmax_transform_data, index=test.index)\n",
    "feature_minmax_transform.head()"
   ]
  },
  {
   "cell_type": "code",
   "execution_count": 66,
   "metadata": {},
   "outputs": [
    {
     "data": {
      "text/html": [
       "<div>\n",
       "<style scoped>\n",
       "    .dataframe tbody tr th:only-of-type {\n",
       "        vertical-align: middle;\n",
       "    }\n",
       "\n",
       "    .dataframe tbody tr th {\n",
       "        vertical-align: top;\n",
       "    }\n",
       "\n",
       "    .dataframe thead th {\n",
       "        text-align: right;\n",
       "    }\n",
       "</style>\n",
       "<table border=\"1\" class=\"dataframe\">\n",
       "  <thead>\n",
       "    <tr style=\"text-align: right;\">\n",
       "      <th></th>\n",
       "      <th>Open</th>\n",
       "      <th>High</th>\n",
       "      <th>Low</th>\n",
       "      <th>Volume</th>\n",
       "    </tr>\n",
       "    <tr>\n",
       "      <th>Date</th>\n",
       "      <th></th>\n",
       "      <th></th>\n",
       "      <th></th>\n",
       "      <th></th>\n",
       "    </tr>\n",
       "  </thead>\n",
       "  <tbody>\n",
       "    <tr>\n",
       "      <th>2010-01-04</th>\n",
       "      <td>0.344746</td>\n",
       "      <td>0.345588</td>\n",
       "      <td>0.351826</td>\n",
       "      <td>0.021951</td>\n",
       "    </tr>\n",
       "    <tr>\n",
       "      <th>2010-01-05</th>\n",
       "      <td>0.358396</td>\n",
       "      <td>0.357352</td>\n",
       "      <td>0.371081</td>\n",
       "      <td>0.035888</td>\n",
       "    </tr>\n",
       "    <tr>\n",
       "      <th>2010-01-06</th>\n",
       "      <td>0.365408</td>\n",
       "      <td>0.364118</td>\n",
       "      <td>0.371081</td>\n",
       "      <td>0.025847</td>\n",
       "    </tr>\n",
       "    <tr>\n",
       "      <th>2010-01-07</th>\n",
       "      <td>0.368359</td>\n",
       "      <td>0.365441</td>\n",
       "      <td>0.380288</td>\n",
       "      <td>0.024866</td>\n",
       "    </tr>\n",
       "    <tr>\n",
       "      <th>2010-01-08</th>\n",
       "      <td>0.377213</td>\n",
       "      <td>0.367647</td>\n",
       "      <td>0.372679</td>\n",
       "      <td>0.015651</td>\n",
       "    </tr>\n",
       "  </tbody>\n",
       "</table>\n",
       "</div>"
      ],
      "text/plain": [
       "                Open      High       Low    Volume\n",
       "Date                                              \n",
       "2010-01-04  0.344746  0.345588  0.351826  0.021951\n",
       "2010-01-05  0.358396  0.357352  0.371081  0.035888\n",
       "2010-01-06  0.365408  0.364118  0.371081  0.025847\n",
       "2010-01-07  0.368359  0.365441  0.380288  0.024866\n",
       "2010-01-08  0.377213  0.367647  0.372679  0.015651"
      ]
     },
     "metadata": {},
     "output_type": "display_data"
    },
    {
     "name": "stdout",
     "output_type": "stream",
     "text": [
      "Shape of features :  (2461, 4)\n",
      "Shape of target :  (2461, 1)\n"
     ]
    },
    {
     "data": {
      "text/html": [
       "<div>\n",
       "<style scoped>\n",
       "    .dataframe tbody tr th:only-of-type {\n",
       "        vertical-align: middle;\n",
       "    }\n",
       "\n",
       "    .dataframe tbody tr th {\n",
       "        vertical-align: top;\n",
       "    }\n",
       "\n",
       "    .dataframe thead th {\n",
       "        text-align: right;\n",
       "    }\n",
       "</style>\n",
       "<table border=\"1\" class=\"dataframe\">\n",
       "  <thead>\n",
       "    <tr style=\"text-align: right;\">\n",
       "      <th></th>\n",
       "      <th>Open</th>\n",
       "      <th>High</th>\n",
       "      <th>Low</th>\n",
       "      <th>Volume</th>\n",
       "    </tr>\n",
       "    <tr>\n",
       "      <th>Date</th>\n",
       "      <th></th>\n",
       "      <th></th>\n",
       "      <th></th>\n",
       "      <th></th>\n",
       "    </tr>\n",
       "  </thead>\n",
       "  <tbody>\n",
       "    <tr>\n",
       "      <th>2019-12-23</th>\n",
       "      <td>0.115202</td>\n",
       "      <td>0.110945</td>\n",
       "      <td>0.113400</td>\n",
       "      <td>0.090211</td>\n",
       "    </tr>\n",
       "    <tr>\n",
       "      <th>2019-12-24</th>\n",
       "      <td>0.109967</td>\n",
       "      <td>0.103310</td>\n",
       "      <td>0.113947</td>\n",
       "      <td>0.058247</td>\n",
       "    </tr>\n",
       "    <tr>\n",
       "      <th>2019-12-26</th>\n",
       "      <td>0.107767</td>\n",
       "      <td>0.099454</td>\n",
       "      <td>0.106045</td>\n",
       "      <td>0.082299</td>\n",
       "    </tr>\n",
       "    <tr>\n",
       "      <th>2019-12-27</th>\n",
       "      <td>0.105947</td>\n",
       "      <td>0.104066</td>\n",
       "      <td>0.110192</td>\n",
       "      <td>0.134937</td>\n",
       "    </tr>\n",
       "    <tr>\n",
       "      <th>2019-12-30</th>\n",
       "      <td>0.106554</td>\n",
       "      <td>0.098925</td>\n",
       "      <td>0.106593</td>\n",
       "      <td>0.059958</td>\n",
       "    </tr>\n",
       "  </tbody>\n",
       "</table>\n",
       "</div>"
      ],
      "text/plain": [
       "                Open      High       Low    Volume\n",
       "Date                                              \n",
       "2019-12-23  0.115202  0.110945  0.113400  0.090211\n",
       "2019-12-24  0.109967  0.103310  0.113947  0.058247\n",
       "2019-12-26  0.107767  0.099454  0.106045  0.082299\n",
       "2019-12-27  0.105947  0.104066  0.110192  0.134937\n",
       "2019-12-30  0.106554  0.098925  0.106593  0.059958"
      ]
     },
     "metadata": {},
     "output_type": "display_data"
    },
    {
     "data": {
      "text/html": [
       "<div>\n",
       "<style scoped>\n",
       "    .dataframe tbody tr th:only-of-type {\n",
       "        vertical-align: middle;\n",
       "    }\n",
       "\n",
       "    .dataframe tbody tr th {\n",
       "        vertical-align: top;\n",
       "    }\n",
       "\n",
       "    .dataframe thead th {\n",
       "        text-align: right;\n",
       "    }\n",
       "</style>\n",
       "<table border=\"1\" class=\"dataframe\">\n",
       "  <thead>\n",
       "    <tr style=\"text-align: right;\">\n",
       "      <th></th>\n",
       "      <th>Close</th>\n",
       "    </tr>\n",
       "    <tr>\n",
       "      <th>Date</th>\n",
       "      <th></th>\n",
       "    </tr>\n",
       "  </thead>\n",
       "  <tbody>\n",
       "    <tr>\n",
       "      <th>2019-12-23</th>\n",
       "      <td>225.800003</td>\n",
       "    </tr>\n",
       "    <tr>\n",
       "      <th>2019-12-24</th>\n",
       "      <td>220.300003</td>\n",
       "    </tr>\n",
       "    <tr>\n",
       "      <th>2019-12-26</th>\n",
       "      <td>224.199997</td>\n",
       "    </tr>\n",
       "    <tr>\n",
       "      <th>2019-12-27</th>\n",
       "      <td>221.699997</td>\n",
       "    </tr>\n",
       "    <tr>\n",
       "      <th>2019-12-30</th>\n",
       "      <td>221.300003</td>\n",
       "    </tr>\n",
       "  </tbody>\n",
       "</table>\n",
       "</div>"
      ],
      "text/plain": [
       "                 Close\n",
       "Date                  \n",
       "2019-12-23  225.800003\n",
       "2019-12-24  220.300003\n",
       "2019-12-26  224.199997\n",
       "2019-12-27  221.699997\n",
       "2019-12-30  221.300003"
      ]
     },
     "metadata": {},
     "output_type": "display_data"
    },
    {
     "name": "stdout",
     "output_type": "stream",
     "text": [
      "\n",
      " -----After process------ \n",
      "\n",
      "Shape of features :  (2371, 4)\n",
      "Shape of target :  (2371, 1)\n"
     ]
    },
    {
     "data": {
      "text/html": [
       "<div>\n",
       "<style scoped>\n",
       "    .dataframe tbody tr th:only-of-type {\n",
       "        vertical-align: middle;\n",
       "    }\n",
       "\n",
       "    .dataframe tbody tr th {\n",
       "        vertical-align: top;\n",
       "    }\n",
       "\n",
       "    .dataframe thead th {\n",
       "        text-align: right;\n",
       "    }\n",
       "</style>\n",
       "<table border=\"1\" class=\"dataframe\">\n",
       "  <thead>\n",
       "    <tr style=\"text-align: right;\">\n",
       "      <th></th>\n",
       "      <th>Close</th>\n",
       "    </tr>\n",
       "    <tr>\n",
       "      <th>Date</th>\n",
       "      <th></th>\n",
       "    </tr>\n",
       "  </thead>\n",
       "  <tbody>\n",
       "    <tr>\n",
       "      <th>2019-08-07</th>\n",
       "      <td>227.750000</td>\n",
       "    </tr>\n",
       "    <tr>\n",
       "      <th>2019-08-08</th>\n",
       "      <td>228.149994</td>\n",
       "    </tr>\n",
       "    <tr>\n",
       "      <th>2019-08-09</th>\n",
       "      <td>221.600006</td>\n",
       "    </tr>\n",
       "    <tr>\n",
       "      <th>2019-08-13</th>\n",
       "      <td>225.199997</td>\n",
       "    </tr>\n",
       "    <tr>\n",
       "      <th>2019-08-14</th>\n",
       "      <td>235.850006</td>\n",
       "    </tr>\n",
       "  </tbody>\n",
       "</table>\n",
       "</div>"
      ],
      "text/plain": [
       "                 Close\n",
       "Date                  \n",
       "2019-08-07  227.750000\n",
       "2019-08-08  228.149994\n",
       "2019-08-09  221.600006\n",
       "2019-08-13  225.199997\n",
       "2019-08-14  235.850006"
      ]
     },
     "metadata": {},
     "output_type": "display_data"
    }
   ],
   "source": [
    "display(feature_minmax_transform.head())\n",
    "print('Shape of features : ', feature_minmax_transform.shape)\n",
    "print('Shape of target : ', target_adj_close.shape)\n",
    "\n",
    "# Shift target array because we want to predict the n + 1 day value\n",
    "\n",
    "\n",
    "target_adj_close = target_adj_close.shift(-1)\n",
    "validation_y = target_adj_close[-90:-1]\n",
    "target_adj_close = target_adj_close[:-90]\n",
    "\n",
    "# Taking last 90 rows of data to be validation set\n",
    "validation_X = feature_minmax_transform[-90:-1]\n",
    "feature_minmax_transform = feature_minmax_transform[:-90]\n",
    "display(validation_X.tail())\n",
    "display(validation_y.tail())\n",
    "\n",
    "print(\"\\n -----After process------ \\n\")\n",
    "print('Shape of features : ', feature_minmax_transform.shape)\n",
    "print('Shape of target : ', target_adj_close.shape)\n",
    "display(target_adj_close.tail())"
   ]
  },
  {
   "cell_type": "code",
   "execution_count": 67,
   "metadata": {},
   "outputs": [],
   "source": [
    "ts_split= TimeSeriesSplit(n_splits=10)\n",
    "for train_index, test_index in ts_split.split(feature_minmax_transform):\n",
    "        X_train, X_test = feature_minmax_transform[:len(train_index)], feature_minmax_transform[len(train_index): (len(train_index)+len(test_index))]\n",
    "        y_train, y_test = target_adj_close[:len(train_index)].values.ravel(), target_adj_close[len(train_index): (len(train_index)+len(test_index))].values.ravel()"
   ]
  },
  {
   "cell_type": "code",
   "execution_count": 68,
   "metadata": {},
   "outputs": [
    {
     "data": {
      "text/plain": [
       "(2156, 4)"
      ]
     },
     "execution_count": 68,
     "metadata": {},
     "output_type": "execute_result"
    }
   ],
   "source": [
    "X_train.shape"
   ]
  },
  {
   "cell_type": "code",
   "execution_count": 69,
   "metadata": {},
   "outputs": [
    {
     "data": {
      "text/plain": [
       "(215, 4)"
      ]
     },
     "execution_count": 69,
     "metadata": {},
     "output_type": "execute_result"
    }
   ],
   "source": [
    "X_test.shape"
   ]
  },
  {
   "cell_type": "code",
   "execution_count": 70,
   "metadata": {},
   "outputs": [
    {
     "data": {
      "text/plain": [
       "(2156,)"
      ]
     },
     "execution_count": 70,
     "metadata": {},
     "output_type": "execute_result"
    }
   ],
   "source": [
    "y_train.shape"
   ]
  },
  {
   "cell_type": "code",
   "execution_count": 71,
   "metadata": {},
   "outputs": [
    {
     "data": {
      "text/plain": [
       "(215,)"
      ]
     },
     "execution_count": 71,
     "metadata": {},
     "output_type": "execute_result"
    }
   ],
   "source": [
    "y_test.shape"
   ]
  },
  {
   "cell_type": "code",
   "execution_count": 72,
   "metadata": {},
   "outputs": [],
   "source": [
    "def validate_result(model, model_name):\n",
    "    predicted = model.predict(validation_X)\n",
    "    RSME_score = np.sqrt(mean_squared_error(validation_y, predicted))\n",
    "    print('RMSE: ', RSME_score)\n",
    "    \n",
    "    R2_score = r2_score(validation_y, predicted)\n",
    "    print('R2 score: ', R2_score)\n",
    "\n",
    "    plt.plot(validation_y.index, predicted,'r', label='Predict')\n",
    "    plt.plot(validation_y.index, validation_y,'b', label='Actual')\n",
    "    plt.ylabel('Price')\n",
    "    plt.gca().xaxis.set_major_formatter(mdates.DateFormatter('%Y-%m-%d'))\n",
    "    plt.gca().xaxis.set_major_locator(mdates.MonthLocator())\n",
    "    plt.title(model_name + ' Predict vs Actual')\n",
    "    plt.legend(loc='upper right')\n",
    "    plt.show()"
   ]
  },
  {
   "cell_type": "code",
   "execution_count": 73,
   "metadata": {},
   "outputs": [
    {
     "name": "stdout",
     "output_type": "stream",
     "text": [
      "RMSE:  9.455620113137963\n",
      "R2 score:  0.6580008074982382\n"
     ]
    },
    {
     "data": {
      "image/png": "[encoded data removed]",
      "text/plain": [
       "<Figure size 432x288 with 1 Axes>"
      ]
     },
     "metadata": {
      "needs_background": "light"
     },
     "output_type": "display_data"
    }
   ],
   "source": [
    "from sklearn.tree import DecisionTreeRegressor\n",
    "\n",
    "dt = DecisionTreeRegressor(random_state=0)\n",
    "\n",
    "benchmark_dt=dt.fit(X_train, y_train)\n",
    "\n",
    "validate_result(benchmark_dt, 'Decision Tree Regression')"
   ]
  },
  {
   "cell_type": "code",
   "execution_count": 74,
   "metadata": {},
   "outputs": [],
   "source": [
    "X_train =np.array(X_train)\n",
    "X_test =np.array(X_test)\n",
    "\n",
    "X_tr_t = X_train.reshape(X_train.shape[0], 1, X_train.shape[1])\n",
    "X_tst_t = X_test.reshape(X_test.shape[0], 1, X_test.shape[1])"
   ]
  },
  {
   "cell_type": "code",
   "execution_count": 75,
   "metadata": {},
   "outputs": [
    {
     "name": "stdout",
     "output_type": "stream",
     "text": [
      "Epoch 1/200\n",
      "2156/2156 [==============================] - 1s 504us/step - loss: 145285.9648\n",
      "Epoch 2/200\n",
      "2156/2156 [==============================] - 1s 334us/step - loss: 142132.7882\n",
      "Epoch 3/200\n",
      "2156/2156 [==============================] - 1s 362us/step - loss: 133646.7775\n",
      "Epoch 4/200\n",
      "2156/2156 [==============================] - 1s 411us/step - loss: 120661.2350\n",
      "Epoch 5/200\n",
      "2156/2156 [==============================] - 1s 384us/step - loss: 105328.3765\n",
      "Epoch 6/200\n",
      "2156/2156 [==============================] - 1s 361us/step - loss: 89191.1997\n",
      "Epoch 7/200\n",
      "2156/2156 [==============================] - 1s 367us/step - loss: 73273.7563\n",
      "Epoch 8/200\n",
      "2156/2156 [==============================] - 1s 374us/step - loss: 58312.9110\n",
      "Epoch 9/200\n",
      "2156/2156 [==============================] - 1s 415us/step - loss: 44845.0706\n",
      "Epoch 10/200\n",
      "2156/2156 [==============================] - 1s 384us/step - loss: 33231.5074\n",
      "Epoch 11/200\n",
      "2156/2156 [==============================] - 1s 308us/step - loss: 23665.0247\n",
      "Epoch 12/200\n",
      "2156/2156 [==============================] - 1s 437us/step - loss: 16174.8576\n",
      "Epoch 13/200\n",
      "2156/2156 [==============================] - 1s 435us/step - loss: 10638.0974\n",
      "Epoch 14/200\n",
      "2156/2156 [==============================] - 1s 417us/step - loss: 6804.0950\n",
      "Epoch 15/200\n",
      "2156/2156 [==============================] - 1s 372us/step - loss: 4335.2310\n",
      "Epoch 16/200\n",
      "2156/2156 [==============================] - 1s 342us/step - loss: 2861.9554\n",
      "Epoch 17/200\n",
      "2156/2156 [==============================] - 1s 377us/step - loss: 2041.2623\n",
      "Epoch 18/200\n",
      "2156/2156 [==============================] - 1s 306us/step - loss: 1601.3311\n",
      "Epoch 19/200\n",
      "2156/2156 [==============================] - 1s 280us/step - loss: 1358.4605\n",
      "Epoch 20/200\n",
      "2156/2156 [==============================] - 1s 394us/step - loss: 1206.4914\n",
      "Epoch 21/200\n",
      "2156/2156 [==============================] - 1s 396us/step - loss: 1092.2794\n",
      "Epoch 22/200\n",
      "2156/2156 [==============================] - 1s 408us/step - loss: 992.0568\n",
      "Epoch 23/200\n",
      "2156/2156 [==============================] - 1s 403us/step - loss: 895.9032\n",
      "Epoch 24/200\n",
      "2156/2156 [==============================] - 1s 388us/step - loss: 800.0546\n",
      "Epoch 25/200\n",
      "2156/2156 [==============================] - 1s 339us/step - loss: 703.8926\n",
      "Epoch 26/200\n",
      "2156/2156 [==============================] - 1s 369us/step - loss: 608.9891\n",
      "Epoch 27/200\n",
      "2156/2156 [==============================] - 1s 366us/step - loss: 518.5825\n",
      "Epoch 28/200\n",
      "2156/2156 [==============================] - 1s 367us/step - loss: 436.7245\n",
      "Epoch 29/200\n",
      "2156/2156 [==============================] - 1s 379us/step - loss: 367.0554\n",
      "Epoch 30/200\n",
      "2156/2156 [==============================] - 1s 365us/step - loss: 311.7192\n",
      "Epoch 31/200\n",
      "2156/2156 [==============================] - 1s 379us/step - loss: 270.8053\n",
      "Epoch 32/200\n",
      "2156/2156 [==============================] - 1s 434us/step - loss: 242.4530\n",
      "Epoch 33/200\n",
      "2156/2156 [==============================] - 1s 488us/step - loss: 223.5894\n",
      "Epoch 34/200\n",
      "2156/2156 [==============================] - 1s 365us/step - loss: 210.9994\n",
      "Epoch 35/200\n",
      "2156/2156 [==============================] - 1s 316us/step - loss: 202.1322\n",
      "Epoch 36/200\n",
      "2156/2156 [==============================] - 1s 290us/step - loss: 195.3416\n",
      "Epoch 37/200\n",
      "2156/2156 [==============================] - 1s 297us/step - loss: 189.7135\n",
      "Epoch 38/200\n",
      "2156/2156 [==============================] - 1s 291us/step - loss: 184.7911 0s - loss: 205.\n",
      "Epoch 39/200\n",
      "2156/2156 [==============================] - 1s 238us/step - loss: 180.3564\n",
      "Epoch 40/200\n",
      "2156/2156 [==============================] - 1s 314us/step - loss: 176.3060\n",
      "Epoch 41/200\n",
      "2156/2156 [==============================] - 1s 357us/step - loss: 172.5875\n",
      "Epoch 42/200\n",
      "2156/2156 [==============================] - 1s 317us/step - loss: 169.1729\n",
      "Epoch 43/200\n",
      "2156/2156 [==============================] - 1s 283us/step - loss: 166.0436\n",
      "Epoch 44/200\n",
      "2156/2156 [==============================] - 1s 266us/step - loss: 163.1855\n",
      "Epoch 45/200\n",
      "2156/2156 [==============================] - 1s 239us/step - loss: 160.5871\n",
      "Epoch 46/200\n",
      "2156/2156 [==============================] - 1s 252us/step - loss: 158.2370\n",
      "Epoch 47/200\n",
      "2156/2156 [==============================] - 1s 254us/step - loss: 156.1237\n",
      "Epoch 48/200\n",
      "2156/2156 [==============================] - 1s 234us/step - loss: 154.2349\n",
      "Epoch 49/200\n",
      "2156/2156 [==============================] - 1s 261us/step - loss: 152.5583\n",
      "Epoch 50/200\n",
      "2156/2156 [==============================] - 1s 251us/step - loss: 151.0797\n",
      "Epoch 51/200\n",
      "2156/2156 [==============================] - 1s 246us/step - loss: 149.7848\n",
      "Epoch 52/200\n",
      "2156/2156 [==============================] - 1s 267us/step - loss: 148.6579\n",
      "Epoch 53/200\n",
      "2156/2156 [==============================] - 1s 254us/step - loss: 147.6828\n",
      "Epoch 54/200\n",
      "2156/2156 [==============================] - 1s 245us/step - loss: 146.8430\n",
      "Epoch 55/200\n",
      "2156/2156 [==============================] - 1s 297us/step - loss: 146.1220\n",
      "Epoch 56/200\n",
      "2156/2156 [==============================] - 1s 261us/step - loss: 145.5038\n",
      "Epoch 57/200\n",
      "2156/2156 [==============================] - 1s 323us/step - loss: 144.9734\n",
      "Epoch 58/200\n",
      "2156/2156 [==============================] - 1s 321us/step - loss: 144.5168 0s - loss: 166.\n",
      "Epoch 59/200\n",
      "2156/2156 [==============================] - 1s 309us/step - loss: 144.1221\n",
      "Epoch 60/200\n",
      "2156/2156 [==============================] - 1s 283us/step - loss: 143.7785\n",
      "Epoch 61/200\n",
      "2156/2156 [==============================] - 1s 261us/step - loss: 143.4769\n",
      "Epoch 62/200\n",
      "2156/2156 [==============================] - 1s 275us/step - loss: 143.2100\n",
      "Epoch 63/200\n",
      "2156/2156 [==============================] - 1s 265us/step - loss: 142.9716\n",
      "Epoch 64/200\n",
      "2156/2156 [==============================] - 1s 246us/step - loss: 142.7569\n",
      "Epoch 65/200\n",
      "2156/2156 [==============================] - 1s 264us/step - loss: 142.5620\n",
      "Epoch 66/200\n",
      "2156/2156 [==============================] - 1s 261us/step - loss: 142.3837\n",
      "Epoch 67/200\n",
      "2156/2156 [==============================] - 1s 235us/step - loss: 142.2197\n",
      "Epoch 68/200\n",
      "2156/2156 [==============================] - 1s 239us/step - loss: 142.0682\n",
      "Epoch 69/200\n",
      "2156/2156 [==============================] - 1s 232us/step - loss: 141.9272\n",
      "Epoch 70/200\n",
      "2156/2156 [==============================] - 0s 225us/step - loss: 141.7957\n",
      "Epoch 71/200\n",
      "2156/2156 [==============================] - 1s 258us/step - loss: 141.6727\n",
      "Epoch 72/200\n",
      "2156/2156 [==============================] - 1s 297us/step - loss: 141.5570\n",
      "Epoch 73/200\n",
      "2156/2156 [==============================] - 1s 250us/step - loss: 141.4481\n",
      "Epoch 74/200\n",
      "2156/2156 [==============================] - 1s 248us/step - loss: 141.3454\n",
      "Epoch 75/200\n",
      "2156/2156 [==============================] - 1s 234us/step - loss: 141.2480\n",
      "Epoch 76/200\n",
      "2156/2156 [==============================] - 1s 265us/step - loss: 141.1557\n",
      "Epoch 77/200\n",
      "2156/2156 [==============================] - 1s 268us/step - loss: 141.0679\n",
      "Epoch 78/200\n",
      "2156/2156 [==============================] - 1s 283us/step - loss: 140.9844\n",
      "Epoch 79/200\n",
      "2156/2156 [==============================] - 1s 248us/step - loss: 140.9045\n",
      "Epoch 80/200\n",
      "2156/2156 [==============================] - 1s 262us/step - loss: 140.8282\n",
      "Epoch 81/200\n",
      "2156/2156 [==============================] - 1s 278us/step - loss: 140.7551\n",
      "Epoch 82/200\n",
      "2156/2156 [==============================] - 1s 243us/step - loss: 140.6848\n",
      "Epoch 83/200\n",
      "2156/2156 [==============================] - 1s 240us/step - loss: 140.6173\n",
      "Epoch 84/200\n",
      "2156/2156 [==============================] - 1s 233us/step - loss: 140.5523\n",
      "Epoch 85/200\n",
      "2156/2156 [==============================] - 1s 347us/step - loss: 140.4895\n",
      "Epoch 86/200\n",
      "2156/2156 [==============================] - 1s 458us/step - loss: 140.4287\n",
      "Epoch 87/200\n",
      "2156/2156 [==============================] - 1s 372us/step - loss: 140.3699\n",
      "Epoch 88/200\n",
      "2156/2156 [==============================] - 1s 265us/step - loss: 140.3130\n",
      "Epoch 89/200\n",
      "2156/2156 [==============================] - 1s 318us/step - loss: 140.2577\n",
      "Epoch 90/200\n",
      "2156/2156 [==============================] - 1s 343us/step - loss: 140.2038\n",
      "Epoch 91/200\n",
      "2156/2156 [==============================] - 1s 237us/step - loss: 140.1513\n",
      "Epoch 92/200\n"
     ]
    },
    {
     "name": "stdout",
     "output_type": "stream",
     "text": [
      "2156/2156 [==============================] - 1s 243us/step - loss: 140.1002\n",
      "Epoch 93/200\n",
      "2156/2156 [==============================] - 1s 240us/step - loss: 140.0503\n",
      "Epoch 94/200\n",
      "2156/2156 [==============================] - 1s 254us/step - loss: 140.0015\n",
      "Epoch 95/200\n",
      "2156/2156 [==============================] - 1s 395us/step - loss: 139.9537\n",
      "Epoch 96/200\n",
      "2156/2156 [==============================] - 1s 362us/step - loss: 139.9069\n",
      "Epoch 97/200\n",
      "2156/2156 [==============================] - 1s 265us/step - loss: 139.8610\n",
      "Epoch 98/200\n",
      "2156/2156 [==============================] - 1s 301us/step - loss: 139.8159\n",
      "Epoch 99/200\n",
      "2156/2156 [==============================] - 1s 261us/step - loss: 139.7717\n",
      "Epoch 100/200\n",
      "2156/2156 [==============================] - 1s 362us/step - loss: 139.7281\n",
      "Epoch 101/200\n",
      "2156/2156 [==============================] - 1s 382us/step - loss: 139.6852\n",
      "Epoch 102/200\n",
      "2156/2156 [==============================] - 1s 261us/step - loss: 139.6429\n",
      "Epoch 103/200\n",
      "2156/2156 [==============================] - 1s 303us/step - loss: 139.6013\n",
      "Epoch 104/200\n",
      "2156/2156 [==============================] - 1s 235us/step - loss: 139.5602\n",
      "Epoch 105/200\n",
      "2156/2156 [==============================] - 1s 246us/step - loss: 139.5197\n",
      "Epoch 106/200\n",
      "2156/2156 [==============================] - 1s 234us/step - loss: 139.4796\n",
      "Epoch 107/200\n",
      "2156/2156 [==============================] - 1s 232us/step - loss: 139.4400\n",
      "Epoch 108/200\n",
      "2156/2156 [==============================] - 1s 256us/step - loss: 139.4008\n",
      "Epoch 109/200\n",
      "2156/2156 [==============================] - 1s 232us/step - loss: 139.3621\n",
      "Epoch 110/200\n",
      "2156/2156 [==============================] - 1s 254us/step - loss: 139.3237\n",
      "Epoch 111/200\n",
      "2156/2156 [==============================] - 1s 283us/step - loss: 139.2858\n",
      "Epoch 112/200\n",
      "2156/2156 [==============================] - 1s 272us/step - loss: 139.2481\n",
      "Epoch 113/200\n",
      "2156/2156 [==============================] - 1s 246us/step - loss: 139.2108\n",
      "Epoch 114/200\n",
      "2156/2156 [==============================] - 1s 239us/step - loss: 139.1737\n",
      "Epoch 115/200\n",
      "2156/2156 [==============================] - 0s 225us/step - loss: 139.1370\n",
      "Epoch 116/200\n",
      "2156/2156 [==============================] - 1s 244us/step - loss: 139.1004\n",
      "Epoch 117/200\n",
      "2156/2156 [==============================] - 0s 217us/step - loss: 139.0643\n",
      "Epoch 118/200\n",
      "2156/2156 [==============================] - 1s 241us/step - loss: 139.0284\n",
      "Epoch 119/200\n",
      "2156/2156 [==============================] - 1s 283us/step - loss: 138.9927\n",
      "Epoch 120/200\n",
      "2156/2156 [==============================] - 1s 333us/step - loss: 138.9572\n",
      "Epoch 121/200\n",
      "2156/2156 [==============================] - 1s 239us/step - loss: 138.9219\n",
      "Epoch 122/200\n",
      "2156/2156 [==============================] - 1s 246us/step - loss: 138.8868\n",
      "Epoch 123/200\n",
      "2156/2156 [==============================] - 1s 232us/step - loss: 138.8519\n",
      "Epoch 124/200\n",
      "2156/2156 [==============================] - 0s 225us/step - loss: 138.8173\n",
      "Epoch 125/200\n",
      "2156/2156 [==============================] - 1s 249us/step - loss: 138.7827\n",
      "Epoch 126/200\n",
      "2156/2156 [==============================] - 1s 407us/step - loss: 138.7484\n",
      "Epoch 127/200\n",
      "2156/2156 [==============================] - 1s 297us/step - loss: 138.7143\n",
      "Epoch 128/200\n",
      "2156/2156 [==============================] - 1s 244us/step - loss: 138.6802\n",
      "Epoch 129/200\n",
      "2156/2156 [==============================] - 1s 239us/step - loss: 138.6463\n",
      "Epoch 130/200\n",
      "2156/2156 [==============================] - 1s 244us/step - loss: 138.6125\n",
      "Epoch 131/200\n",
      "2156/2156 [==============================] - 1s 239us/step - loss: 138.5789\n",
      "Epoch 132/200\n",
      "2156/2156 [==============================] - 1s 244us/step - loss: 138.5454\n",
      "Epoch 133/200\n",
      "2156/2156 [==============================] - 1s 246us/step - loss: 138.5120\n",
      "Epoch 134/200\n",
      "2156/2156 [==============================] - 1s 250us/step - loss: 138.4787\n",
      "Epoch 135/200\n",
      "2156/2156 [==============================] - 1s 257us/step - loss: 138.4456\n",
      "Epoch 136/200\n",
      "2156/2156 [==============================] - 1s 246us/step - loss: 138.4126\n",
      "Epoch 137/200\n",
      "2156/2156 [==============================] - 1s 261us/step - loss: 138.3796\n",
      "Epoch 138/200\n",
      "2156/2156 [==============================] - 1s 261us/step - loss: 138.3467\n",
      "Epoch 139/200\n",
      "2156/2156 [==============================] - 1s 261us/step - loss: 138.3141\n",
      "Epoch 140/200\n",
      "2156/2156 [==============================] - 1s 283us/step - loss: 138.2815\n",
      "Epoch 141/200\n",
      "2156/2156 [==============================] - 1s 266us/step - loss: 138.2489\n",
      "Epoch 142/200\n",
      "2156/2156 [==============================] - 1s 239us/step - loss: 138.2164\n",
      "Epoch 143/200\n",
      "2156/2156 [==============================] - 1s 242us/step - loss: 138.1840\n",
      "Epoch 144/200\n",
      "2156/2156 [==============================] - 1s 254us/step - loss: 138.1517\n",
      "Epoch 145/200\n",
      "2156/2156 [==============================] - 1s 246us/step - loss: 138.1194\n",
      "Epoch 146/200\n",
      "2156/2156 [==============================] - 1s 304us/step - loss: 138.0872\n",
      "Epoch 147/200\n",
      "2156/2156 [==============================] - 1s 239us/step - loss: 138.0551\n",
      "Epoch 148/200\n",
      "2156/2156 [==============================] - 0s 228us/step - loss: 138.0232\n",
      "Epoch 149/200\n",
      "2156/2156 [==============================] - 1s 261us/step - loss: 137.9911\n",
      "Epoch 150/200\n",
      "2156/2156 [==============================] - 1s 250us/step - loss: 137.9592\n",
      "Epoch 151/200\n",
      "2156/2156 [==============================] - 1s 283us/step - loss: 137.9274\n",
      "Epoch 152/200\n",
      "2156/2156 [==============================] - 1s 266us/step - loss: 137.8957\n",
      "Epoch 153/200\n",
      "2156/2156 [==============================] - 1s 257us/step - loss: 137.8639\n",
      "Epoch 154/200\n",
      "2156/2156 [==============================] - 1s 372us/step - loss: 137.8324 0s - loss: 141.721\n",
      "Epoch 155/200\n",
      "2156/2156 [==============================] - 1s 305us/step - loss: 137.8007\n",
      "Epoch 156/200\n",
      "2156/2156 [==============================] - 1s 409us/step - loss: 137.7692\n",
      "Epoch 157/200\n",
      "2156/2156 [==============================] - 1s 345us/step - loss: 137.7377\n",
      "Epoch 158/200\n",
      "2156/2156 [==============================] - 1s 304us/step - loss: 137.7062\n",
      "Epoch 159/200\n",
      "2156/2156 [==============================] - 1s 295us/step - loss: 137.6748\n",
      "Epoch 160/200\n",
      "2156/2156 [==============================] - 1s 245us/step - loss: 137.6436\n",
      "Epoch 161/200\n",
      "2156/2156 [==============================] - 1s 232us/step - loss: 137.6122\n",
      "Epoch 162/200\n",
      "2156/2156 [==============================] - 0s 220us/step - loss: 137.5810\n",
      "Epoch 163/200\n",
      "2156/2156 [==============================] - 1s 283us/step - loss: 137.5497\n",
      "Epoch 164/200\n",
      "2156/2156 [==============================] - 1s 232us/step - loss: 137.5185\n",
      "Epoch 165/200\n",
      "2156/2156 [==============================] - 1s 239us/step - loss: 137.4874\n",
      "Epoch 166/200\n",
      "2156/2156 [==============================] - 1s 251us/step - loss: 137.4562\n",
      "Epoch 167/200\n",
      "2156/2156 [==============================] - 1s 297us/step - loss: 137.4252\n",
      "Epoch 168/200\n",
      "2156/2156 [==============================] - 1s 273us/step - loss: 137.3942\n",
      "Epoch 169/200\n",
      "2156/2156 [==============================] - 0s 227us/step - loss: 137.3632\n",
      "Epoch 170/200\n",
      "2156/2156 [==============================] - 0s 229us/step - loss: 137.3323\n",
      "Epoch 171/200\n",
      "2156/2156 [==============================] - 1s 232us/step - loss: 137.3013\n",
      "Epoch 172/200\n",
      "2156/2156 [==============================] - 0s 225us/step - loss: 137.2704\n",
      "Epoch 173/200\n",
      "2156/2156 [==============================] - 0s 226us/step - loss: 137.2395\n",
      "Epoch 174/200\n",
      "2156/2156 [==============================] - 0s 223us/step - loss: 137.2087\n",
      "Epoch 175/200\n",
      "2156/2156 [==============================] - 1s 246us/step - loss: 137.1779\n",
      "Epoch 176/200\n",
      "2156/2156 [==============================] - 1s 250us/step - loss: 137.1471\n",
      "Epoch 177/200\n",
      "2156/2156 [==============================] - 1s 327us/step - loss: 137.1163\n",
      "Epoch 178/200\n",
      "2156/2156 [==============================] - 1s 286us/step - loss: 137.0856\n",
      "Epoch 179/200\n",
      "2156/2156 [==============================] - 1s 285us/step - loss: 137.0549\n",
      "Epoch 180/200\n",
      "2156/2156 [==============================] - 1s 294us/step - loss: 137.0243\n",
      "Epoch 181/200\n",
      "2156/2156 [==============================] - 1s 389us/step - loss: 136.9937\n",
      "Epoch 182/200\n",
      "2156/2156 [==============================] - 1s 280us/step - loss: 136.9630\n",
      "Epoch 183/200\n"
     ]
    },
    {
     "name": "stdout",
     "output_type": "stream",
     "text": [
      "2156/2156 [==============================] - 1s 408us/step - loss: 136.9324\n",
      "Epoch 184/200\n",
      "2156/2156 [==============================] - 1s 341us/step - loss: 136.9018\n",
      "Epoch 185/200\n",
      "2156/2156 [==============================] - 1s 263us/step - loss: 136.8713\n",
      "Epoch 186/200\n",
      "2156/2156 [==============================] - 1s 279us/step - loss: 136.8408\n",
      "Epoch 187/200\n",
      "2156/2156 [==============================] - 0s 224us/step - loss: 136.8103\n",
      "Epoch 188/200\n",
      "2156/2156 [==============================] - 1s 264us/step - loss: 136.7798\n",
      "Epoch 189/200\n",
      "2156/2156 [==============================] - 1s 281us/step - loss: 136.7494\n",
      "Epoch 190/200\n",
      "2156/2156 [==============================] - 1s 369us/step - loss: 136.7190\n",
      "Epoch 191/200\n",
      "2156/2156 [==============================] - 1s 402us/step - loss: 136.6884\n",
      "Epoch 192/200\n",
      "2156/2156 [==============================] - 1s 326us/step - loss: 136.6580\n",
      "Epoch 193/200\n",
      "2156/2156 [==============================] - 1s 497us/step - loss: 136.6277\n",
      "Epoch 194/200\n",
      "2156/2156 [==============================] - 1s 493us/step - loss: 136.5973\n",
      "Epoch 195/200\n",
      "2156/2156 [==============================] - 1s 357us/step - loss: 136.5669\n",
      "Epoch 196/200\n",
      "2156/2156 [==============================] - 1s 313us/step - loss: 136.5366\n",
      "Epoch 197/200\n",
      "2156/2156 [==============================] - 1s 261us/step - loss: 136.5063\n",
      "Epoch 198/200\n",
      "2156/2156 [==============================] - 1s 276us/step - loss: 136.4760\n",
      "Epoch 199/200\n",
      "2156/2156 [==============================] - 1s 244us/step - loss: 136.4457 0s - loss:\n",
      "Epoch 200/200\n",
      "2156/2156 [==============================] - 1s 252us/step - loss: 136.4154\n"
     ]
    }
   ],
   "source": [
    "from keras.models import Sequential\n",
    "from keras.layers import Dense\n",
    "import keras.backend as K\n",
    "from keras.callbacks import EarlyStopping\n",
    "from keras.optimizers import Adam\n",
    "from keras.models import load_model\n",
    "from keras.layers import LSTM\n",
    "K.clear_session()\n",
    "model_lstm = Sequential()\n",
    "model_lstm.add(LSTM(16, input_shape=(1, X_train.shape[1]), activation='relu', return_sequences=False))\n",
    "model_lstm.add(Dense(1))\n",
    "model_lstm.compile(loss='mean_squared_error', optimizer='adam')\n",
    "early_stop = EarlyStopping(monitor='loss', patience=5, verbose=1)\n",
    "history_model_lstm = model_lstm.fit(X_tr_t, y_train, epochs=200, batch_size=8, verbose=1, shuffle=False, callbacks=[early_stop])"
   ]
  },
  {
   "cell_type": "code",
   "execution_count": 76,
   "metadata": {},
   "outputs": [
    {
     "name": "stdout",
     "output_type": "stream",
     "text": [
      "The R2 score on the Train set is:\t0.989\n",
      "The R2 score on the Test set is:\t0.876\n"
     ]
    }
   ],
   "source": [
    "y_pred_test_lstm = model_lstm.predict(X_tst_t)\n",
    "y_train_pred_lstm = model_lstm.predict(X_tr_t)\n",
    "print(\"The R2 score on the Train set is:\\t{:0.3f}\".format(r2_score(y_train, y_train_pred_lstm)))\n",
    "r2_train = r2_score(y_train, y_train_pred_lstm)\n",
    "\n",
    "print(\"The R2 score on the Test set is:\\t{:0.3f}\".format(r2_score(y_test, y_pred_test_lstm)))\n",
    "r2_test = r2_score(y_test, y_pred_test_lstm)"
   ]
  },
  {
   "cell_type": "code",
   "execution_count": 77,
   "metadata": {},
   "outputs": [
    {
     "name": "stdout",
     "output_type": "stream",
     "text": [
      "215/215 [==============================] - 0s 930us/step\n"
     ]
    }
   ],
   "source": [
    "score_lstm= model_lstm.evaluate(X_tst_t, y_test, batch_size=1)"
   ]
  },
  {
   "cell_type": "code",
   "execution_count": 78,
   "metadata": {},
   "outputs": [
    {
     "name": "stdout",
     "output_type": "stream",
     "text": [
      "LSTM: 55.462229\n"
     ]
    }
   ],
   "source": [
    "print('LSTM: %f'%score_lstm)"
   ]
  },
  {
   "cell_type": "code",
   "execution_count": 79,
   "metadata": {},
   "outputs": [],
   "source": [
    "y_pred_test_LSTM = model_lstm.predict(X_tst_t)"
   ]
  },
  {
   "cell_type": "code",
   "execution_count": 80,
   "metadata": {},
   "outputs": [
    {
     "data": {
      "image/png": "[encoded data removed]",
      "text/plain": [
       "<Figure size 864x432 with 1 Axes>"
      ]
     },
     "metadata": {
      "needs_background": "light"
     },
     "output_type": "display_data"
    }
   ],
   "source": [
    "plt.figure(figsize=(12,6))\n",
    "plt.plot(y_test, label='True')\n",
    "plt.plot(y_pred_test_LSTM, label='LSTM')\n",
    "plt.title(\"LSTM's_Prediction - CANARA BANK\")\n",
    "plt.xlabel('Observation')\n",
    "plt.ylabel('INR_Scaled')\n",
    "plt.legend()\n",
    "plt.show()"
   ]
  },
  {
   "cell_type": "code",
   "execution_count": 81,
   "metadata": {},
   "outputs": [
    {
     "data": {
      "text/html": [
       "<div>\n",
       "<style scoped>\n",
       "    .dataframe tbody tr th:only-of-type {\n",
       "        vertical-align: middle;\n",
       "    }\n",
       "\n",
       "    .dataframe tbody tr th {\n",
       "        vertical-align: top;\n",
       "    }\n",
       "\n",
       "    .dataframe thead th {\n",
       "        text-align: right;\n",
       "    }\n",
       "</style>\n",
       "<table border=\"1\" class=\"dataframe\">\n",
       "  <thead>\n",
       "    <tr style=\"text-align: right;\">\n",
       "      <th></th>\n",
       "      <th>Actual Value</th>\n",
       "      <th>LSTM Prediction</th>\n",
       "      <th>Loss_LSTM</th>\n",
       "    </tr>\n",
       "  </thead>\n",
       "  <tbody>\n",
       "    <tr>\n",
       "      <th>0</th>\n",
       "      <td>220.850006</td>\n",
       "      <td>231.589722</td>\n",
       "      <td>145285.964779</td>\n",
       "    </tr>\n",
       "    <tr>\n",
       "      <th>1</th>\n",
       "      <td>232.949997</td>\n",
       "      <td>227.099091</td>\n",
       "      <td>142132.788186</td>\n",
       "    </tr>\n",
       "    <tr>\n",
       "      <th>2</th>\n",
       "      <td>231.699997</td>\n",
       "      <td>224.391342</td>\n",
       "      <td>133646.777518</td>\n",
       "    </tr>\n",
       "    <tr>\n",
       "      <th>3</th>\n",
       "      <td>229.050003</td>\n",
       "      <td>234.246307</td>\n",
       "      <td>120661.234998</td>\n",
       "    </tr>\n",
       "    <tr>\n",
       "      <th>4</th>\n",
       "      <td>220.000000</td>\n",
       "      <td>229.575348</td>\n",
       "      <td>105328.376453</td>\n",
       "    </tr>\n",
       "  </tbody>\n",
       "</table>\n",
       "</div>"
      ],
      "text/plain": [
       "   Actual Value  LSTM Prediction      Loss_LSTM\n",
       "0    220.850006       231.589722  145285.964779\n",
       "1    232.949997       227.099091  142132.788186\n",
       "2    231.699997       224.391342  133646.777518\n",
       "3    229.050003       234.246307  120661.234998\n",
       "4    220.000000       229.575348  105328.376453"
      ]
     },
     "execution_count": 81,
     "metadata": {},
     "output_type": "execute_result"
    }
   ],
   "source": [
    "col1 = pd.DataFrame(y_test, columns=['Actual Value'])\n",
    "\n",
    "col2 = pd.DataFrame(y_pred_test_LSTM, columns=['LSTM Prediction'])\n",
    "\n",
    "col3 = pd.DataFrame(history_model_lstm.history['loss'], columns=['Loss_LSTM'])\n",
    "results = pd.concat([col1, col2, col3], axis=1)\n",
    "results.head(5)"
   ]
  },
  {
   "cell_type": "code",
   "execution_count": 82,
   "metadata": {},
   "outputs": [
    {
     "name": "stdout",
     "output_type": "stream",
     "text": [
      "Mean Absolute Error: 5.676435106854103\n",
      "Mean Squared Error: 55.46224496105878\n",
      "Root Mean Squared Error: 7.447297829485455\n"
     ]
    }
   ],
   "source": [
    "from sklearn import metrics\n",
    "print('Mean Absolute Error:', metrics.mean_absolute_error(y_test, y_pred_test_LSTM))\n",
    "print('Mean Squared Error:', metrics.mean_squared_error(y_test,y_pred_test_LSTM ))\n",
    "print('Root Mean Squared Error:', np.sqrt(metrics.mean_squared_error(y_test,y_pred_test_LSTM )))"
   ]
  },
  {
   "cell_type": "markdown",
   "metadata": {},
   "source": [
    "## 4.Axis Bank"
   ]
  },
  {
   "cell_type": "code",
   "execution_count": 83,
   "metadata": {},
   "outputs": [],
   "source": [
    "#importing libraries\n",
    "\n",
    "import pandas as pd\n",
    "import numpy as np\n",
    "\n",
    "import matplotlib\n",
    "import matplotlib.pyplot as plt\n",
    "import matplotlib.dates as mdates\n",
    "\n",
    "%matplotlib inline\n",
    "\n",
    "from sklearn import linear_model\n",
    "from keras.layers import LSTM,Dense,Dropout\n",
    "from sklearn.preprocessing import MinMaxScaler\n",
    "from sklearn.metrics import mean_squared_error, r2_score\n",
    "from sklearn.model_selection import TimeSeriesSplit\n"
   ]
  },
  {
   "cell_type": "code",
   "execution_count": 84,
   "metadata": {},
   "outputs": [
    {
     "data": {
      "text/html": [
       "<div>\n",
       "<style scoped>\n",
       "    .dataframe tbody tr th:only-of-type {\n",
       "        vertical-align: middle;\n",
       "    }\n",
       "\n",
       "    .dataframe tbody tr th {\n",
       "        vertical-align: top;\n",
       "    }\n",
       "\n",
       "    .dataframe thead th {\n",
       "        text-align: right;\n",
       "    }\n",
       "</style>\n",
       "<table border=\"1\" class=\"dataframe\">\n",
       "  <thead>\n",
       "    <tr style=\"text-align: right;\">\n",
       "      <th></th>\n",
       "      <th>Open</th>\n",
       "      <th>High</th>\n",
       "      <th>Low</th>\n",
       "      <th>Close</th>\n",
       "      <th>Adj Close</th>\n",
       "      <th>Volume</th>\n",
       "    </tr>\n",
       "    <tr>\n",
       "      <th>Date</th>\n",
       "      <th></th>\n",
       "      <th></th>\n",
       "      <th></th>\n",
       "      <th></th>\n",
       "      <th></th>\n",
       "      <th></th>\n",
       "    </tr>\n",
       "  </thead>\n",
       "  <tbody>\n",
       "    <tr>\n",
       "      <th>2010-01-04</th>\n",
       "      <td>199.800003</td>\n",
       "      <td>199.800003</td>\n",
       "      <td>197.600006</td>\n",
       "      <td>198.610001</td>\n",
       "      <td>133.602966</td>\n",
       "      <td>658270</td>\n",
       "    </tr>\n",
       "    <tr>\n",
       "      <th>2010-01-05</th>\n",
       "      <td>200.199997</td>\n",
       "      <td>203.770004</td>\n",
       "      <td>199.399994</td>\n",
       "      <td>202.000000</td>\n",
       "      <td>135.883392</td>\n",
       "      <td>1105750</td>\n",
       "    </tr>\n",
       "    <tr>\n",
       "      <th>2010-01-06</th>\n",
       "      <td>203.330002</td>\n",
       "      <td>204.000000</td>\n",
       "      <td>198.429993</td>\n",
       "      <td>199.059998</td>\n",
       "      <td>133.905655</td>\n",
       "      <td>815055</td>\n",
       "    </tr>\n",
       "    <tr>\n",
       "      <th>2010-01-07</th>\n",
       "      <td>200.000000</td>\n",
       "      <td>201.000000</td>\n",
       "      <td>197.800003</td>\n",
       "      <td>200.589996</td>\n",
       "      <td>134.934906</td>\n",
       "      <td>1123435</td>\n",
       "    </tr>\n",
       "    <tr>\n",
       "      <th>2010-01-08</th>\n",
       "      <td>201.800003</td>\n",
       "      <td>203.660004</td>\n",
       "      <td>199.399994</td>\n",
       "      <td>202.710007</td>\n",
       "      <td>136.360977</td>\n",
       "      <td>1219710</td>\n",
       "    </tr>\n",
       "  </tbody>\n",
       "</table>\n",
       "</div>"
      ],
      "text/plain": [
       "                  Open        High         Low       Close   Adj Close  \\\n",
       "Date                                                                     \n",
       "2010-01-04  199.800003  199.800003  197.600006  198.610001  133.602966   \n",
       "2010-01-05  200.199997  203.770004  199.399994  202.000000  135.883392   \n",
       "2010-01-06  203.330002  204.000000  198.429993  199.059998  133.905655   \n",
       "2010-01-07  200.000000  201.000000  197.800003  200.589996  134.934906   \n",
       "2010-01-08  201.800003  203.660004  199.399994  202.710007  136.360977   \n",
       "\n",
       "             Volume  \n",
       "Date                 \n",
       "2010-01-04   658270  \n",
       "2010-01-05  1105750  \n",
       "2010-01-06   815055  \n",
       "2010-01-07  1123435  \n",
       "2010-01-08  1219710  "
      ]
     },
     "execution_count": 84,
     "metadata": {},
     "output_type": "execute_result"
    }
   ],
   "source": [
    "df_final = pd.read_csv(\"D://Dataset//AXISBANK.BO.csv\",na_values=['null'],index_col='Date',parse_dates=True,infer_datetime_format=True)\n",
    "df_final.head()"
   ]
  },
  {
   "cell_type": "code",
   "execution_count": 85,
   "metadata": {},
   "outputs": [
    {
     "data": {
      "text/plain": [
       "(2461, 6)"
      ]
     },
     "execution_count": 85,
     "metadata": {},
     "output_type": "execute_result"
    }
   ],
   "source": [
    "df_final.shape"
   ]
  },
  {
   "cell_type": "code",
   "execution_count": 86,
   "metadata": {},
   "outputs": [
    {
     "data": {
      "text/html": [
       "<div>\n",
       "<style scoped>\n",
       "    .dataframe tbody tr th:only-of-type {\n",
       "        vertical-align: middle;\n",
       "    }\n",
       "\n",
       "    .dataframe tbody tr th {\n",
       "        vertical-align: top;\n",
       "    }\n",
       "\n",
       "    .dataframe thead th {\n",
       "        text-align: right;\n",
       "    }\n",
       "</style>\n",
       "<table border=\"1\" class=\"dataframe\">\n",
       "  <thead>\n",
       "    <tr style=\"text-align: right;\">\n",
       "      <th></th>\n",
       "      <th>Open</th>\n",
       "      <th>High</th>\n",
       "      <th>Low</th>\n",
       "      <th>Close</th>\n",
       "      <th>Adj Close</th>\n",
       "      <th>Volume</th>\n",
       "    </tr>\n",
       "  </thead>\n",
       "  <tbody>\n",
       "    <tr>\n",
       "      <th>count</th>\n",
       "      <td>2461.000000</td>\n",
       "      <td>2461.000000</td>\n",
       "      <td>2461.000000</td>\n",
       "      <td>2461.000000</td>\n",
       "      <td>2461.000000</td>\n",
       "      <td>2.461000e+03</td>\n",
       "    </tr>\n",
       "    <tr>\n",
       "      <th>mean</th>\n",
       "      <td>414.669403</td>\n",
       "      <td>419.943853</td>\n",
       "      <td>408.655364</td>\n",
       "      <td>414.120430</td>\n",
       "      <td>386.239867</td>\n",
       "      <td>1.048775e+06</td>\n",
       "    </tr>\n",
       "    <tr>\n",
       "      <th>std</th>\n",
       "      <td>170.751760</td>\n",
       "      <td>172.390514</td>\n",
       "      <td>168.575296</td>\n",
       "      <td>170.371302</td>\n",
       "      <td>193.257791</td>\n",
       "      <td>6.026169e+06</td>\n",
       "    </tr>\n",
       "    <tr>\n",
       "      <th>min</th>\n",
       "      <td>156.539993</td>\n",
       "      <td>163.000000</td>\n",
       "      <td>152.800003</td>\n",
       "      <td>156.529999</td>\n",
       "      <td>119.157585</td>\n",
       "      <td>0.000000e+00</td>\n",
       "    </tr>\n",
       "    <tr>\n",
       "      <th>25%</th>\n",
       "      <td>250.259995</td>\n",
       "      <td>253.789993</td>\n",
       "      <td>246.600006</td>\n",
       "      <td>250.059998</td>\n",
       "      <td>191.134216</td>\n",
       "      <td>3.971280e+05</td>\n",
       "    </tr>\n",
       "    <tr>\n",
       "      <th>50%</th>\n",
       "      <td>420.549988</td>\n",
       "      <td>425.000000</td>\n",
       "      <td>415.250000</td>\n",
       "      <td>420.000000</td>\n",
       "      <td>410.714935</td>\n",
       "      <td>6.427450e+05</td>\n",
       "    </tr>\n",
       "    <tr>\n",
       "      <th>75%</th>\n",
       "      <td>542.000000</td>\n",
       "      <td>549.000000</td>\n",
       "      <td>534.500000</td>\n",
       "      <td>541.299988</td>\n",
       "      <td>536.142273</td>\n",
       "      <td>1.081155e+06</td>\n",
       "    </tr>\n",
       "    <tr>\n",
       "      <th>max</th>\n",
       "      <td>826.549988</td>\n",
       "      <td>826.549988</td>\n",
       "      <td>811.900024</td>\n",
       "      <td>821.400024</td>\n",
       "      <td>820.381287</td>\n",
       "      <td>2.634132e+08</td>\n",
       "    </tr>\n",
       "  </tbody>\n",
       "</table>\n",
       "</div>"
      ],
      "text/plain": [
       "              Open         High          Low        Close    Adj Close  \\\n",
       "count  2461.000000  2461.000000  2461.000000  2461.000000  2461.000000   \n",
       "mean    414.669403   419.943853   408.655364   414.120430   386.239867   \n",
       "std     170.751760   172.390514   168.575296   170.371302   193.257791   \n",
       "min     156.539993   163.000000   152.800003   156.529999   119.157585   \n",
       "25%     250.259995   253.789993   246.600006   250.059998   191.134216   \n",
       "50%     420.549988   425.000000   415.250000   420.000000   410.714935   \n",
       "75%     542.000000   549.000000   534.500000   541.299988   536.142273   \n",
       "max     826.549988   826.549988   811.900024   821.400024   820.381287   \n",
       "\n",
       "             Volume  \n",
       "count  2.461000e+03  \n",
       "mean   1.048775e+06  \n",
       "std    6.026169e+06  \n",
       "min    0.000000e+00  \n",
       "25%    3.971280e+05  \n",
       "50%    6.427450e+05  \n",
       "75%    1.081155e+06  \n",
       "max    2.634132e+08  "
      ]
     },
     "execution_count": 86,
     "metadata": {},
     "output_type": "execute_result"
    }
   ],
   "source": [
    "df_final.describe()"
   ]
  },
  {
   "cell_type": "code",
   "execution_count": 87,
   "metadata": {},
   "outputs": [
    {
     "data": {
      "text/plain": [
       "False"
      ]
     },
     "execution_count": 87,
     "metadata": {},
     "output_type": "execute_result"
    }
   ],
   "source": [
    "df_final.isnull().values.any()"
   ]
  },
  {
   "cell_type": "code",
   "execution_count": 88,
   "metadata": {},
   "outputs": [
    {
     "data": {
      "text/plain": [
       "<matplotlib.axes._subplots.AxesSubplot at 0x19b95355108>"
      ]
     },
     "execution_count": 88,
     "metadata": {},
     "output_type": "execute_result"
    },
    {
     "data": {
      "image/png": "[encoded data removed]",
      "text/plain": [
       "<Figure size 864x432 with 1 Axes>"
      ]
     },
     "metadata": {
      "needs_background": "light"
     },
     "output_type": "display_data"
    }
   ],
   "source": [
    "df_final['Close'].plot(figsize=(12,6), title = 'AXIS Bank')"
   ]
  },
  {
   "cell_type": "code",
   "execution_count": 89,
   "metadata": {},
   "outputs": [
    {
     "data": {
      "text/plain": [
       "<matplotlib.axes._subplots.AxesSubplot at 0x19b92263108>"
      ]
     },
     "execution_count": 89,
     "metadata": {},
     "output_type": "execute_result"
    },
    {
     "data": {
      "image/png": "[encoded data removed]",
      "text/plain": [
       "<Figure size 1152x432 with 1 Axes>"
      ]
     },
     "metadata": {
      "needs_background": "light"
     },
     "output_type": "display_data"
    }
   ],
   "source": [
    "X=df_final.drop(['Close'],axis=1)\n",
    "X=X.drop(['Adj Close'],axis=1)\n",
    "\n",
    "X.corrwith(df_final['Close']).plot.bar(\n",
    "        figsize = (16, 6), title = \"Correlation with Close\", fontsize = 20,\n",
    "        rot = 90, grid = True)"
   ]
  },
  {
   "cell_type": "code",
   "execution_count": 90,
   "metadata": {},
   "outputs": [
    {
     "data": {
      "text/html": [
       "<div>\n",
       "<style scoped>\n",
       "    .dataframe tbody tr th:only-of-type {\n",
       "        vertical-align: middle;\n",
       "    }\n",
       "\n",
       "    .dataframe tbody tr th {\n",
       "        vertical-align: top;\n",
       "    }\n",
       "\n",
       "    .dataframe thead th {\n",
       "        text-align: right;\n",
       "    }\n",
       "</style>\n",
       "<table border=\"1\" class=\"dataframe\">\n",
       "  <thead>\n",
       "    <tr style=\"text-align: right;\">\n",
       "      <th></th>\n",
       "      <th>Open</th>\n",
       "      <th>High</th>\n",
       "      <th>Low</th>\n",
       "      <th>Close</th>\n",
       "      <th>Adj Close</th>\n",
       "      <th>Volume</th>\n",
       "    </tr>\n",
       "    <tr>\n",
       "      <th>Date</th>\n",
       "      <th></th>\n",
       "      <th></th>\n",
       "      <th></th>\n",
       "      <th></th>\n",
       "      <th></th>\n",
       "      <th></th>\n",
       "    </tr>\n",
       "  </thead>\n",
       "  <tbody>\n",
       "    <tr>\n",
       "      <th>2010-01-04</th>\n",
       "      <td>199.800003</td>\n",
       "      <td>199.800003</td>\n",
       "      <td>197.600006</td>\n",
       "      <td>198.610001</td>\n",
       "      <td>133.602966</td>\n",
       "      <td>658270</td>\n",
       "    </tr>\n",
       "    <tr>\n",
       "      <th>2010-01-05</th>\n",
       "      <td>200.199997</td>\n",
       "      <td>203.770004</td>\n",
       "      <td>199.399994</td>\n",
       "      <td>202.000000</td>\n",
       "      <td>135.883392</td>\n",
       "      <td>1105750</td>\n",
       "    </tr>\n",
       "    <tr>\n",
       "      <th>2010-01-06</th>\n",
       "      <td>203.330002</td>\n",
       "      <td>204.000000</td>\n",
       "      <td>198.429993</td>\n",
       "      <td>199.059998</td>\n",
       "      <td>133.905655</td>\n",
       "      <td>815055</td>\n",
       "    </tr>\n",
       "    <tr>\n",
       "      <th>2010-01-07</th>\n",
       "      <td>200.000000</td>\n",
       "      <td>201.000000</td>\n",
       "      <td>197.800003</td>\n",
       "      <td>200.589996</td>\n",
       "      <td>134.934906</td>\n",
       "      <td>1123435</td>\n",
       "    </tr>\n",
       "    <tr>\n",
       "      <th>2010-01-08</th>\n",
       "      <td>201.800003</td>\n",
       "      <td>203.660004</td>\n",
       "      <td>199.399994</td>\n",
       "      <td>202.710007</td>\n",
       "      <td>136.360977</td>\n",
       "      <td>1219710</td>\n",
       "    </tr>\n",
       "  </tbody>\n",
       "</table>\n",
       "</div>"
      ],
      "text/plain": [
       "                  Open        High         Low       Close   Adj Close  \\\n",
       "Date                                                                     \n",
       "2010-01-04  199.800003  199.800003  197.600006  198.610001  133.602966   \n",
       "2010-01-05  200.199997  203.770004  199.399994  202.000000  135.883392   \n",
       "2010-01-06  203.330002  204.000000  198.429993  199.059998  133.905655   \n",
       "2010-01-07  200.000000  201.000000  197.800003  200.589996  134.934906   \n",
       "2010-01-08  201.800003  203.660004  199.399994  202.710007  136.360977   \n",
       "\n",
       "             Volume  \n",
       "Date                 \n",
       "2010-01-04   658270  \n",
       "2010-01-05  1105750  \n",
       "2010-01-06   815055  \n",
       "2010-01-07  1123435  \n",
       "2010-01-08  1219710  "
      ]
     },
     "metadata": {},
     "output_type": "display_data"
    }
   ],
   "source": [
    "test = df_final\n",
    "# Target column\n",
    "target_adj_close = pd.DataFrame(test['Close'])\n",
    "display(test.head())"
   ]
  },
  {
   "cell_type": "code",
   "execution_count": 91,
   "metadata": {},
   "outputs": [],
   "source": [
    "# selecting Feature Columns\n",
    "feature_columns = ['Open', 'High', 'Low', 'Volume']"
   ]
  },
  {
   "cell_type": "code",
   "execution_count": 92,
   "metadata": {},
   "outputs": [
    {
     "data": {
      "text/html": [
       "<div>\n",
       "<style scoped>\n",
       "    .dataframe tbody tr th:only-of-type {\n",
       "        vertical-align: middle;\n",
       "    }\n",
       "\n",
       "    .dataframe tbody tr th {\n",
       "        vertical-align: top;\n",
       "    }\n",
       "\n",
       "    .dataframe thead th {\n",
       "        text-align: right;\n",
       "    }\n",
       "</style>\n",
       "<table border=\"1\" class=\"dataframe\">\n",
       "  <thead>\n",
       "    <tr style=\"text-align: right;\">\n",
       "      <th></th>\n",
       "      <th>Open</th>\n",
       "      <th>High</th>\n",
       "      <th>Low</th>\n",
       "      <th>Volume</th>\n",
       "    </tr>\n",
       "    <tr>\n",
       "      <th>Date</th>\n",
       "      <th></th>\n",
       "      <th></th>\n",
       "      <th></th>\n",
       "      <th></th>\n",
       "    </tr>\n",
       "  </thead>\n",
       "  <tbody>\n",
       "    <tr>\n",
       "      <th>2010-01-04</th>\n",
       "      <td>0.064566</td>\n",
       "      <td>0.055459</td>\n",
       "      <td>0.067971</td>\n",
       "      <td>0.002499</td>\n",
       "    </tr>\n",
       "    <tr>\n",
       "      <th>2010-01-05</th>\n",
       "      <td>0.065163</td>\n",
       "      <td>0.061442</td>\n",
       "      <td>0.070702</td>\n",
       "      <td>0.004198</td>\n",
       "    </tr>\n",
       "    <tr>\n",
       "      <th>2010-01-06</th>\n",
       "      <td>0.069835</td>\n",
       "      <td>0.061789</td>\n",
       "      <td>0.069231</td>\n",
       "      <td>0.003094</td>\n",
       "    </tr>\n",
       "    <tr>\n",
       "      <th>2010-01-07</th>\n",
       "      <td>0.064865</td>\n",
       "      <td>0.057268</td>\n",
       "      <td>0.068275</td>\n",
       "      <td>0.004265</td>\n",
       "    </tr>\n",
       "    <tr>\n",
       "      <th>2010-01-08</th>\n",
       "      <td>0.067551</td>\n",
       "      <td>0.061276</td>\n",
       "      <td>0.070702</td>\n",
       "      <td>0.004630</td>\n",
       "    </tr>\n",
       "  </tbody>\n",
       "</table>\n",
       "</div>"
      ],
      "text/plain": [
       "                Open      High       Low    Volume\n",
       "Date                                              \n",
       "2010-01-04  0.064566  0.055459  0.067971  0.002499\n",
       "2010-01-05  0.065163  0.061442  0.070702  0.004198\n",
       "2010-01-06  0.069835  0.061789  0.069231  0.003094\n",
       "2010-01-07  0.064865  0.057268  0.068275  0.004265\n",
       "2010-01-08  0.067551  0.061276  0.070702  0.004630"
      ]
     },
     "execution_count": 92,
     "metadata": {},
     "output_type": "execute_result"
    }
   ],
   "source": [
    "from sklearn.preprocessing import MinMaxScaler\n",
    "scaler = MinMaxScaler()\n",
    "feature_minmax_transform_data = scaler.fit_transform(test[feature_columns])\n",
    "feature_minmax_transform = pd.DataFrame(columns=feature_columns, data=feature_minmax_transform_data, index=test.index)\n",
    "feature_minmax_transform.head()"
   ]
  },
  {
   "cell_type": "code",
   "execution_count": 93,
   "metadata": {},
   "outputs": [
    {
     "data": {
      "text/html": [
       "<div>\n",
       "<style scoped>\n",
       "    .dataframe tbody tr th:only-of-type {\n",
       "        vertical-align: middle;\n",
       "    }\n",
       "\n",
       "    .dataframe tbody tr th {\n",
       "        vertical-align: top;\n",
       "    }\n",
       "\n",
       "    .dataframe thead th {\n",
       "        text-align: right;\n",
       "    }\n",
       "</style>\n",
       "<table border=\"1\" class=\"dataframe\">\n",
       "  <thead>\n",
       "    <tr style=\"text-align: right;\">\n",
       "      <th></th>\n",
       "      <th>Open</th>\n",
       "      <th>High</th>\n",
       "      <th>Low</th>\n",
       "      <th>Volume</th>\n",
       "    </tr>\n",
       "    <tr>\n",
       "      <th>Date</th>\n",
       "      <th></th>\n",
       "      <th></th>\n",
       "      <th></th>\n",
       "      <th></th>\n",
       "    </tr>\n",
       "  </thead>\n",
       "  <tbody>\n",
       "    <tr>\n",
       "      <th>2010-01-04</th>\n",
       "      <td>0.064566</td>\n",
       "      <td>0.055459</td>\n",
       "      <td>0.067971</td>\n",
       "      <td>0.002499</td>\n",
       "    </tr>\n",
       "    <tr>\n",
       "      <th>2010-01-05</th>\n",
       "      <td>0.065163</td>\n",
       "      <td>0.061442</td>\n",
       "      <td>0.070702</td>\n",
       "      <td>0.004198</td>\n",
       "    </tr>\n",
       "    <tr>\n",
       "      <th>2010-01-06</th>\n",
       "      <td>0.069835</td>\n",
       "      <td>0.061789</td>\n",
       "      <td>0.069231</td>\n",
       "      <td>0.003094</td>\n",
       "    </tr>\n",
       "    <tr>\n",
       "      <th>2010-01-07</th>\n",
       "      <td>0.064865</td>\n",
       "      <td>0.057268</td>\n",
       "      <td>0.068275</td>\n",
       "      <td>0.004265</td>\n",
       "    </tr>\n",
       "    <tr>\n",
       "      <th>2010-01-08</th>\n",
       "      <td>0.067551</td>\n",
       "      <td>0.061276</td>\n",
       "      <td>0.070702</td>\n",
       "      <td>0.004630</td>\n",
       "    </tr>\n",
       "  </tbody>\n",
       "</table>\n",
       "</div>"
      ],
      "text/plain": [
       "                Open      High       Low    Volume\n",
       "Date                                              \n",
       "2010-01-04  0.064566  0.055459  0.067971  0.002499\n",
       "2010-01-05  0.065163  0.061442  0.070702  0.004198\n",
       "2010-01-06  0.069835  0.061789  0.069231  0.003094\n",
       "2010-01-07  0.064865  0.057268  0.068275  0.004265\n",
       "2010-01-08  0.067551  0.061276  0.070702  0.004630"
      ]
     },
     "metadata": {},
     "output_type": "display_data"
    },
    {
     "name": "stdout",
     "output_type": "stream",
     "text": [
      "Shape of features :  (2461, 4)\n",
      "Shape of target :  (2461, 1)\n"
     ]
    },
    {
     "data": {
      "text/html": [
       "<div>\n",
       "<style scoped>\n",
       "    .dataframe tbody tr th:only-of-type {\n",
       "        vertical-align: middle;\n",
       "    }\n",
       "\n",
       "    .dataframe tbody tr th {\n",
       "        vertical-align: top;\n",
       "    }\n",
       "\n",
       "    .dataframe thead th {\n",
       "        text-align: right;\n",
       "    }\n",
       "</style>\n",
       "<table border=\"1\" class=\"dataframe\">\n",
       "  <thead>\n",
       "    <tr style=\"text-align: right;\">\n",
       "      <th></th>\n",
       "      <th>Open</th>\n",
       "      <th>High</th>\n",
       "      <th>Low</th>\n",
       "      <th>Volume</th>\n",
       "    </tr>\n",
       "    <tr>\n",
       "      <th>Date</th>\n",
       "      <th></th>\n",
       "      <th></th>\n",
       "      <th></th>\n",
       "      <th></th>\n",
       "    </tr>\n",
       "  </thead>\n",
       "  <tbody>\n",
       "    <tr>\n",
       "      <th>2019-12-23</th>\n",
       "      <td>0.872166</td>\n",
       "      <td>0.881998</td>\n",
       "      <td>0.886057</td>\n",
       "      <td>0.001224</td>\n",
       "    </tr>\n",
       "    <tr>\n",
       "      <th>2019-12-24</th>\n",
       "      <td>0.875300</td>\n",
       "      <td>0.876422</td>\n",
       "      <td>0.887422</td>\n",
       "      <td>0.000370</td>\n",
       "    </tr>\n",
       "    <tr>\n",
       "      <th>2019-12-26</th>\n",
       "      <td>0.869330</td>\n",
       "      <td>0.870243</td>\n",
       "      <td>0.881505</td>\n",
       "      <td>0.000351</td>\n",
       "    </tr>\n",
       "    <tr>\n",
       "      <th>2019-12-27</th>\n",
       "      <td>0.868062</td>\n",
       "      <td>0.903022</td>\n",
       "      <td>0.884995</td>\n",
       "      <td>0.001365</td>\n",
       "    </tr>\n",
       "    <tr>\n",
       "      <th>2019-12-30</th>\n",
       "      <td>0.900673</td>\n",
       "      <td>0.908146</td>\n",
       "      <td>0.907905</td>\n",
       "      <td>0.000845</td>\n",
       "    </tr>\n",
       "  </tbody>\n",
       "</table>\n",
       "</div>"
      ],
      "text/plain": [
       "                Open      High       Low    Volume\n",
       "Date                                              \n",
       "2019-12-23  0.872166  0.881998  0.886057  0.001224\n",
       "2019-12-24  0.875300  0.876422  0.887422  0.000370\n",
       "2019-12-26  0.869330  0.870243  0.881505  0.000351\n",
       "2019-12-27  0.868062  0.903022  0.884995  0.001365\n",
       "2019-12-30  0.900673  0.908146  0.907905  0.000845"
      ]
     },
     "metadata": {},
     "output_type": "display_data"
    },
    {
     "data": {
      "text/html": [
       "<div>\n",
       "<style scoped>\n",
       "    .dataframe tbody tr th:only-of-type {\n",
       "        vertical-align: middle;\n",
       "    }\n",
       "\n",
       "    .dataframe tbody tr th {\n",
       "        vertical-align: top;\n",
       "    }\n",
       "\n",
       "    .dataframe thead th {\n",
       "        text-align: right;\n",
       "    }\n",
       "</style>\n",
       "<table border=\"1\" class=\"dataframe\">\n",
       "  <thead>\n",
       "    <tr style=\"text-align: right;\">\n",
       "      <th></th>\n",
       "      <th>Close</th>\n",
       "    </tr>\n",
       "    <tr>\n",
       "      <th>Date</th>\n",
       "      <th></th>\n",
       "    </tr>\n",
       "  </thead>\n",
       "  <tbody>\n",
       "    <tr>\n",
       "      <th>2019-12-23</th>\n",
       "      <td>740.450012</td>\n",
       "    </tr>\n",
       "    <tr>\n",
       "      <th>2019-12-24</th>\n",
       "      <td>736.150024</td>\n",
       "    </tr>\n",
       "    <tr>\n",
       "      <th>2019-12-26</th>\n",
       "      <td>760.700012</td>\n",
       "    </tr>\n",
       "    <tr>\n",
       "      <th>2019-12-27</th>\n",
       "      <td>754.200012</td>\n",
       "    </tr>\n",
       "    <tr>\n",
       "      <th>2019-12-30</th>\n",
       "      <td>754.000000</td>\n",
       "    </tr>\n",
       "  </tbody>\n",
       "</table>\n",
       "</div>"
      ],
      "text/plain": [
       "                 Close\n",
       "Date                  \n",
       "2019-12-23  740.450012\n",
       "2019-12-24  736.150024\n",
       "2019-12-26  760.700012\n",
       "2019-12-27  754.200012\n",
       "2019-12-30  754.000000"
      ]
     },
     "metadata": {},
     "output_type": "display_data"
    },
    {
     "name": "stdout",
     "output_type": "stream",
     "text": [
      "\n",
      " -----After process------ \n",
      "\n",
      "Shape of features :  (2371, 4)\n",
      "Shape of target :  (2371, 1)\n"
     ]
    },
    {
     "data": {
      "text/html": [
       "<div>\n",
       "<style scoped>\n",
       "    .dataframe tbody tr th:only-of-type {\n",
       "        vertical-align: middle;\n",
       "    }\n",
       "\n",
       "    .dataframe tbody tr th {\n",
       "        vertical-align: top;\n",
       "    }\n",
       "\n",
       "    .dataframe thead th {\n",
       "        text-align: right;\n",
       "    }\n",
       "</style>\n",
       "<table border=\"1\" class=\"dataframe\">\n",
       "  <thead>\n",
       "    <tr style=\"text-align: right;\">\n",
       "      <th></th>\n",
       "      <th>Close</th>\n",
       "    </tr>\n",
       "    <tr>\n",
       "      <th>Date</th>\n",
       "      <th></th>\n",
       "    </tr>\n",
       "  </thead>\n",
       "  <tbody>\n",
       "    <tr>\n",
       "      <th>2019-08-07</th>\n",
       "      <td>660.000000</td>\n",
       "    </tr>\n",
       "    <tr>\n",
       "      <th>2019-08-08</th>\n",
       "      <td>660.700012</td>\n",
       "    </tr>\n",
       "    <tr>\n",
       "      <th>2019-08-09</th>\n",
       "      <td>650.150024</td>\n",
       "    </tr>\n",
       "    <tr>\n",
       "      <th>2019-08-13</th>\n",
       "      <td>663.200012</td>\n",
       "    </tr>\n",
       "    <tr>\n",
       "      <th>2019-08-14</th>\n",
       "      <td>675.549988</td>\n",
       "    </tr>\n",
       "  </tbody>\n",
       "</table>\n",
       "</div>"
      ],
      "text/plain": [
       "                 Close\n",
       "Date                  \n",
       "2019-08-07  660.000000\n",
       "2019-08-08  660.700012\n",
       "2019-08-09  650.150024\n",
       "2019-08-13  663.200012\n",
       "2019-08-14  675.549988"
      ]
     },
     "metadata": {},
     "output_type": "display_data"
    }
   ],
   "source": [
    "display(feature_minmax_transform.head())\n",
    "print('Shape of features : ', feature_minmax_transform.shape)\n",
    "print('Shape of target : ', target_adj_close.shape)\n",
    "\n",
    "# Shift target array because we want to predict the n + 1 day value\n",
    "\n",
    "\n",
    "target_adj_close = target_adj_close.shift(-1)\n",
    "validation_y = target_adj_close[-90:-1]\n",
    "target_adj_close = target_adj_close[:-90]\n",
    "\n",
    "# Taking last 90 rows of data to be validation set\n",
    "validation_X = feature_minmax_transform[-90:-1]\n",
    "feature_minmax_transform = feature_minmax_transform[:-90]\n",
    "display(validation_X.tail())\n",
    "display(validation_y.tail())\n",
    "\n",
    "print(\"\\n -----After process------ \\n\")\n",
    "print('Shape of features : ', feature_minmax_transform.shape)\n",
    "print('Shape of target : ', target_adj_close.shape)\n",
    "display(target_adj_close.tail())"
   ]
  },
  {
   "cell_type": "code",
   "execution_count": 94,
   "metadata": {},
   "outputs": [],
   "source": [
    "ts_split= TimeSeriesSplit(n_splits=10)\n",
    "for train_index, test_index in ts_split.split(feature_minmax_transform):\n",
    "        X_train, X_test = feature_minmax_transform[:len(train_index)], feature_minmax_transform[len(train_index): (len(train_index)+len(test_index))]\n",
    "        y_train, y_test = target_adj_close[:len(train_index)].values.ravel(), target_adj_close[len(train_index): (len(train_index)+len(test_index))].values.ravel()"
   ]
  },
  {
   "cell_type": "code",
   "execution_count": 95,
   "metadata": {},
   "outputs": [
    {
     "data": {
      "text/plain": [
       "(2156, 4)"
      ]
     },
     "execution_count": 95,
     "metadata": {},
     "output_type": "execute_result"
    }
   ],
   "source": [
    "X_train.shape"
   ]
  },
  {
   "cell_type": "code",
   "execution_count": 96,
   "metadata": {},
   "outputs": [
    {
     "data": {
      "text/plain": [
       "(215, 4)"
      ]
     },
     "execution_count": 96,
     "metadata": {},
     "output_type": "execute_result"
    }
   ],
   "source": [
    "X_test.shape"
   ]
  },
  {
   "cell_type": "code",
   "execution_count": 97,
   "metadata": {},
   "outputs": [
    {
     "data": {
      "text/plain": [
       "(2156,)"
      ]
     },
     "execution_count": 97,
     "metadata": {},
     "output_type": "execute_result"
    }
   ],
   "source": [
    "y_train.shape"
   ]
  },
  {
   "cell_type": "code",
   "execution_count": 98,
   "metadata": {},
   "outputs": [
    {
     "data": {
      "text/plain": [
       "(215,)"
      ]
     },
     "execution_count": 98,
     "metadata": {},
     "output_type": "execute_result"
    }
   ],
   "source": [
    "y_test.shape"
   ]
  },
  {
   "cell_type": "code",
   "execution_count": 99,
   "metadata": {},
   "outputs": [],
   "source": [
    "def validate_result(model, model_name):\n",
    "    predicted = model.predict(validation_X)\n",
    "    RSME_score = np.sqrt(mean_squared_error(validation_y, predicted))\n",
    "    print('RMSE: ', RSME_score)\n",
    "    \n",
    "    R2_score = r2_score(validation_y, predicted)\n",
    "    print('R2 score: ', R2_score)\n",
    "\n",
    "    plt.plot(validation_y.index, predicted,'r', label='Predict')\n",
    "    plt.plot(validation_y.index, validation_y,'b', label='Actual')\n",
    "    plt.ylabel('Price')\n",
    "    plt.gca().xaxis.set_major_formatter(mdates.DateFormatter('%Y-%m-%d'))\n",
    "    plt.gca().xaxis.set_major_locator(mdates.MonthLocator())\n",
    "    plt.title(model_name + ' Predict vs Actual')\n",
    "    plt.legend(loc='upper right')\n",
    "    plt.show()"
   ]
  },
  {
   "cell_type": "code",
   "execution_count": 100,
   "metadata": {},
   "outputs": [
    {
     "name": "stdout",
     "output_type": "stream",
     "text": [
      "RMSE:  68.8585544848239\n",
      "R2 score:  -2.995942000539007\n"
     ]
    },
    {
     "data": {
      "image/png": "[encoded data removed]",
      "text/plain": [
       "<Figure size 432x288 with 1 Axes>"
      ]
     },
     "metadata": {
      "needs_background": "light"
     },
     "output_type": "display_data"
    }
   ],
   "source": [
    "from sklearn.tree import DecisionTreeRegressor\n",
    "\n",
    "dt = DecisionTreeRegressor(random_state=0)\n",
    "\n",
    "benchmark_dt=dt.fit(X_train, y_train)\n",
    "\n",
    "validate_result(benchmark_dt, 'Decision Tree Regression')"
   ]
  },
  {
   "cell_type": "code",
   "execution_count": 101,
   "metadata": {},
   "outputs": [],
   "source": [
    "X_train =np.array(X_train)\n",
    "X_test =np.array(X_test)\n",
    "\n",
    "X_tr_t = X_train.reshape(X_train.shape[0], 1, X_train.shape[1])\n",
    "X_tst_t = X_test.reshape(X_test.shape[0], 1, X_test.shape[1])"
   ]
  },
  {
   "cell_type": "code",
   "execution_count": 102,
   "metadata": {},
   "outputs": [
    {
     "name": "stdout",
     "output_type": "stream",
     "text": [
      "Epoch 1/200\n",
      "2156/2156 [==============================] - 1s 428us/step - loss: 158597.8396\n",
      "Epoch 2/200\n",
      "2156/2156 [==============================] - 1s 233us/step - loss: 156260.5751\n",
      "Epoch 3/200\n",
      "2156/2156 [==============================] - 0s 220us/step - loss: 151815.7915\n",
      "Epoch 4/200\n",
      "2156/2156 [==============================] - 1s 233us/step - loss: 145668.5240\n",
      "Epoch 5/200\n",
      "2156/2156 [==============================] - 1s 247us/step - loss: 138338.2793\n",
      "Epoch 6/200\n",
      "2156/2156 [==============================] - 1s 273us/step - loss: 130175.4166\n",
      "Epoch 7/200\n",
      "2156/2156 [==============================] - 1s 245us/step - loss: 121426.6719\n",
      "Epoch 8/200\n",
      "2156/2156 [==============================] - 1s 236us/step - loss: 112287.0441\n",
      "Epoch 9/200\n",
      "2156/2156 [==============================] - 1s 239us/step - loss: 102922.6753\n",
      "Epoch 10/200\n",
      "2156/2156 [==============================] - 1s 238us/step - loss: 93480.5716\n",
      "Epoch 11/200\n",
      "2156/2156 [==============================] - 0s 231us/step - loss: 84093.1682\n",
      "Epoch 12/200\n",
      "2156/2156 [==============================] - 1s 240us/step - loss: 74880.4277\n",
      "Epoch 13/200\n",
      "2156/2156 [==============================] - 1s 250us/step - loss: 65950.9080\n",
      "Epoch 14/200\n",
      "2156/2156 [==============================] - 1s 283us/step - loss: 57402.1158\n",
      "Epoch 15/200\n",
      "2156/2156 [==============================] - 1s 317us/step - loss: 49320.6134\n",
      "Epoch 16/200\n",
      "2156/2156 [==============================] - 1s 256us/step - loss: 41781.5245\n",
      "Epoch 17/200\n",
      "2156/2156 [==============================] - 1s 241us/step - loss: 34847.8400\n",
      "Epoch 18/200\n",
      "2156/2156 [==============================] - 1s 248us/step - loss: 28569.5355\n",
      "Epoch 19/200\n",
      "2156/2156 [==============================] - 1s 256us/step - loss: 22982.3896\n",
      "Epoch 20/200\n",
      "2156/2156 [==============================] - 1s 242us/step - loss: 18106.6903\n",
      "Epoch 21/200\n",
      "2156/2156 [==============================] - 1s 255us/step - loss: 13945.9529\n",
      "Epoch 22/200\n",
      "2156/2156 [==============================] - 1s 302us/step - loss: 10485.7261\n",
      "Epoch 23/200\n",
      "2156/2156 [==============================] - 1s 249us/step - loss: 7693.0818\n",
      "Epoch 24/200\n",
      "2156/2156 [==============================] - 1s 237us/step - loss: 5516.7176\n",
      "Epoch 25/200\n",
      "2156/2156 [==============================] - 1s 234us/step - loss: 3888.5301\n",
      "Epoch 26/200\n",
      "2156/2156 [==============================] - 1s 248us/step - loss: 2726.8993\n",
      "Epoch 27/200\n",
      "2156/2156 [==============================] - 1s 243us/step - loss: 1941.8522\n",
      "Epoch 28/200\n",
      "2156/2156 [==============================] - 1s 244us/step - loss: 1441.8005\n",
      "Epoch 29/200\n",
      "2156/2156 [==============================] - 1s 268us/step - loss: 1140.9990\n",
      "Epoch 30/200\n",
      "2156/2156 [==============================] - 1s 271us/step - loss: 966.0936\n",
      "Epoch 31/200\n",
      "2156/2156 [==============================] - 1s 280us/step - loss: 860.2681\n",
      "Epoch 32/200\n",
      "2156/2156 [==============================] - 1s 255us/step - loss: 783.9645\n",
      "Epoch 33/200\n",
      "2156/2156 [==============================] - 1s 245us/step - loss: 712.6340\n",
      "Epoch 34/200\n",
      "2156/2156 [==============================] - 1s 247us/step - loss: 633.2098\n",
      "Epoch 35/200\n",
      "2156/2156 [==============================] - 1s 287us/step - loss: 541.4306\n",
      "Epoch 36/200\n",
      "2156/2156 [==============================] - 1s 269us/step - loss: 440.7418\n",
      "Epoch 37/200\n",
      "2156/2156 [==============================] - 1s 269us/step - loss: 340.8492\n",
      "Epoch 38/200\n",
      "2156/2156 [==============================] - 1s 244us/step - loss: 253.5002\n",
      "Epoch 39/200\n",
      "2156/2156 [==============================] - 1s 238us/step - loss: 186.8260\n",
      "Epoch 40/200\n",
      "2156/2156 [==============================] - 1s 257us/step - loss: 142.4530\n",
      "Epoch 41/200\n",
      "2156/2156 [==============================] - 1s 233us/step - loss: 116.7734\n",
      "Epoch 42/200\n",
      "2156/2156 [==============================] - 1s 266us/step - loss: 103.9279\n",
      "Epoch 43/200\n",
      "2156/2156 [==============================] - 1s 332us/step - loss: 98.3626\n",
      "Epoch 44/200\n",
      "2156/2156 [==============================] - 1s 265us/step - loss: 96.1950\n",
      "Epoch 45/200\n",
      "2156/2156 [==============================] - 1s 242us/step - loss: 95.3271\n",
      "Epoch 46/200\n",
      "2156/2156 [==============================] - 1s 262us/step - loss: 94.8627\n",
      "Epoch 47/200\n",
      "2156/2156 [==============================] - 1s 251us/step - loss: 94.4956\n",
      "Epoch 48/200\n",
      "2156/2156 [==============================] - 1s 267us/step - loss: 94.1454\n",
      "Epoch 49/200\n",
      "2156/2156 [==============================] - 1s 250us/step - loss: 93.7996\n",
      "Epoch 50/200\n",
      "2156/2156 [==============================] - 1s 243us/step - loss: 93.4608\n",
      "Epoch 51/200\n",
      "2156/2156 [==============================] - 1s 244us/step - loss: 93.1325\n",
      "Epoch 52/200\n",
      "2156/2156 [==============================] - 1s 315us/step - loss: 92.8164\n",
      "Epoch 53/200\n",
      "2156/2156 [==============================] - 1s 259us/step - loss: 92.5130\n",
      "Epoch 54/200\n",
      "2156/2156 [==============================] - 1s 261us/step - loss: 92.2218\n",
      "Epoch 55/200\n",
      "2156/2156 [==============================] - 1s 292us/step - loss: 91.9426\n",
      "Epoch 56/200\n",
      "2156/2156 [==============================] - 1s 255us/step - loss: 91.6743\n",
      "Epoch 57/200\n",
      "2156/2156 [==============================] - 1s 238us/step - loss: 91.4164\n",
      "Epoch 58/200\n",
      "2156/2156 [==============================] - 1s 250us/step - loss: 91.1684\n",
      "Epoch 59/200\n",
      "2156/2156 [==============================] - 1s 250us/step - loss: 90.9295\n",
      "Epoch 60/200\n",
      "2156/2156 [==============================] - 1s 397us/step - loss: 90.6994\n",
      "Epoch 61/200\n",
      "2156/2156 [==============================] - 1s 292us/step - loss: 90.4774\n",
      "Epoch 62/200\n",
      "2156/2156 [==============================] - 1s 292us/step - loss: 90.2633\n",
      "Epoch 63/200\n",
      "2156/2156 [==============================] - 1s 249us/step - loss: 90.0565\n",
      "Epoch 64/200\n",
      "2156/2156 [==============================] - 1s 240us/step - loss: 89.85650s\n",
      "Epoch 65/200\n",
      "2156/2156 [==============================] - 1s 239us/step - loss: 89.6630\n",
      "Epoch 66/200\n",
      "2156/2156 [==============================] - 1s 251us/step - loss: 89.4755\n",
      "Epoch 67/200\n",
      "2156/2156 [==============================] - 1s 237us/step - loss: 89.2936\n",
      "Epoch 68/200\n",
      "2156/2156 [==============================] - 1s 241us/step - loss: 89.1170\n",
      "Epoch 69/200\n",
      "2156/2156 [==============================] - 1s 249us/step - loss: 88.9453\n",
      "Epoch 70/200\n",
      "2156/2156 [==============================] - 1s 264us/step - loss: 88.7781\n",
      "Epoch 71/200\n",
      "2156/2156 [==============================] - 1s 283us/step - loss: 88.6153\n",
      "Epoch 72/200\n",
      "2156/2156 [==============================] - 1s 275us/step - loss: 88.4565\n",
      "Epoch 73/200\n",
      "2156/2156 [==============================] - 1s 276us/step - loss: 88.3015\n",
      "Epoch 74/200\n",
      "2156/2156 [==============================] - 1s 234us/step - loss: 88.1500\n",
      "Epoch 75/200\n",
      "2156/2156 [==============================] - 0s 225us/step - loss: 88.0018\n",
      "Epoch 76/200\n",
      "2156/2156 [==============================] - 1s 242us/step - loss: 87.8570\n",
      "Epoch 77/200\n",
      "2156/2156 [==============================] - 1s 232us/step - loss: 87.7151\n",
      "Epoch 78/200\n",
      "2156/2156 [==============================] - 0s 230us/step - loss: 87.5762\n",
      "Epoch 79/200\n",
      "2156/2156 [==============================] - 1s 288us/step - loss: 87.4400\n",
      "Epoch 80/200\n",
      "2156/2156 [==============================] - 1s 251us/step - loss: 87.3065\n",
      "Epoch 81/200\n",
      "2156/2156 [==============================] - 1s 244us/step - loss: 87.1755\n",
      "Epoch 82/200\n",
      "2156/2156 [==============================] - 1s 246us/step - loss: 87.0471\n",
      "Epoch 83/200\n",
      "2156/2156 [==============================] - 1s 237us/step - loss: 86.9211\n",
      "Epoch 84/200\n",
      "2156/2156 [==============================] - 0s 231us/step - loss: 86.7975\n",
      "Epoch 85/200\n",
      "2156/2156 [==============================] - 1s 232us/step - loss: 86.6762\n",
      "Epoch 86/200\n",
      "2156/2156 [==============================] - 1s 240us/step - loss: 86.5572\n",
      "Epoch 87/200\n",
      "2156/2156 [==============================] - 1s 244us/step - loss: 86.4404\n",
      "Epoch 88/200\n",
      "2156/2156 [==============================] - 1s 252us/step - loss: 86.3259\n",
      "Epoch 89/200\n",
      "2156/2156 [==============================] - 1s 244us/step - loss: 86.2136\n",
      "Epoch 90/200\n",
      "2156/2156 [==============================] - 1s 240us/step - loss: 86.1033\n",
      "Epoch 91/200\n",
      "2156/2156 [==============================] - 1s 332us/step - loss: 85.9954\n",
      "Epoch 92/200\n",
      "2156/2156 [==============================] - 1s 292us/step - loss: 85.8895\n",
      "Epoch 93/200\n"
     ]
    },
    {
     "name": "stdout",
     "output_type": "stream",
     "text": [
      "2156/2156 [==============================] - 1s 281us/step - loss: 85.7858\n",
      "Epoch 94/200\n",
      "2156/2156 [==============================] - 1s 278us/step - loss: 85.6843\n",
      "Epoch 95/200\n",
      "2156/2156 [==============================] - 1s 307us/step - loss: 85.5849\n",
      "Epoch 96/200\n",
      "2156/2156 [==============================] - 1s 309us/step - loss: 85.4877\n",
      "Epoch 97/200\n",
      "2156/2156 [==============================] - 1s 279us/step - loss: 85.3927\n",
      "Epoch 98/200\n",
      "2156/2156 [==============================] - 0s 226us/step - loss: 85.2998\n",
      "Epoch 99/200\n",
      "2156/2156 [==============================] - 1s 280us/step - loss: 85.2091\n",
      "Epoch 100/200\n",
      "2156/2156 [==============================] - 1s 290us/step - loss: 85.1206\n",
      "Epoch 101/200\n",
      "2156/2156 [==============================] - 1s 263us/step - loss: 85.0344\n",
      "Epoch 102/200\n",
      "2156/2156 [==============================] - 1s 263us/step - loss: 84.9504\n",
      "Epoch 103/200\n",
      "2156/2156 [==============================] - 1s 276us/step - loss: 84.8686\n",
      "Epoch 104/200\n",
      "2156/2156 [==============================] - 1s 286us/step - loss: 84.7891\n",
      "Epoch 105/200\n",
      "2156/2156 [==============================] - 0s 230us/step - loss: 84.7119\n",
      "Epoch 106/200\n",
      "2156/2156 [==============================] - 0s 228us/step - loss: 84.6369\n",
      "Epoch 107/200\n",
      "2156/2156 [==============================] - 1s 426us/step - loss: 84.5643\n",
      "Epoch 108/200\n",
      "2156/2156 [==============================] - 1s 236us/step - loss: 84.4940\n",
      "Epoch 109/200\n",
      "2156/2156 [==============================] - 0s 228us/step - loss: 84.4261\n",
      "Epoch 110/200\n",
      "2156/2156 [==============================] - 0s 231us/step - loss: 84.3605\n",
      "Epoch 111/200\n",
      "2156/2156 [==============================] - 1s 240us/step - loss: 84.2973\n",
      "Epoch 112/200\n",
      "2156/2156 [==============================] - 0s 227us/step - loss: 84.2365\n",
      "Epoch 113/200\n",
      "2156/2156 [==============================] - 1s 235us/step - loss: 84.1781\n",
      "Epoch 114/200\n",
      "2156/2156 [==============================] - 0s 225us/step - loss: 84.1220\n",
      "Epoch 115/200\n",
      "2156/2156 [==============================] - 0s 229us/step - loss: 84.0684\n",
      "Epoch 116/200\n",
      "2156/2156 [==============================] - 0s 228us/step - loss: 84.0172\n",
      "Epoch 117/200\n",
      "2156/2156 [==============================] - 0s 231us/step - loss: 83.9684\n",
      "Epoch 118/200\n",
      "2156/2156 [==============================] - 1s 241us/step - loss: 83.9221\n",
      "Epoch 119/200\n",
      "2156/2156 [==============================] - 0s 227us/step - loss: 83.8781\n",
      "Epoch 120/200\n",
      "2156/2156 [==============================] - 0s 225us/step - loss: 83.8365\n",
      "Epoch 121/200\n",
      "2156/2156 [==============================] - 1s 234us/step - loss: 83.7973\n",
      "Epoch 122/200\n",
      "2156/2156 [==============================] - 0s 226us/step - loss: 83.7604\n",
      "Epoch 123/200\n",
      "2156/2156 [==============================] - 0s 229us/step - loss: 83.7259\n",
      "Epoch 124/200\n",
      "2156/2156 [==============================] - 1s 232us/step - loss: 83.6936\n",
      "Epoch 125/200\n",
      "2156/2156 [==============================] - 0s 228us/step - loss: 83.6636\n",
      "Epoch 126/200\n",
      "2156/2156 [==============================] - 1s 347us/step - loss: 83.6358\n",
      "Epoch 127/200\n",
      "2156/2156 [==============================] - 1s 312us/step - loss: 83.6101\n",
      "Epoch 128/200\n",
      "2156/2156 [==============================] - 1s 338us/step - loss: 83.5865\n",
      "Epoch 129/200\n",
      "2156/2156 [==============================] - 1s 362us/step - loss: 83.5649\n",
      "Epoch 130/200\n",
      "2156/2156 [==============================] - 1s 276us/step - loss: 83.5451\n",
      "Epoch 131/200\n",
      "2156/2156 [==============================] - 1s 251us/step - loss: 83.5271\n",
      "Epoch 132/200\n",
      "2156/2156 [==============================] - 1s 426us/step - loss: 83.5108\n",
      "Epoch 133/200\n",
      "2156/2156 [==============================] - 1s 281us/step - loss: 83.4959\n",
      "Epoch 134/200\n",
      "2156/2156 [==============================] - 1s 239us/step - loss: 83.4824\n",
      "Epoch 135/200\n",
      "2156/2156 [==============================] - 1s 260us/step - loss: 83.4702\n",
      "Epoch 136/200\n",
      "2156/2156 [==============================] - 1s 246us/step - loss: 83.4589\n",
      "Epoch 137/200\n",
      "2156/2156 [==============================] - 1s 254us/step - loss: 83.4484\n",
      "Epoch 138/200\n",
      "2156/2156 [==============================] - 1s 249us/step - loss: 83.4385\n",
      "Epoch 139/200\n",
      "2156/2156 [==============================] - 1s 244us/step - loss: 83.4292\n",
      "Epoch 140/200\n",
      "2156/2156 [==============================] - 1s 234us/step - loss: 83.4202\n",
      "Epoch 141/200\n",
      "2156/2156 [==============================] - 1s 233us/step - loss: 83.4114\n",
      "Epoch 142/200\n",
      "2156/2156 [==============================] - 1s 254us/step - loss: 83.4028\n",
      "Epoch 143/200\n",
      "2156/2156 [==============================] - 1s 258us/step - loss: 83.3943\n",
      "Epoch 144/200\n",
      "2156/2156 [==============================] - 1s 293us/step - loss: 83.3858\n",
      "Epoch 145/200\n",
      "2156/2156 [==============================] - 1s 281us/step - loss: 83.3774\n",
      "Epoch 146/200\n",
      "2156/2156 [==============================] - 1s 248us/step - loss: 83.3689\n",
      "Epoch 147/200\n",
      "2156/2156 [==============================] - 1s 236us/step - loss: 83.3605\n",
      "Epoch 148/200\n",
      "2156/2156 [==============================] - 1s 261us/step - loss: 83.3521\n",
      "Epoch 149/200\n",
      "2156/2156 [==============================] - 1s 238us/step - loss: 83.3437\n",
      "Epoch 150/200\n",
      "2156/2156 [==============================] - 1s 236us/step - loss: 83.3353\n",
      "Epoch 151/200\n",
      "2156/2156 [==============================] - 1s 249us/step - loss: 83.3270\n",
      "Epoch 152/200\n",
      "2156/2156 [==============================] - 1s 238us/step - loss: 83.3186\n",
      "Epoch 153/200\n",
      "2156/2156 [==============================] - 0s 230us/step - loss: 83.3103\n",
      "Epoch 154/200\n",
      "2156/2156 [==============================] - 1s 262us/step - loss: 83.3019\n",
      "Epoch 155/200\n",
      "2156/2156 [==============================] - 1s 274us/step - loss: 83.2936\n",
      "Epoch 156/200\n",
      "2156/2156 [==============================] - 1s 358us/step - loss: 83.2852\n",
      "Epoch 157/200\n",
      "2156/2156 [==============================] - 1s 314us/step - loss: 83.2769\n",
      "Epoch 158/200\n",
      "2156/2156 [==============================] - 1s 247us/step - loss: 83.2686\n",
      "Epoch 159/200\n",
      "2156/2156 [==============================] - 1s 245us/step - loss: 83.2603\n",
      "Epoch 160/200\n",
      "2156/2156 [==============================] - 1s 305us/step - loss: 83.2520\n",
      "Epoch 161/200\n",
      "2156/2156 [==============================] - 1s 265us/step - loss: 83.2437\n",
      "Epoch 162/200\n",
      "2156/2156 [==============================] - 1s 269us/step - loss: 83.2354\n",
      "Epoch 163/200\n",
      "2156/2156 [==============================] - 1s 387us/step - loss: 83.2271\n",
      "Epoch 164/200\n",
      "2156/2156 [==============================] - 1s 255us/step - loss: 83.2188\n",
      "Epoch 165/200\n",
      "2156/2156 [==============================] - 1s 238us/step - loss: 83.2105\n",
      "Epoch 166/200\n",
      "2156/2156 [==============================] - 1s 238us/step - loss: 83.2022\n",
      "Epoch 167/200\n",
      "2156/2156 [==============================] - 1s 237us/step - loss: 83.1939\n",
      "Epoch 168/200\n",
      "2156/2156 [==============================] - 1s 238us/step - loss: 83.1857\n",
      "Epoch 169/200\n",
      "2156/2156 [==============================] - 1s 256us/step - loss: 83.1774\n",
      "Epoch 170/200\n",
      "2156/2156 [==============================] - 1s 239us/step - loss: 83.1691\n",
      "Epoch 171/200\n",
      "2156/2156 [==============================] - 0s 231us/step - loss: 83.1609\n",
      "Epoch 172/200\n",
      "2156/2156 [==============================] - 1s 233us/step - loss: 83.1526\n",
      "Epoch 173/200\n",
      "2156/2156 [==============================] - 0s 226us/step - loss: 83.1443\n",
      "Epoch 174/200\n",
      "2156/2156 [==============================] - 1s 262us/step - loss: 83.1361\n",
      "Epoch 175/200\n",
      "2156/2156 [==============================] - 1s 250us/step - loss: 83.1278\n",
      "Epoch 176/200\n",
      "2156/2156 [==============================] - 1s 245us/step - loss: 83.1196\n",
      "Epoch 177/200\n",
      "2156/2156 [==============================] - 1s 250us/step - loss: 83.1113\n",
      "Epoch 178/200\n",
      "2156/2156 [==============================] - 1s 244us/step - loss: 83.1031\n",
      "Epoch 179/200\n",
      "2156/2156 [==============================] - 1s 291us/step - loss: 83.0948\n",
      "Epoch 180/200\n",
      "2156/2156 [==============================] - 1s 279us/step - loss: 83.0866\n",
      "Epoch 181/200\n",
      "2156/2156 [==============================] - 1s 282us/step - loss: 83.0784\n",
      "Epoch 182/200\n",
      "2156/2156 [==============================] - 1s 263us/step - loss: 83.0701\n",
      "Epoch 183/200\n",
      "2156/2156 [==============================] - 1s 249us/step - loss: 83.0619\n",
      "Epoch 184/200\n",
      "2156/2156 [==============================] - 1s 360us/step - loss: 83.0536\n",
      "Epoch 185/200\n"
     ]
    },
    {
     "name": "stdout",
     "output_type": "stream",
     "text": [
      "2156/2156 [==============================] - 1s 328us/step - loss: 83.0455\n",
      "Epoch 186/200\n",
      "2156/2156 [==============================] - 1s 236us/step - loss: 83.0372\n",
      "Epoch 187/200\n",
      "2156/2156 [==============================] - 1s 249us/step - loss: 83.0290\n",
      "Epoch 188/200\n",
      "2156/2156 [==============================] - 1s 247us/step - loss: 83.0207\n",
      "Epoch 189/200\n",
      "2156/2156 [==============================] - 1s 255us/step - loss: 83.0125\n",
      "Epoch 190/200\n",
      "2156/2156 [==============================] - 1s 234us/step - loss: 83.0043\n",
      "Epoch 191/200\n",
      "2156/2156 [==============================] - 1s 239us/step - loss: 82.9960\n",
      "Epoch 192/200\n",
      "2156/2156 [==============================] - 1s 274us/step - loss: 82.9878\n",
      "Epoch 193/200\n",
      "2156/2156 [==============================] - 1s 243us/step - loss: 82.9796\n",
      "Epoch 194/200\n",
      "2156/2156 [==============================] - 1s 291us/step - loss: 82.9713\n",
      "Epoch 195/200\n",
      "2156/2156 [==============================] - 1s 323us/step - loss: 82.9632\n",
      "Epoch 196/200\n",
      "2156/2156 [==============================] - 1s 391us/step - loss: 82.9549\n",
      "Epoch 197/200\n",
      "2156/2156 [==============================] - 1s 316us/step - loss: 82.9467\n",
      "Epoch 198/200\n",
      "2156/2156 [==============================] - 1s 254us/step - loss: 82.9385\n",
      "Epoch 199/200\n",
      "2156/2156 [==============================] - 1s 358us/step - loss: 82.9302\n",
      "Epoch 200/200\n",
      "2156/2156 [==============================] - 1s 357us/step - loss: 82.9220\n"
     ]
    }
   ],
   "source": [
    "from keras.models import Sequential\n",
    "from keras.layers import Dense\n",
    "import keras.backend as K\n",
    "from keras.callbacks import EarlyStopping\n",
    "from keras.optimizers import Adam\n",
    "from keras.models import load_model\n",
    "from keras.layers import LSTM\n",
    "K.clear_session()\n",
    "model_lstm = Sequential()\n",
    "model_lstm.add(LSTM(16, input_shape=(1, X_train.shape[1]), activation='relu', return_sequences=False))\n",
    "model_lstm.add(Dense(1))\n",
    "model_lstm.compile(loss='mean_squared_error', optimizer='adam')\n",
    "early_stop = EarlyStopping(monitor='loss', patience=5, verbose=1)\n",
    "history_model_lstm = model_lstm.fit(X_tr_t, y_train, epochs=200, batch_size=8, verbose=1, shuffle=False, callbacks=[early_stop])"
   ]
  },
  {
   "cell_type": "code",
   "execution_count": 103,
   "metadata": {},
   "outputs": [
    {
     "name": "stdout",
     "output_type": "stream",
     "text": [
      "The R2 score on the Train set is:\t0.996\n",
      "The R2 score on the Test set is:\t0.962\n"
     ]
    }
   ],
   "source": [
    "y_pred_test_lstm = model_lstm.predict(X_tst_t)\n",
    "y_train_pred_lstm = model_lstm.predict(X_tr_t)\n",
    "print(\"The R2 score on the Train set is:\\t{:0.3f}\".format(r2_score(y_train, y_train_pred_lstm)))\n",
    "r2_train = r2_score(y_train, y_train_pred_lstm)\n",
    "\n",
    "print(\"The R2 score on the Test set is:\\t{:0.3f}\".format(r2_score(y_test, y_pred_test_lstm)))\n",
    "r2_test = r2_score(y_test, y_pred_test_lstm)"
   ]
  },
  {
   "cell_type": "code",
   "execution_count": 104,
   "metadata": {},
   "outputs": [
    {
     "name": "stdout",
     "output_type": "stream",
     "text": [
      "215/215 [==============================] - 0s 1ms/step\n"
     ]
    }
   ],
   "source": [
    "score_lstm= model_lstm.evaluate(X_tst_t, y_test, batch_size=1)"
   ]
  },
  {
   "cell_type": "code",
   "execution_count": 105,
   "metadata": {},
   "outputs": [
    {
     "name": "stdout",
     "output_type": "stream",
     "text": [
      "LSTM: 214.358249\n"
     ]
    }
   ],
   "source": [
    "print('LSTM: %f'%score_lstm)"
   ]
  },
  {
   "cell_type": "code",
   "execution_count": 106,
   "metadata": {},
   "outputs": [],
   "source": [
    "y_pred_test_LSTM = model_lstm.predict(X_tst_t)"
   ]
  },
  {
   "cell_type": "code",
   "execution_count": 107,
   "metadata": {},
   "outputs": [
    {
     "data": {
      "image/png": "[encoded data removed]",
      "text/plain": [
       "<Figure size 864x432 with 1 Axes>"
      ]
     },
     "metadata": {
      "needs_background": "light"
     },
     "output_type": "display_data"
    }
   ],
   "source": [
    "plt.figure(figsize=(12,6))\n",
    "plt.plot(y_test, label='True')\n",
    "plt.plot(y_pred_test_LSTM, label='LSTM')\n",
    "plt.title(\"LSTM's_Prediction - AXIS BANK\")\n",
    "plt.xlabel('Observation')\n",
    "plt.ylabel('INR_Scaled')\n",
    "plt.legend()\n",
    "plt.show()"
   ]
  },
  {
   "cell_type": "code",
   "execution_count": 108,
   "metadata": {},
   "outputs": [
    {
     "data": {
      "text/html": [
       "<div>\n",
       "<style scoped>\n",
       "    .dataframe tbody tr th:only-of-type {\n",
       "        vertical-align: middle;\n",
       "    }\n",
       "\n",
       "    .dataframe tbody tr th {\n",
       "        vertical-align: top;\n",
       "    }\n",
       "\n",
       "    .dataframe thead th {\n",
       "        text-align: right;\n",
       "    }\n",
       "</style>\n",
       "<table border=\"1\" class=\"dataframe\">\n",
       "  <thead>\n",
       "    <tr style=\"text-align: right;\">\n",
       "      <th></th>\n",
       "      <th>Actual Value</th>\n",
       "      <th>LSTM Prediction</th>\n",
       "      <th>Loss_LSTM</th>\n",
       "    </tr>\n",
       "  </thead>\n",
       "  <tbody>\n",
       "    <tr>\n",
       "      <th>0</th>\n",
       "      <td>612.349976</td>\n",
       "      <td>606.354492</td>\n",
       "      <td>158597.839554</td>\n",
       "    </tr>\n",
       "    <tr>\n",
       "      <th>1</th>\n",
       "      <td>593.950012</td>\n",
       "      <td>602.208374</td>\n",
       "      <td>156260.575067</td>\n",
       "    </tr>\n",
       "    <tr>\n",
       "      <th>2</th>\n",
       "      <td>570.700012</td>\n",
       "      <td>598.346313</td>\n",
       "      <td>151815.791527</td>\n",
       "    </tr>\n",
       "    <tr>\n",
       "      <th>3</th>\n",
       "      <td>586.099976</td>\n",
       "      <td>586.916016</td>\n",
       "      <td>145668.523988</td>\n",
       "    </tr>\n",
       "    <tr>\n",
       "      <th>4</th>\n",
       "      <td>568.450012</td>\n",
       "      <td>569.568848</td>\n",
       "      <td>138338.279293</td>\n",
       "    </tr>\n",
       "  </tbody>\n",
       "</table>\n",
       "</div>"
      ],
      "text/plain": [
       "   Actual Value  LSTM Prediction      Loss_LSTM\n",
       "0    612.349976       606.354492  158597.839554\n",
       "1    593.950012       602.208374  156260.575067\n",
       "2    570.700012       598.346313  151815.791527\n",
       "3    586.099976       586.916016  145668.523988\n",
       "4    568.450012       569.568848  138338.279293"
      ]
     },
     "execution_count": 108,
     "metadata": {},
     "output_type": "execute_result"
    }
   ],
   "source": [
    "col1 = pd.DataFrame(y_test, columns=['Actual Value'])\n",
    "\n",
    "col2 = pd.DataFrame(y_pred_test_LSTM, columns=['LSTM Prediction'])\n",
    "\n",
    "col3 = pd.DataFrame(history_model_lstm.history['loss'], columns=['Loss_LSTM'])\n",
    "results = pd.concat([col1, col2, col3], axis=1)\n",
    "results.head(5)"
   ]
  },
  {
   "cell_type": "code",
   "execution_count": 109,
   "metadata": {},
   "outputs": [
    {
     "name": "stdout",
     "output_type": "stream",
     "text": [
      "Mean Absolute Error: 11.262476437590843\n",
      "Mean Squared Error: 214.35819540313167\n",
      "Root Mean Squared Error: 14.640976586386978\n"
     ]
    }
   ],
   "source": [
    "from sklearn import metrics\n",
    "print('Mean Absolute Error:', metrics.mean_absolute_error(y_test, y_pred_test_LSTM))\n",
    "print('Mean Squared Error:', metrics.mean_squared_error(y_test,y_pred_test_LSTM ))\n",
    "print('Root Mean Squared Error:', np.sqrt(metrics.mean_squared_error(y_test,y_pred_test_LSTM )))"
   ]
  }
 ],
 "metadata": {
  "hide_input": false,
  "kernelspec": {
   "display_name": "Python 3",
   "language": "python",
   "name": "python3"
  },
  "language_info": {
   "codemirror_mode": {
    "name": "ipython",
    "version": 3
   },
   "file_extension": ".py",
   "mimetype": "text/x-python",
   "name": "python",
   "nbconvert_exporter": "python",
   "pygments_lexer": "ipython3",
   "version": "3.7.6"
  }
 },
 "nbformat": 4,
 "nbformat_minor": 4
}
